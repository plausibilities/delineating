{
 "cells": [
  {
   "cell_type": "markdown",
   "id": "12ff85d2-a615-44b7-8376-6b767072ce72",
   "metadata": {},
   "source": [
    "# Preliminaries"
   ]
  },
  {
   "cell_type": "code",
   "execution_count": null,
   "id": "0007da65-a9db-493a-a65c-6fcb17522b88",
   "metadata": {},
   "outputs": [],
   "source": [
    "!python --version"
   ]
  },
  {
   "cell_type": "markdown",
   "id": "73d16c72-2d28-4fab-b572-21f3399dd9c9",
   "metadata": {},
   "source": [
    "<br>\n",
    "\n",
    "## Environment"
   ]
  },
  {
   "cell_type": "code",
   "execution_count": null,
   "id": "79b0a44c-1678-40ef-951a-194879995b8e",
   "metadata": {},
   "outputs": [],
   "source": [
    "import os\n",
    "import pathlib"
   ]
  },
  {
   "cell_type": "markdown",
   "id": "9bf81a01-1e4e-482d-8201-d6595b04e1b5",
   "metadata": {},
   "source": [
    "<br>\n",
    "\n",
    "Set path"
   ]
  },
  {
   "cell_type": "code",
   "execution_count": null,
   "id": "21f97165-1142-4ac8-8265-423d428b3608",
   "metadata": {},
   "outputs": [],
   "source": [
    "os.chdir(path=str(pathlib.Path(os.getcwd()).parent))"
   ]
  },
  {
   "cell_type": "code",
   "execution_count": null,
   "id": "2486b523-7ae9-45af-b619-05d2b1e3855b",
   "metadata": {},
   "outputs": [],
   "source": [
    "os.getcwd()"
   ]
  },
  {
   "cell_type": "markdown",
   "id": "b04b45c4-4413-4c76-83d2-c83272937361",
   "metadata": {},
   "source": [
    "<br>\n",
    "\n",
    "## Libraries"
   ]
  },
  {
   "cell_type": "code",
   "execution_count": null,
   "id": "62500f62-fa51-4675-8765-d11f5d088ccf",
   "metadata": {},
   "outputs": [],
   "source": [
    "%matplotlib inline"
   ]
  },
  {
   "cell_type": "code",
   "execution_count": null,
   "id": "a50fb0ed-d6c4-4d20-a82d-095d080227af",
   "metadata": {},
   "outputs": [],
   "source": [
    "import logging\n",
    "import collections\n",
    "\n",
    "import matplotlib.pyplot as plt\n",
    "import numpy as np\n",
    "import pandas as pd\n",
    "\n",
    "import arviz as az\n",
    "import pymc as pm\n",
    "import xarray as xr\n",
    "import aesara.tensor as at\n",
    "import graphviz"
   ]
  },
  {
   "cell_type": "markdown",
   "id": "f96db317-945e-4c4d-b59f-deaa03563865",
   "metadata": {},
   "source": [
    "<br>\n",
    "\n",
    "Versions"
   ]
  },
  {
   "cell_type": "code",
   "execution_count": null,
   "id": "d6e77568-391d-475b-a249-35101e36fad7",
   "metadata": {},
   "outputs": [],
   "source": [
    "az.__version__"
   ]
  },
  {
   "cell_type": "code",
   "execution_count": null,
   "id": "392d5bc2-4933-407c-948c-ffb60f8c2fda",
   "metadata": {},
   "outputs": [],
   "source": [
    "pm.__version__"
   ]
  },
  {
   "cell_type": "code",
   "execution_count": null,
   "id": "3ff9bc4a-e1cd-41e5-a6ce-9bba5f0dd945",
   "metadata": {},
   "outputs": [],
   "source": [
    "np.__version__"
   ]
  },
  {
   "cell_type": "markdown",
   "id": "d6a42025-827c-4d62-b758-05d82eb34658",
   "metadata": {},
   "source": [
    "<br>\n",
    "\n",
    "## Custom"
   ]
  },
  {
   "cell_type": "code",
   "execution_count": null,
   "id": "8e98ba43-fda0-47a8-8ae5-ac5917a6c7ab",
   "metadata": {},
   "outputs": [],
   "source": [
    "import src.graphics.settings\n",
    "import src.graphics.sketch"
   ]
  },
  {
   "cell_type": "markdown",
   "id": "3397f6cd-ea8c-48ef-863f-71a35c71bcdd",
   "metadata": {},
   "source": [
    "<br>\n",
    "\n",
    "Aesthetics"
   ]
  },
  {
   "cell_type": "code",
   "execution_count": null,
   "id": "43bdea7a-b6f2-490b-8f5a-fc951f19ac90",
   "metadata": {},
   "outputs": [],
   "source": [
    "settings = src.graphics.settings.Settings()\n",
    "\n",
    "settings.layout()\n",
    "settings.aesthetics()"
   ]
  },
  {
   "cell_type": "markdown",
   "id": "48fe87f8-35ac-4ad9-8bc1-4fcf5d529d27",
   "metadata": {},
   "source": [
    "<br>\n",
    "\n",
    "For diagrams/figures"
   ]
  },
  {
   "cell_type": "code",
   "execution_count": null,
   "id": "747590a0-afb7-4779-90d0-d69628c67ebf",
   "metadata": {},
   "outputs": [],
   "source": [
    "sketch = src.graphics.sketch.Sketch()"
   ]
  },
  {
   "cell_type": "code",
   "execution_count": null,
   "id": "83806ad4-3200-440c-83c9-07ec28e75ae9",
   "metadata": {},
   "outputs": [],
   "source": [
    "Labels = collections.namedtuple(typename='Labels', field_names=['title', 'xlabel', 'ylabel'])"
   ]
  },
  {
   "cell_type": "markdown",
   "id": "3afbf959-c16f-4409-9599-8ec6d7c6d1b0",
   "metadata": {},
   "source": [
    "<br>\n",
    "\n",
    "## Settings"
   ]
  },
  {
   "cell_type": "markdown",
   "id": "fa6a93e3-2f26-4bd6-ad8d-374a6dd0be8e",
   "metadata": {},
   "source": [
    "Seed"
   ]
  },
  {
   "cell_type": "code",
   "execution_count": null,
   "id": "3f00eba3-ec00-4dfa-9003-b17527463777",
   "metadata": {},
   "outputs": [],
   "source": [
    "RANDOM_SEED = 8924"
   ]
  },
  {
   "cell_type": "markdown",
   "id": "6977195b-7c83-45b4-9bb2-82db03c41387",
   "metadata": {},
   "source": [
    "<br>\n",
    "\n",
    "Graphing"
   ]
  },
  {
   "cell_type": "code",
   "execution_count": null,
   "id": "5c70e3df-ee75-42e0-96ca-0fcd8b99585e",
   "metadata": {},
   "outputs": [],
   "source": [
    "az.style.use('arviz-darkgrid')"
   ]
  },
  {
   "cell_type": "markdown",
   "id": "f54f9311-530c-44cb-911a-f200ca0bb8ce",
   "metadata": {},
   "source": [
    "<br>\n",
    "\n",
    "## Logging"
   ]
  },
  {
   "cell_type": "code",
   "execution_count": null,
   "id": "5096d6ea-d2db-4715-876b-46b5a5531021",
   "metadata": {},
   "outputs": [],
   "source": [
    "logging.basicConfig(level=logging.INFO, \n",
    "                    format='\\n%(message)s\\n%(asctime)s.%(msecs)03d\\n', \n",
    "                    datefmt='%Y-%m-%d %H:%M:%S')\n",
    "logger = logging.getLogger(__name__)"
   ]
  },
  {
   "cell_type": "markdown",
   "id": "36280a57-9123-447f-be10-3ada0ef74ec7",
   "metadata": {},
   "source": [
    "<br>\n",
    "<br>\n",
    "\n",
    "# Data"
   ]
  },
  {
   "cell_type": "markdown",
   "id": "4fd33a37-a02f-4995-bf3a-fd1a7a9eaba3",
   "metadata": {},
   "source": [
    "## Dwelling Level"
   ]
  },
  {
   "cell_type": "code",
   "execution_count": null,
   "id": "a0b6f462-a350-4857-aed8-e16aba13a843",
   "metadata": {},
   "outputs": [],
   "source": [
    "try:\n",
    "    data = pd.read_csv(filepath_or_buffer=pm.get_data('srrs2.dat'))\n",
    "except FileNotFoundError as err:\n",
    "    raise Exception(err.strerror)"
   ]
  },
  {
   "cell_type": "code",
   "execution_count": null,
   "id": "d368dd40-e105-4f8f-901c-61abf13fc2af",
   "metadata": {},
   "outputs": [],
   "source": [
    "data.columns"
   ]
  },
  {
   "cell_type": "code",
   "execution_count": null,
   "id": "267f45f7-85a7-4823-9b1c-36f6ca08e294",
   "metadata": {},
   "outputs": [],
   "source": [
    "data.rename(mapper=str.strip, axis='columns', inplace=True)"
   ]
  },
  {
   "cell_type": "code",
   "execution_count": null,
   "id": "04997126-4bfa-4799-a50a-14f8e4baa1d7",
   "metadata": {},
   "outputs": [],
   "source": [
    "data.head()"
   ]
  },
  {
   "cell_type": "markdown",
   "id": "5d7239ee-1a3f-4157-85e9-1144b375c249",
   "metadata": {},
   "source": [
    "<br>\n",
    "\n",
    "Structuring; concatenating the `pure state` & `pure county` codes\n",
    "\n",
    "* [FIPS States](https://en.wikipedia.org/wiki/Federal_Information_Processing_Standard_state_code)\n",
    "* [FIPS Counties](https://en.wikipedia.org/wiki/List_of_United_States_FIPS_codes_by_county)\n"
   ]
  },
  {
   "cell_type": "code",
   "execution_count": null,
   "id": "7afdc33b-278c-4655-9fc2-a41aaa56c779",
   "metadata": {},
   "outputs": [],
   "source": [
    "data.loc[:, 'fips'] = data.stfips.astype(str).str.zfill(2) + data.cntyfips.astype(str).str.zfill(3)\n",
    "data.head()"
   ]
  },
  {
   "cell_type": "markdown",
   "id": "57e80fbd-a6a7-404a-8fab-0cba5d4b2b1b",
   "metadata": {},
   "source": [
    "<br>\n",
    "\n",
    "## County Level"
   ]
  },
  {
   "cell_type": "code",
   "execution_count": null,
   "id": "80a21b9b-5166-4c5b-860b-6ceeba936e20",
   "metadata": {},
   "outputs": [],
   "source": [
    "try:\n",
    "    counties = pd.read_csv(filepath_or_buffer=pm.get_data('cty.dat'))\n",
    "except FileNotFoundError as err:\n",
    "    raise Exception(err.strerror)"
   ]
  },
  {
   "cell_type": "code",
   "execution_count": null,
   "id": "2e4f6bec-e388-417f-8e4b-4c4a1e592048",
   "metadata": {},
   "outputs": [],
   "source": [
    "counties.loc[:, 'fips'] = counties.stfips.astype(str).str.zfill(2) + counties.ctfips.astype(str).str.zfill(3)"
   ]
  },
  {
   "cell_type": "markdown",
   "id": "c7a58b75-4db4-4638-90fe-9d398188a7af",
   "metadata": {},
   "source": [
    "<br>\n",
    "\n",
    "## Excerpting & Merging"
   ]
  },
  {
   "cell_type": "markdown",
   "id": "7a167930-7cc3-4638-b37e-29891913387d",
   "metadata": {},
   "source": [
    "Excerpt: Focus on Minnesota, MN, dwellings."
   ]
  },
  {
   "cell_type": "code",
   "execution_count": null,
   "id": "9c785fd9-3d32-430f-bda3-83eb6f7e0213",
   "metadata": {},
   "outputs": [],
   "source": [
    "excerpt = data.loc[data['state'] == 'MN', :]\n",
    "excerpt.head()"
   ]
  },
  {
   "cell_type": "markdown",
   "id": "4f6b3f77-0d09-49f8-9e12-1024d324858b",
   "metadata": {},
   "source": [
    "<br>\n",
    "\n",
    "Merge dwelling & county level [uranium] data."
   ]
  },
  {
   "cell_type": "code",
   "execution_count": null,
   "id": "563a97ae-3402-4f5b-9af8-ab6b9c7d919c",
   "metadata": {},
   "outputs": [],
   "source": [
    "excerpt = excerpt.merge(counties[['fips', 'Uppm']], how='left', on='fips')\n",
    "excerpt.columns"
   ]
  },
  {
   "cell_type": "code",
   "execution_count": null,
   "id": "ed799bd3-2626-44a4-85b6-c07632f27add",
   "metadata": {},
   "outputs": [],
   "source": [
    "excerpt.head()"
   ]
  },
  {
   "cell_type": "markdown",
   "id": "9a43f55c-ff26-4b4e-84f1-b34aa5376bdd",
   "metadata": {},
   "source": [
    "<br>\n",
    "\n",
    "## Duplicates"
   ]
  },
  {
   "cell_type": "code",
   "execution_count": null,
   "id": "5d651310-5b0b-4020-91e6-1aca769372ad",
   "metadata": {},
   "outputs": [],
   "source": [
    "logger.info(f'# of instances: {excerpt.shape}')\n",
    "logger.info(f'# of unique instances: {excerpt.drop_duplicates().shape}')\n",
    "logger.info(f\"# of unique codes: {excerpt['idnum'].unique().shape}\")"
   ]
  },
  {
   "cell_type": "markdown",
   "id": "63b5196c-57f9-4218-9525-0ccb52d7aea2",
   "metadata": {},
   "source": [
    "<br>\n",
    "\n",
    "Hence"
   ]
  },
  {
   "cell_type": "code",
   "execution_count": null,
   "id": "c23c58f9-2a6c-4782-a6a6-c6ce9eb378b3",
   "metadata": {},
   "outputs": [],
   "source": [
    "excerpt.drop_duplicates(inplace=True)\n",
    "excerpt['idnum'].unique().shape"
   ]
  },
  {
   "cell_type": "markdown",
   "id": "6743b0f5-e680-49dc-be08-9fd521f9b60d",
   "metadata": {},
   "source": [
    "<br>\n",
    "<br>\n",
    "\n",
    "# Explore"
   ]
  },
  {
   "cell_type": "code",
   "execution_count": null,
   "id": "c561a6c7-accd-4257-9937-edc397d9f184",
   "metadata": {},
   "outputs": [],
   "source": [
    "excerpt.loc[:, 'ln_radon'] = np.log(excerpt['activity'] + 0.1)"
   ]
  },
  {
   "cell_type": "code",
   "execution_count": null,
   "id": "68327d5b-9df8-46c7-82d6-c7d2313b3e76",
   "metadata": {},
   "outputs": [],
   "source": [
    "ax = sketch.figure(width=3.1, height=2.7)\n",
    "ax.hist(excerpt.ln_radon, bins=25)\n",
    "sketch.annotation(ax, Labels(title='', xlabel='bins', ylabel='frequency'))"
   ]
  },
  {
   "cell_type": "markdown",
   "id": "e55f0465-2eb2-43c7-888e-79f05b48e902",
   "metadata": {},
   "source": [
    "<br>\n",
    "<br>\n",
    "\n",
    "# Model"
   ]
  },
  {
   "cell_type": "markdown",
   "id": "fab91a79-250a-4f12-890d-ffe689a95d70",
   "metadata": {},
   "source": [
    "## Simple"
   ]
  },
  {
   "cell_type": "markdown",
   "id": "06a61dd5-cf8f-4eb0-9325-10ae465ee246",
   "metadata": {},
   "source": [
    "<br>\n",
    "\n",
    "Snippets:\n",
    "\n",
    ">  ```python\n",
    "len(coords.get('Dwelling'))\n",
    "\n",
    "> ```python \n",
    "with complete:\n",
    "    logger.info(at.shape(epsilon).eval())\n",
    "    \n",
    ">```python\n",
    "epsilon.eval()\n",
    "\n",
    "<br>"
   ]
  },
  {
   "cell_type": "markdown",
   "id": "b6af2825-a0c2-43c6-afae-96cbaea0a81c",
   "metadata": {},
   "source": [
    "Add more notes:\n",
    "\n",
    "* A simple linear regression model: an intercept, a gradient whereby the accompanying independent variable is *dwelling level*\n",
    "* The depedet variable is *ln(radon)*\n",
    "* Is the *intercept* implicit below?\n",
    "\n",
    "<br>"
   ]
  },
  {
   "cell_type": "markdown",
   "id": "e0ca3f63-3be5-4eb4-9319-28a78f2276ad",
   "metadata": {},
   "source": [
    "<br>\n",
    "\n",
    "Model"
   ]
  },
  {
   "cell_type": "code",
   "execution_count": null,
   "id": "cbe5e2d7-609a-4fcd-a6e5-0e85a5361127",
   "metadata": {},
   "outputs": [],
   "source": [
    "coords = {'Floors': ['Basement', 'Ground']}"
   ]
  },
  {
   "cell_type": "code",
   "execution_count": null,
   "id": "bce16216-2021-4fce-8827-1574cbbad728",
   "metadata": {},
   "outputs": [],
   "source": [
    "with pm.Model(coords=coords) as complete:\n",
    "    \n",
    "    \n",
    "    # the values of the <floor> field\n",
    "    floor = pm.Data(name='floor', value=excerpt.floor.values, dims='N', mutable=True)\n",
    "    logger.info(floor.get_value().shape)\n",
    "    logger.info(floor.type())\n",
    "    logger.info(floor.get_value())\n",
    "    \n",
    "    \n",
    "    # <initial> probably has two elements - the object <Dwelling> has two elements, therefore two random values from a normal distribution\n",
    "    initial = pm.Normal(name='initial', mu=0.0, sigma=10.0, dims='Floors')\n",
    "    \n",
    "    \n",
    "    # shape(mu) === shape(floor)\n",
    "    mu = initial[floor]\n",
    "    \n",
    "    \n",
    "    # model\n",
    "    sigma = pm.Exponential(name='sigma', lam=1.0)\n",
    "    y = pm.Normal('y', mu=mu, sigma=sigma, observed=excerpt['ln_radon'].to_numpy(), dims='N')\n",
    "    "
   ]
  },
  {
   "cell_type": "markdown",
   "id": "6b338222-106d-4f92-8eba-745b74d37e9a",
   "metadata": {},
   "source": [
    "<br>\n",
    "<br>\n",
    "\n",
    "Is this the correct seeding method/approach?"
   ]
  },
  {
   "cell_type": "code",
   "execution_count": null,
   "id": "0ddd76f0-f4b6-465f-affb-94e96c6f1528",
   "metadata": {},
   "outputs": [],
   "source": [
    "complete.initial_point(seed=RANDOM_SEED)"
   ]
  },
  {
   "cell_type": "markdown",
   "id": "6f0737e6-4790-457f-8d2e-81c09ebb38a9",
   "metadata": {},
   "source": [
    "<br>\n",
    "\n",
    "Illustration of model"
   ]
  },
  {
   "cell_type": "code",
   "execution_count": null,
   "id": "2896f95d-c2cf-4009-a06f-9c25f0b06e31",
   "metadata": {},
   "outputs": [],
   "source": [
    "pm.model_to_graphviz(complete)"
   ]
  },
  {
   "cell_type": "code",
   "execution_count": null,
   "id": "3342d466-840c-4a83-8c5d-7019a1420f26",
   "metadata": {},
   "outputs": [],
   "source": [
    "diagram = pm.model_graph.ModelGraph(model=complete).make_graph()\n",
    "diagram.node_attr.update(shape='circle')\n",
    "diagram.save(os.path.join(os.getcwd(), 'notebooks', 'simple.gv'))\n",
    "graphviz.render(engine='dot', format='pdf', filepath=os.path.join(os.getcwd(), 'notebooks', 'simple.gv'));"
   ]
  },
  {
   "cell_type": "markdown",
   "id": "42039f2b-c8e9-4f67-8727-97d65fae195b",
   "metadata": {},
   "source": [
    "<br>\n",
    "\n",
    "An inspection of a [prior predictiove distribution](https://www.pymc.io/projects/docs/en/stable/api/generated/pymc.sample_prior_predictive.html#pymc.sample_prior_predictive) sample"
   ]
  },
  {
   "cell_type": "code",
   "execution_count": null,
   "id": "5cd39c9d-9557-45a8-a232-75f3db0220fd",
   "metadata": {},
   "outputs": [],
   "source": [
    "with complete:\n",
    "    inspection = pm.sample_prior_predictive()\n",
    "    "
   ]
  },
  {
   "cell_type": "code",
   "execution_count": null,
   "id": "8d90a250-1b48-4871-a41b-4fbe42be4d6a",
   "metadata": {},
   "outputs": [],
   "source": [
    "inspection.get('prior_predictive').keys()"
   ]
  },
  {
   "cell_type": "code",
   "execution_count": null,
   "id": "4c197786-e3a9-4f1b-ae1d-1948fb01c3da",
   "metadata": {},
   "outputs": [],
   "source": [
    "type(inspection)"
   ]
  },
  {
   "cell_type": "markdown",
   "id": "d6d01310-985b-4f80-b98c-1300790a85e5",
   "metadata": {},
   "source": [
    "<br>\n",
    "<br>\n",
    "\n",
    "Hence"
   ]
  },
  {
   "cell_type": "code",
   "execution_count": null,
   "id": "ff56a27b-1c3f-4962-b97d-037d148b942f",
   "metadata": {},
   "outputs": [],
   "source": [
    "ax = sketch.figure(width=3.7, height=2.5)\n",
    "inspection.prior.plot.scatter(x='Floors', y='mu', alpha=0.35, ax=ax)\n",
    "sketch.annotation(ax, Labels(title='', xlabel='floor', ylabel='mean(ln(radon))'))"
   ]
  },
  {
   "cell_type": "markdown",
   "id": "76f3e046-91ab-4586-9475-f93f0fbd7d20",
   "metadata": {},
   "source": [
    "<br>\n",
    "\n",
    "Alternatively"
   ]
  },
  {
   "cell_type": "code",
   "execution_count": null,
   "id": "8bade629-25c9-4467-b0a6-af2b277d6f42",
   "metadata": {},
   "outputs": [],
   "source": [
    "prior = inspection.get('prior_predictive')"
   ]
  },
  {
   "cell_type": "code",
   "execution_count": null,
   "id": "8f64589b-9e78-42fd-a281-6dba973a8d70",
   "metadata": {},
   "outputs": [],
   "source": [
    "prior.keys()"
   ]
  },
  {
   "cell_type": "code",
   "execution_count": null,
   "id": "d8b9a391-34bb-470e-aaba-3f94c0ea611f",
   "metadata": {},
   "outputs": [],
   "source": [
    "Y = prior.get('y').mean(axis=1)\n",
    "Y.var()"
   ]
  },
  {
   "cell_type": "code",
   "execution_count": null,
   "id": "38f72e61-8a31-492c-a878-1e213bda00d2",
   "metadata": {},
   "outputs": [],
   "source": [
    "np.squeeze(Y.values).shape"
   ]
  },
  {
   "cell_type": "code",
   "execution_count": null,
   "id": "e87db8d5-7486-4e94-bd3d-bfa30fe8b4a0",
   "metadata": {},
   "outputs": [],
   "source": [
    "# ax = sketch.figure(width=3.7, height=2.5)"
   ]
  }
 ],
 "metadata": {
  "kernelspec": {
   "display_name": "Python 3 (ipykernel)",
   "language": "python",
   "name": "python3"
  },
  "language_info": {
   "codemirror_mode": {
    "name": "ipython",
    "version": 3
   },
   "file_extension": ".py",
   "mimetype": "text/x-python",
   "name": "python",
   "nbconvert_exporter": "python",
   "pygments_lexer": "ipython3",
   "version": "3.8.13"
  },
  "vscode": {
   "interpreter": {
    "hash": "d4d1e4263499bec80672ea0156c357c1ee493ec2b1c70f0acce89fc37c4a6abe"
   }
  }
 },
 "nbformat": 4,
 "nbformat_minor": 5
}
