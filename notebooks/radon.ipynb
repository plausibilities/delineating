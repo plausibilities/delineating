{
 "cells": [
  {
   "cell_type": "markdown",
   "id": "12ff85d2-a615-44b7-8376-6b767072ce72",
   "metadata": {},
   "source": [
    "# Preliminaries"
   ]
  },
  {
   "cell_type": "code",
   "execution_count": 1,
   "id": "0007da65-a9db-493a-a65c-6fcb17522b88",
   "metadata": {},
   "outputs": [
    {
     "name": "stdout",
     "output_type": "stream",
     "text": [
      "Python 3.8.13\n"
     ]
    }
   ],
   "source": [
    "!python --version"
   ]
  },
  {
   "cell_type": "markdown",
   "id": "73d16c72-2d28-4fab-b572-21f3399dd9c9",
   "metadata": {},
   "source": [
    "<br>\n",
    "\n",
    "## Environment"
   ]
  },
  {
   "cell_type": "code",
   "execution_count": 2,
   "id": "79b0a44c-1678-40ef-951a-194879995b8e",
   "metadata": {},
   "outputs": [],
   "source": [
    "import os\n",
    "import pathlib"
   ]
  },
  {
   "cell_type": "markdown",
   "id": "9bf81a01-1e4e-482d-8201-d6595b04e1b5",
   "metadata": {},
   "source": [
    "<br>\n",
    "\n",
    "Set path"
   ]
  },
  {
   "cell_type": "code",
   "execution_count": 3,
   "id": "21f97165-1142-4ac8-8265-423d428b3608",
   "metadata": {},
   "outputs": [],
   "source": [
    "os.chdir(path=str(pathlib.Path(os.getcwd()).parent))"
   ]
  },
  {
   "cell_type": "code",
   "execution_count": 4,
   "id": "2486b523-7ae9-45af-b619-05d2b1e3855b",
   "metadata": {},
   "outputs": [
    {
     "data": {
      "text/plain": [
       "'J:\\\\library\\\\plausibilities\\\\delineating'"
      ]
     },
     "execution_count": 4,
     "metadata": {},
     "output_type": "execute_result"
    }
   ],
   "source": [
    "os.getcwd()"
   ]
  },
  {
   "cell_type": "markdown",
   "id": "b04b45c4-4413-4c76-83d2-c83272937361",
   "metadata": {},
   "source": [
    "<br>\n",
    "\n",
    "## Libraries"
   ]
  },
  {
   "cell_type": "code",
   "execution_count": 5,
   "id": "62500f62-fa51-4675-8765-d11f5d088ccf",
   "metadata": {},
   "outputs": [],
   "source": [
    "%matplotlib inline"
   ]
  },
  {
   "cell_type": "code",
   "execution_count": 6,
   "id": "a50fb0ed-d6c4-4d20-a82d-095d080227af",
   "metadata": {},
   "outputs": [],
   "source": [
    "import logging\n",
    "import collections\n",
    "\n",
    "import matplotlib.pyplot as plt\n",
    "import numpy as np\n",
    "import pandas as pd\n",
    "\n",
    "import arviz as az\n",
    "import pymc as pm\n",
    "import xarray as xr\n",
    "import aesara.tensor as at\n",
    "import graphviz"
   ]
  },
  {
   "cell_type": "markdown",
   "id": "f96db317-945e-4c4d-b59f-deaa03563865",
   "metadata": {},
   "source": [
    "<br>\n",
    "\n",
    "Versions"
   ]
  },
  {
   "cell_type": "code",
   "execution_count": 7,
   "id": "d6e77568-391d-475b-a249-35101e36fad7",
   "metadata": {},
   "outputs": [
    {
     "data": {
      "text/plain": [
       "'0.13.0'"
      ]
     },
     "execution_count": 7,
     "metadata": {},
     "output_type": "execute_result"
    }
   ],
   "source": [
    "az.__version__"
   ]
  },
  {
   "cell_type": "code",
   "execution_count": 8,
   "id": "392d5bc2-4933-407c-948c-ffb60f8c2fda",
   "metadata": {},
   "outputs": [
    {
     "data": {
      "text/plain": [
       "'4.3.0'"
      ]
     },
     "execution_count": 8,
     "metadata": {},
     "output_type": "execute_result"
    }
   ],
   "source": [
    "pm.__version__"
   ]
  },
  {
   "cell_type": "code",
   "execution_count": 9,
   "id": "3ff9bc4a-e1cd-41e5-a6ce-9bba5f0dd945",
   "metadata": {},
   "outputs": [
    {
     "data": {
      "text/plain": [
       "'1.22.3'"
      ]
     },
     "execution_count": 9,
     "metadata": {},
     "output_type": "execute_result"
    }
   ],
   "source": [
    "np.__version__"
   ]
  },
  {
   "cell_type": "markdown",
   "id": "d6a42025-827c-4d62-b758-05d82eb34658",
   "metadata": {},
   "source": [
    "<br>\n",
    "\n",
    "## Custom"
   ]
  },
  {
   "cell_type": "code",
   "execution_count": 10,
   "id": "8e98ba43-fda0-47a8-8ae5-ac5917a6c7ab",
   "metadata": {},
   "outputs": [],
   "source": [
    "import src.graphics.settings\n",
    "import src.graphics.sketch"
   ]
  },
  {
   "cell_type": "markdown",
   "id": "3397f6cd-ea8c-48ef-863f-71a35c71bcdd",
   "metadata": {},
   "source": [
    "<br>\n",
    "\n",
    "Aesthetics"
   ]
  },
  {
   "cell_type": "code",
   "execution_count": 11,
   "id": "43bdea7a-b6f2-490b-8f5a-fc951f19ac90",
   "metadata": {},
   "outputs": [],
   "source": [
    "settings = src.graphics.settings.Settings()\n",
    "\n",
    "settings.layout()\n",
    "settings.aesthetics()"
   ]
  },
  {
   "cell_type": "markdown",
   "id": "48fe87f8-35ac-4ad9-8bc1-4fcf5d529d27",
   "metadata": {},
   "source": [
    "<br>\n",
    "\n",
    "For diagrams/figures"
   ]
  },
  {
   "cell_type": "code",
   "execution_count": 12,
   "id": "747590a0-afb7-4779-90d0-d69628c67ebf",
   "metadata": {},
   "outputs": [],
   "source": [
    "sketch = src.graphics.sketch.Sketch()"
   ]
  },
  {
   "cell_type": "code",
   "execution_count": 13,
   "id": "83806ad4-3200-440c-83c9-07ec28e75ae9",
   "metadata": {},
   "outputs": [],
   "source": [
    "Labels = collections.namedtuple(typename='Labels', field_names=['title', 'xlabel', 'ylabel'])"
   ]
  },
  {
   "cell_type": "markdown",
   "id": "3afbf959-c16f-4409-9599-8ec6d7c6d1b0",
   "metadata": {},
   "source": [
    "<br>\n",
    "\n",
    "## Settings"
   ]
  },
  {
   "cell_type": "markdown",
   "id": "fa6a93e3-2f26-4bd6-ad8d-374a6dd0be8e",
   "metadata": {},
   "source": [
    "Seed"
   ]
  },
  {
   "cell_type": "code",
   "execution_count": 14,
   "id": "3f00eba3-ec00-4dfa-9003-b17527463777",
   "metadata": {},
   "outputs": [],
   "source": [
    "RANDOM_SEED = 8924"
   ]
  },
  {
   "cell_type": "markdown",
   "id": "6977195b-7c83-45b4-9bb2-82db03c41387",
   "metadata": {},
   "source": [
    "<br>\n",
    "\n",
    "Graphing"
   ]
  },
  {
   "cell_type": "code",
   "execution_count": 15,
   "id": "5c70e3df-ee75-42e0-96ca-0fcd8b99585e",
   "metadata": {},
   "outputs": [],
   "source": [
    "az.style.use('arviz-darkgrid')"
   ]
  },
  {
   "cell_type": "markdown",
   "id": "f54f9311-530c-44cb-911a-f200ca0bb8ce",
   "metadata": {},
   "source": [
    "<br>\n",
    "\n",
    "## Logging"
   ]
  },
  {
   "cell_type": "code",
   "execution_count": 16,
   "id": "5096d6ea-d2db-4715-876b-46b5a5531021",
   "metadata": {},
   "outputs": [],
   "source": [
    "logging.basicConfig(level=logging.INFO, \n",
    "                    format='\\n%(message)s\\n%(asctime)s.%(msecs)03d\\n', \n",
    "                    datefmt='%Y-%m-%d %H:%M:%S')\n",
    "logger = logging.getLogger(__name__)"
   ]
  },
  {
   "cell_type": "markdown",
   "id": "36280a57-9123-447f-be10-3ada0ef74ec7",
   "metadata": {},
   "source": [
    "<br>\n",
    "<br>\n",
    "\n",
    "# Data"
   ]
  },
  {
   "cell_type": "markdown",
   "id": "4fd33a37-a02f-4995-bf3a-fd1a7a9eaba3",
   "metadata": {},
   "source": [
    "## Dwelling Level"
   ]
  },
  {
   "cell_type": "code",
   "execution_count": 17,
   "id": "a0b6f462-a350-4857-aed8-e16aba13a843",
   "metadata": {},
   "outputs": [],
   "source": [
    "try:\n",
    "    data = pd.read_csv(filepath_or_buffer=pm.get_data('srrs2.dat'))\n",
    "except FileNotFoundError as err:\n",
    "    raise Exception(err.strerror)"
   ]
  },
  {
   "cell_type": "code",
   "execution_count": 18,
   "id": "d368dd40-e105-4f8f-901c-61abf13fc2af",
   "metadata": {},
   "outputs": [
    {
     "data": {
      "text/plain": [
       "Index(['idnum', 'state', 'state2', 'stfips', 'zip', 'region', 'typebldg',\n",
       "       'floor', 'room', 'basement', 'windoor', 'rep', 'stratum', 'wave',\n",
       "       'starttm', 'stoptm', 'startdt', 'stopdt', 'activity', 'pcterr', 'adjwt',\n",
       "       'dupflag', 'zipflag', 'cntyfips', 'county'],\n",
       "      dtype='object')"
      ]
     },
     "execution_count": 18,
     "metadata": {},
     "output_type": "execute_result"
    }
   ],
   "source": [
    "data.columns"
   ]
  },
  {
   "cell_type": "code",
   "execution_count": 19,
   "id": "267f45f7-85a7-4823-9b1c-36f6ca08e294",
   "metadata": {},
   "outputs": [],
   "source": [
    "data.rename(mapper=str.strip, axis='columns', inplace=True)"
   ]
  },
  {
   "cell_type": "code",
   "execution_count": 20,
   "id": "04997126-4bfa-4799-a50a-14f8e4baa1d7",
   "metadata": {},
   "outputs": [
    {
     "data": {
      "text/html": [
       "<div>\n",
       "<style scoped>\n",
       "    .dataframe tbody tr th:only-of-type {\n",
       "        vertical-align: middle;\n",
       "    }\n",
       "\n",
       "    .dataframe tbody tr th {\n",
       "        vertical-align: top;\n",
       "    }\n",
       "\n",
       "    .dataframe thead th {\n",
       "        text-align: right;\n",
       "    }\n",
       "</style>\n",
       "<table border=\"1\" class=\"dataframe\">\n",
       "  <thead>\n",
       "    <tr style=\"text-align: right;\">\n",
       "      <th></th>\n",
       "      <th>idnum</th>\n",
       "      <th>state</th>\n",
       "      <th>state2</th>\n",
       "      <th>stfips</th>\n",
       "      <th>zip</th>\n",
       "      <th>region</th>\n",
       "      <th>typebldg</th>\n",
       "      <th>floor</th>\n",
       "      <th>room</th>\n",
       "      <th>basement</th>\n",
       "      <th>...</th>\n",
       "      <th>stoptm</th>\n",
       "      <th>startdt</th>\n",
       "      <th>stopdt</th>\n",
       "      <th>activity</th>\n",
       "      <th>pcterr</th>\n",
       "      <th>adjwt</th>\n",
       "      <th>dupflag</th>\n",
       "      <th>zipflag</th>\n",
       "      <th>cntyfips</th>\n",
       "      <th>county</th>\n",
       "    </tr>\n",
       "  </thead>\n",
       "  <tbody>\n",
       "    <tr>\n",
       "      <th>0</th>\n",
       "      <td>1</td>\n",
       "      <td>AZ</td>\n",
       "      <td>AZ</td>\n",
       "      <td>4</td>\n",
       "      <td>85920</td>\n",
       "      <td>1</td>\n",
       "      <td>1</td>\n",
       "      <td>1</td>\n",
       "      <td>2</td>\n",
       "      <td>N</td>\n",
       "      <td>...</td>\n",
       "      <td>1100</td>\n",
       "      <td>112987</td>\n",
       "      <td>120287</td>\n",
       "      <td>0.3</td>\n",
       "      <td>0.0</td>\n",
       "      <td>136.060971</td>\n",
       "      <td>0</td>\n",
       "      <td>0</td>\n",
       "      <td>1</td>\n",
       "      <td>APACHE</td>\n",
       "    </tr>\n",
       "    <tr>\n",
       "      <th>1</th>\n",
       "      <td>2</td>\n",
       "      <td>AZ</td>\n",
       "      <td>AZ</td>\n",
       "      <td>4</td>\n",
       "      <td>85920</td>\n",
       "      <td>1</td>\n",
       "      <td>0</td>\n",
       "      <td>9</td>\n",
       "      <td>0</td>\n",
       "      <td></td>\n",
       "      <td>...</td>\n",
       "      <td>700</td>\n",
       "      <td>70788</td>\n",
       "      <td>71188</td>\n",
       "      <td>0.6</td>\n",
       "      <td>33.3</td>\n",
       "      <td>128.784975</td>\n",
       "      <td>0</td>\n",
       "      <td>0</td>\n",
       "      <td>1</td>\n",
       "      <td>APACHE</td>\n",
       "    </tr>\n",
       "    <tr>\n",
       "      <th>2</th>\n",
       "      <td>3</td>\n",
       "      <td>AZ</td>\n",
       "      <td>AZ</td>\n",
       "      <td>4</td>\n",
       "      <td>85924</td>\n",
       "      <td>1</td>\n",
       "      <td>1</td>\n",
       "      <td>1</td>\n",
       "      <td>3</td>\n",
       "      <td>N</td>\n",
       "      <td>...</td>\n",
       "      <td>1145</td>\n",
       "      <td>70788</td>\n",
       "      <td>70788</td>\n",
       "      <td>0.5</td>\n",
       "      <td>0.0</td>\n",
       "      <td>150.245112</td>\n",
       "      <td>0</td>\n",
       "      <td>0</td>\n",
       "      <td>1</td>\n",
       "      <td>APACHE</td>\n",
       "    </tr>\n",
       "    <tr>\n",
       "      <th>3</th>\n",
       "      <td>4</td>\n",
       "      <td>AZ</td>\n",
       "      <td>AZ</td>\n",
       "      <td>4</td>\n",
       "      <td>85925</td>\n",
       "      <td>1</td>\n",
       "      <td>1</td>\n",
       "      <td>1</td>\n",
       "      <td>3</td>\n",
       "      <td>N</td>\n",
       "      <td>...</td>\n",
       "      <td>1900</td>\n",
       "      <td>52088</td>\n",
       "      <td>52288</td>\n",
       "      <td>0.6</td>\n",
       "      <td>97.2</td>\n",
       "      <td>136.060971</td>\n",
       "      <td>0</td>\n",
       "      <td>0</td>\n",
       "      <td>1</td>\n",
       "      <td>APACHE</td>\n",
       "    </tr>\n",
       "    <tr>\n",
       "      <th>4</th>\n",
       "      <td>5</td>\n",
       "      <td>AZ</td>\n",
       "      <td>AZ</td>\n",
       "      <td>4</td>\n",
       "      <td>85932</td>\n",
       "      <td>1</td>\n",
       "      <td>1</td>\n",
       "      <td>1</td>\n",
       "      <td>1</td>\n",
       "      <td>N</td>\n",
       "      <td>...</td>\n",
       "      <td>900</td>\n",
       "      <td>70788</td>\n",
       "      <td>70788</td>\n",
       "      <td>0.3</td>\n",
       "      <td>0.0</td>\n",
       "      <td>136.060971</td>\n",
       "      <td>0</td>\n",
       "      <td>0</td>\n",
       "      <td>1</td>\n",
       "      <td>APACHE</td>\n",
       "    </tr>\n",
       "  </tbody>\n",
       "</table>\n",
       "<p>5 rows × 25 columns</p>\n",
       "</div>"
      ],
      "text/plain": [
       "   idnum state state2  stfips    zip  region  typebldg  floor  room basement  \\\n",
       "0      1    AZ     AZ       4  85920       1         1      1     2        N   \n",
       "1      2    AZ     AZ       4  85920       1         0      9     0            \n",
       "2      3    AZ     AZ       4  85924       1         1      1     3        N   \n",
       "3      4    AZ     AZ       4  85925       1         1      1     3        N   \n",
       "4      5    AZ     AZ       4  85932       1         1      1     1        N   \n",
       "\n",
       "   ... stoptm startdt  stopdt activity  pcterr       adjwt  dupflag  zipflag  \\\n",
       "0  ...   1100  112987  120287      0.3     0.0  136.060971        0        0   \n",
       "1  ...    700   70788   71188      0.6    33.3  128.784975        0        0   \n",
       "2  ...   1145   70788   70788      0.5     0.0  150.245112        0        0   \n",
       "3  ...   1900   52088   52288      0.6    97.2  136.060971        0        0   \n",
       "4  ...    900   70788   70788      0.3     0.0  136.060971        0        0   \n",
       "\n",
       "   cntyfips                county  \n",
       "0         1  APACHE                \n",
       "1         1  APACHE                \n",
       "2         1  APACHE                \n",
       "3         1  APACHE                \n",
       "4         1  APACHE                \n",
       "\n",
       "[5 rows x 25 columns]"
      ]
     },
     "execution_count": 20,
     "metadata": {},
     "output_type": "execute_result"
    }
   ],
   "source": [
    "data.head()"
   ]
  },
  {
   "cell_type": "markdown",
   "id": "5d7239ee-1a3f-4157-85e9-1144b375c249",
   "metadata": {},
   "source": [
    "<br>\n",
    "\n",
    "Structuring; concatenating the `pure state` & `pure county` codes\n",
    "\n",
    "* [FIPS States](https://en.wikipedia.org/wiki/Federal_Information_Processing_Standard_state_code)\n",
    "* [FIPS Counties](https://en.wikipedia.org/wiki/List_of_United_States_FIPS_codes_by_county)\n"
   ]
  },
  {
   "cell_type": "code",
   "execution_count": 21,
   "id": "7afdc33b-278c-4655-9fc2-a41aaa56c779",
   "metadata": {},
   "outputs": [
    {
     "data": {
      "text/html": [
       "<div>\n",
       "<style scoped>\n",
       "    .dataframe tbody tr th:only-of-type {\n",
       "        vertical-align: middle;\n",
       "    }\n",
       "\n",
       "    .dataframe tbody tr th {\n",
       "        vertical-align: top;\n",
       "    }\n",
       "\n",
       "    .dataframe thead th {\n",
       "        text-align: right;\n",
       "    }\n",
       "</style>\n",
       "<table border=\"1\" class=\"dataframe\">\n",
       "  <thead>\n",
       "    <tr style=\"text-align: right;\">\n",
       "      <th></th>\n",
       "      <th>idnum</th>\n",
       "      <th>state</th>\n",
       "      <th>state2</th>\n",
       "      <th>stfips</th>\n",
       "      <th>zip</th>\n",
       "      <th>region</th>\n",
       "      <th>typebldg</th>\n",
       "      <th>floor</th>\n",
       "      <th>room</th>\n",
       "      <th>basement</th>\n",
       "      <th>...</th>\n",
       "      <th>startdt</th>\n",
       "      <th>stopdt</th>\n",
       "      <th>activity</th>\n",
       "      <th>pcterr</th>\n",
       "      <th>adjwt</th>\n",
       "      <th>dupflag</th>\n",
       "      <th>zipflag</th>\n",
       "      <th>cntyfips</th>\n",
       "      <th>county</th>\n",
       "      <th>fips</th>\n",
       "    </tr>\n",
       "  </thead>\n",
       "  <tbody>\n",
       "    <tr>\n",
       "      <th>0</th>\n",
       "      <td>1</td>\n",
       "      <td>AZ</td>\n",
       "      <td>AZ</td>\n",
       "      <td>4</td>\n",
       "      <td>85920</td>\n",
       "      <td>1</td>\n",
       "      <td>1</td>\n",
       "      <td>1</td>\n",
       "      <td>2</td>\n",
       "      <td>N</td>\n",
       "      <td>...</td>\n",
       "      <td>112987</td>\n",
       "      <td>120287</td>\n",
       "      <td>0.3</td>\n",
       "      <td>0.0</td>\n",
       "      <td>136.060971</td>\n",
       "      <td>0</td>\n",
       "      <td>0</td>\n",
       "      <td>1</td>\n",
       "      <td>APACHE</td>\n",
       "      <td>04001</td>\n",
       "    </tr>\n",
       "    <tr>\n",
       "      <th>1</th>\n",
       "      <td>2</td>\n",
       "      <td>AZ</td>\n",
       "      <td>AZ</td>\n",
       "      <td>4</td>\n",
       "      <td>85920</td>\n",
       "      <td>1</td>\n",
       "      <td>0</td>\n",
       "      <td>9</td>\n",
       "      <td>0</td>\n",
       "      <td></td>\n",
       "      <td>...</td>\n",
       "      <td>70788</td>\n",
       "      <td>71188</td>\n",
       "      <td>0.6</td>\n",
       "      <td>33.3</td>\n",
       "      <td>128.784975</td>\n",
       "      <td>0</td>\n",
       "      <td>0</td>\n",
       "      <td>1</td>\n",
       "      <td>APACHE</td>\n",
       "      <td>04001</td>\n",
       "    </tr>\n",
       "    <tr>\n",
       "      <th>2</th>\n",
       "      <td>3</td>\n",
       "      <td>AZ</td>\n",
       "      <td>AZ</td>\n",
       "      <td>4</td>\n",
       "      <td>85924</td>\n",
       "      <td>1</td>\n",
       "      <td>1</td>\n",
       "      <td>1</td>\n",
       "      <td>3</td>\n",
       "      <td>N</td>\n",
       "      <td>...</td>\n",
       "      <td>70788</td>\n",
       "      <td>70788</td>\n",
       "      <td>0.5</td>\n",
       "      <td>0.0</td>\n",
       "      <td>150.245112</td>\n",
       "      <td>0</td>\n",
       "      <td>0</td>\n",
       "      <td>1</td>\n",
       "      <td>APACHE</td>\n",
       "      <td>04001</td>\n",
       "    </tr>\n",
       "    <tr>\n",
       "      <th>3</th>\n",
       "      <td>4</td>\n",
       "      <td>AZ</td>\n",
       "      <td>AZ</td>\n",
       "      <td>4</td>\n",
       "      <td>85925</td>\n",
       "      <td>1</td>\n",
       "      <td>1</td>\n",
       "      <td>1</td>\n",
       "      <td>3</td>\n",
       "      <td>N</td>\n",
       "      <td>...</td>\n",
       "      <td>52088</td>\n",
       "      <td>52288</td>\n",
       "      <td>0.6</td>\n",
       "      <td>97.2</td>\n",
       "      <td>136.060971</td>\n",
       "      <td>0</td>\n",
       "      <td>0</td>\n",
       "      <td>1</td>\n",
       "      <td>APACHE</td>\n",
       "      <td>04001</td>\n",
       "    </tr>\n",
       "    <tr>\n",
       "      <th>4</th>\n",
       "      <td>5</td>\n",
       "      <td>AZ</td>\n",
       "      <td>AZ</td>\n",
       "      <td>4</td>\n",
       "      <td>85932</td>\n",
       "      <td>1</td>\n",
       "      <td>1</td>\n",
       "      <td>1</td>\n",
       "      <td>1</td>\n",
       "      <td>N</td>\n",
       "      <td>...</td>\n",
       "      <td>70788</td>\n",
       "      <td>70788</td>\n",
       "      <td>0.3</td>\n",
       "      <td>0.0</td>\n",
       "      <td>136.060971</td>\n",
       "      <td>0</td>\n",
       "      <td>0</td>\n",
       "      <td>1</td>\n",
       "      <td>APACHE</td>\n",
       "      <td>04001</td>\n",
       "    </tr>\n",
       "  </tbody>\n",
       "</table>\n",
       "<p>5 rows × 26 columns</p>\n",
       "</div>"
      ],
      "text/plain": [
       "   idnum state state2  stfips    zip  region  typebldg  floor  room basement  \\\n",
       "0      1    AZ     AZ       4  85920       1         1      1     2        N   \n",
       "1      2    AZ     AZ       4  85920       1         0      9     0            \n",
       "2      3    AZ     AZ       4  85924       1         1      1     3        N   \n",
       "3      4    AZ     AZ       4  85925       1         1      1     3        N   \n",
       "4      5    AZ     AZ       4  85932       1         1      1     1        N   \n",
       "\n",
       "   ... startdt  stopdt  activity pcterr       adjwt  dupflag  zipflag  \\\n",
       "0  ...  112987  120287       0.3    0.0  136.060971        0        0   \n",
       "1  ...   70788   71188       0.6   33.3  128.784975        0        0   \n",
       "2  ...   70788   70788       0.5    0.0  150.245112        0        0   \n",
       "3  ...   52088   52288       0.6   97.2  136.060971        0        0   \n",
       "4  ...   70788   70788       0.3    0.0  136.060971        0        0   \n",
       "\n",
       "   cntyfips                county   fips  \n",
       "0         1  APACHE                04001  \n",
       "1         1  APACHE                04001  \n",
       "2         1  APACHE                04001  \n",
       "3         1  APACHE                04001  \n",
       "4         1  APACHE                04001  \n",
       "\n",
       "[5 rows x 26 columns]"
      ]
     },
     "execution_count": 21,
     "metadata": {},
     "output_type": "execute_result"
    }
   ],
   "source": [
    "data.loc[:, 'fips'] = data.stfips.astype(str).str.zfill(2) + data.cntyfips.astype(str).str.zfill(3)\n",
    "data.head()"
   ]
  },
  {
   "cell_type": "markdown",
   "id": "57e80fbd-a6a7-404a-8fab-0cba5d4b2b1b",
   "metadata": {},
   "source": [
    "<br>\n",
    "\n",
    "## County Level"
   ]
  },
  {
   "cell_type": "code",
   "execution_count": 22,
   "id": "80a21b9b-5166-4c5b-860b-6ceeba936e20",
   "metadata": {},
   "outputs": [],
   "source": [
    "try:\n",
    "    counties = pd.read_csv(filepath_or_buffer=pm.get_data('cty.dat'))\n",
    "except FileNotFoundError as err:\n",
    "    raise Exception(err.strerror)"
   ]
  },
  {
   "cell_type": "code",
   "execution_count": 23,
   "id": "2e4f6bec-e388-417f-8e4b-4c4a1e592048",
   "metadata": {},
   "outputs": [],
   "source": [
    "counties.loc[:, 'fips'] = counties.stfips.astype(str).str.zfill(2) + counties.ctfips.astype(str).str.zfill(3)"
   ]
  },
  {
   "cell_type": "markdown",
   "id": "c7a58b75-4db4-4638-90fe-9d398188a7af",
   "metadata": {},
   "source": [
    "<br>\n",
    "\n",
    "## Excerpting & Merging"
   ]
  },
  {
   "cell_type": "markdown",
   "id": "7a167930-7cc3-4638-b37e-29891913387d",
   "metadata": {},
   "source": [
    "Excerpt: Focus on Minnesota, MN, dwellings."
   ]
  },
  {
   "cell_type": "code",
   "execution_count": 24,
   "id": "9c785fd9-3d32-430f-bda3-83eb6f7e0213",
   "metadata": {},
   "outputs": [
    {
     "data": {
      "text/html": [
       "<div>\n",
       "<style scoped>\n",
       "    .dataframe tbody tr th:only-of-type {\n",
       "        vertical-align: middle;\n",
       "    }\n",
       "\n",
       "    .dataframe tbody tr th {\n",
       "        vertical-align: top;\n",
       "    }\n",
       "\n",
       "    .dataframe thead th {\n",
       "        text-align: right;\n",
       "    }\n",
       "</style>\n",
       "<table border=\"1\" class=\"dataframe\">\n",
       "  <thead>\n",
       "    <tr style=\"text-align: right;\">\n",
       "      <th></th>\n",
       "      <th>idnum</th>\n",
       "      <th>state</th>\n",
       "      <th>state2</th>\n",
       "      <th>stfips</th>\n",
       "      <th>zip</th>\n",
       "      <th>region</th>\n",
       "      <th>typebldg</th>\n",
       "      <th>floor</th>\n",
       "      <th>room</th>\n",
       "      <th>basement</th>\n",
       "      <th>...</th>\n",
       "      <th>startdt</th>\n",
       "      <th>stopdt</th>\n",
       "      <th>activity</th>\n",
       "      <th>pcterr</th>\n",
       "      <th>adjwt</th>\n",
       "      <th>dupflag</th>\n",
       "      <th>zipflag</th>\n",
       "      <th>cntyfips</th>\n",
       "      <th>county</th>\n",
       "      <th>fips</th>\n",
       "    </tr>\n",
       "  </thead>\n",
       "  <tbody>\n",
       "    <tr>\n",
       "      <th>5080</th>\n",
       "      <td>5081</td>\n",
       "      <td>MN</td>\n",
       "      <td>MN</td>\n",
       "      <td>27</td>\n",
       "      <td>55735</td>\n",
       "      <td>5</td>\n",
       "      <td>1</td>\n",
       "      <td>1</td>\n",
       "      <td>3</td>\n",
       "      <td>N</td>\n",
       "      <td>...</td>\n",
       "      <td>12088</td>\n",
       "      <td>12288</td>\n",
       "      <td>2.2</td>\n",
       "      <td>9.7</td>\n",
       "      <td>1146.499190</td>\n",
       "      <td>1</td>\n",
       "      <td>0</td>\n",
       "      <td>1</td>\n",
       "      <td>AITKIN</td>\n",
       "      <td>27001</td>\n",
       "    </tr>\n",
       "    <tr>\n",
       "      <th>5081</th>\n",
       "      <td>5082</td>\n",
       "      <td>MN</td>\n",
       "      <td>MN</td>\n",
       "      <td>27</td>\n",
       "      <td>55748</td>\n",
       "      <td>5</td>\n",
       "      <td>1</td>\n",
       "      <td>0</td>\n",
       "      <td>4</td>\n",
       "      <td>Y</td>\n",
       "      <td>...</td>\n",
       "      <td>11888</td>\n",
       "      <td>12088</td>\n",
       "      <td>2.2</td>\n",
       "      <td>14.5</td>\n",
       "      <td>471.366223</td>\n",
       "      <td>0</td>\n",
       "      <td>0</td>\n",
       "      <td>1</td>\n",
       "      <td>AITKIN</td>\n",
       "      <td>27001</td>\n",
       "    </tr>\n",
       "    <tr>\n",
       "      <th>5082</th>\n",
       "      <td>5083</td>\n",
       "      <td>MN</td>\n",
       "      <td>MN</td>\n",
       "      <td>27</td>\n",
       "      <td>55748</td>\n",
       "      <td>5</td>\n",
       "      <td>1</td>\n",
       "      <td>0</td>\n",
       "      <td>4</td>\n",
       "      <td>Y</td>\n",
       "      <td>...</td>\n",
       "      <td>20288</td>\n",
       "      <td>21188</td>\n",
       "      <td>2.9</td>\n",
       "      <td>9.6</td>\n",
       "      <td>433.316718</td>\n",
       "      <td>0</td>\n",
       "      <td>0</td>\n",
       "      <td>1</td>\n",
       "      <td>AITKIN</td>\n",
       "      <td>27001</td>\n",
       "    </tr>\n",
       "    <tr>\n",
       "      <th>5083</th>\n",
       "      <td>5084</td>\n",
       "      <td>MN</td>\n",
       "      <td>MN</td>\n",
       "      <td>27</td>\n",
       "      <td>56469</td>\n",
       "      <td>5</td>\n",
       "      <td>1</td>\n",
       "      <td>0</td>\n",
       "      <td>4</td>\n",
       "      <td>Y</td>\n",
       "      <td>...</td>\n",
       "      <td>122987</td>\n",
       "      <td>123187</td>\n",
       "      <td>1.0</td>\n",
       "      <td>24.3</td>\n",
       "      <td>461.623670</td>\n",
       "      <td>0</td>\n",
       "      <td>0</td>\n",
       "      <td>1</td>\n",
       "      <td>AITKIN</td>\n",
       "      <td>27001</td>\n",
       "    </tr>\n",
       "    <tr>\n",
       "      <th>5084</th>\n",
       "      <td>5085</td>\n",
       "      <td>MN</td>\n",
       "      <td>MN</td>\n",
       "      <td>27</td>\n",
       "      <td>55011</td>\n",
       "      <td>3</td>\n",
       "      <td>1</td>\n",
       "      <td>0</td>\n",
       "      <td>4</td>\n",
       "      <td>Y</td>\n",
       "      <td>...</td>\n",
       "      <td>12888</td>\n",
       "      <td>13088</td>\n",
       "      <td>3.1</td>\n",
       "      <td>13.8</td>\n",
       "      <td>433.316718</td>\n",
       "      <td>0</td>\n",
       "      <td>0</td>\n",
       "      <td>3</td>\n",
       "      <td>ANOKA</td>\n",
       "      <td>27003</td>\n",
       "    </tr>\n",
       "  </tbody>\n",
       "</table>\n",
       "<p>5 rows × 26 columns</p>\n",
       "</div>"
      ],
      "text/plain": [
       "      idnum state state2  stfips    zip  region  typebldg  floor  room  \\\n",
       "5080   5081    MN     MN      27  55735       5         1      1     3   \n",
       "5081   5082    MN     MN      27  55748       5         1      0     4   \n",
       "5082   5083    MN     MN      27  55748       5         1      0     4   \n",
       "5083   5084    MN     MN      27  56469       5         1      0     4   \n",
       "5084   5085    MN     MN      27  55011       3         1      0     4   \n",
       "\n",
       "     basement  ... startdt  stopdt  activity pcterr        adjwt  dupflag  \\\n",
       "5080        N  ...   12088   12288       2.2    9.7  1146.499190        1   \n",
       "5081        Y  ...   11888   12088       2.2   14.5   471.366223        0   \n",
       "5082        Y  ...   20288   21188       2.9    9.6   433.316718        0   \n",
       "5083        Y  ...  122987  123187       1.0   24.3   461.623670        0   \n",
       "5084        Y  ...   12888   13088       3.1   13.8   433.316718        0   \n",
       "\n",
       "      zipflag  cntyfips                county   fips  \n",
       "5080        0         1  AITKIN                27001  \n",
       "5081        0         1  AITKIN                27001  \n",
       "5082        0         1  AITKIN                27001  \n",
       "5083        0         1  AITKIN                27001  \n",
       "5084        0         3  ANOKA                 27003  \n",
       "\n",
       "[5 rows x 26 columns]"
      ]
     },
     "execution_count": 24,
     "metadata": {},
     "output_type": "execute_result"
    }
   ],
   "source": [
    "excerpt = data.loc[data['state'] == 'MN', :]\n",
    "excerpt.head()"
   ]
  },
  {
   "cell_type": "markdown",
   "id": "4f6b3f77-0d09-49f8-9e12-1024d324858b",
   "metadata": {},
   "source": [
    "<br>\n",
    "\n",
    "Merge dwelling & county level [uranium] data."
   ]
  },
  {
   "cell_type": "code",
   "execution_count": 25,
   "id": "563a97ae-3402-4f5b-9af8-ab6b9c7d919c",
   "metadata": {},
   "outputs": [
    {
     "data": {
      "text/plain": [
       "Index(['idnum', 'state', 'state2', 'stfips', 'zip', 'region', 'typebldg',\n",
       "       'floor', 'room', 'basement', 'windoor', 'rep', 'stratum', 'wave',\n",
       "       'starttm', 'stoptm', 'startdt', 'stopdt', 'activity', 'pcterr', 'adjwt',\n",
       "       'dupflag', 'zipflag', 'cntyfips', 'county', 'fips', 'Uppm'],\n",
       "      dtype='object')"
      ]
     },
     "execution_count": 25,
     "metadata": {},
     "output_type": "execute_result"
    }
   ],
   "source": [
    "excerpt = excerpt.merge(counties[['fips', 'Uppm']], how='left', on='fips')\n",
    "excerpt.columns"
   ]
  },
  {
   "cell_type": "code",
   "execution_count": 26,
   "id": "ed799bd3-2626-44a4-85b6-c07632f27add",
   "metadata": {},
   "outputs": [
    {
     "data": {
      "text/html": [
       "<div>\n",
       "<style scoped>\n",
       "    .dataframe tbody tr th:only-of-type {\n",
       "        vertical-align: middle;\n",
       "    }\n",
       "\n",
       "    .dataframe tbody tr th {\n",
       "        vertical-align: top;\n",
       "    }\n",
       "\n",
       "    .dataframe thead th {\n",
       "        text-align: right;\n",
       "    }\n",
       "</style>\n",
       "<table border=\"1\" class=\"dataframe\">\n",
       "  <thead>\n",
       "    <tr style=\"text-align: right;\">\n",
       "      <th></th>\n",
       "      <th>idnum</th>\n",
       "      <th>state</th>\n",
       "      <th>state2</th>\n",
       "      <th>stfips</th>\n",
       "      <th>zip</th>\n",
       "      <th>region</th>\n",
       "      <th>typebldg</th>\n",
       "      <th>floor</th>\n",
       "      <th>room</th>\n",
       "      <th>basement</th>\n",
       "      <th>...</th>\n",
       "      <th>stopdt</th>\n",
       "      <th>activity</th>\n",
       "      <th>pcterr</th>\n",
       "      <th>adjwt</th>\n",
       "      <th>dupflag</th>\n",
       "      <th>zipflag</th>\n",
       "      <th>cntyfips</th>\n",
       "      <th>county</th>\n",
       "      <th>fips</th>\n",
       "      <th>Uppm</th>\n",
       "    </tr>\n",
       "  </thead>\n",
       "  <tbody>\n",
       "    <tr>\n",
       "      <th>0</th>\n",
       "      <td>5081</td>\n",
       "      <td>MN</td>\n",
       "      <td>MN</td>\n",
       "      <td>27</td>\n",
       "      <td>55735</td>\n",
       "      <td>5</td>\n",
       "      <td>1</td>\n",
       "      <td>1</td>\n",
       "      <td>3</td>\n",
       "      <td>N</td>\n",
       "      <td>...</td>\n",
       "      <td>12288</td>\n",
       "      <td>2.2</td>\n",
       "      <td>9.7</td>\n",
       "      <td>1146.499190</td>\n",
       "      <td>1</td>\n",
       "      <td>0</td>\n",
       "      <td>1</td>\n",
       "      <td>AITKIN</td>\n",
       "      <td>27001</td>\n",
       "      <td>0.502054</td>\n",
       "    </tr>\n",
       "    <tr>\n",
       "      <th>1</th>\n",
       "      <td>5082</td>\n",
       "      <td>MN</td>\n",
       "      <td>MN</td>\n",
       "      <td>27</td>\n",
       "      <td>55748</td>\n",
       "      <td>5</td>\n",
       "      <td>1</td>\n",
       "      <td>0</td>\n",
       "      <td>4</td>\n",
       "      <td>Y</td>\n",
       "      <td>...</td>\n",
       "      <td>12088</td>\n",
       "      <td>2.2</td>\n",
       "      <td>14.5</td>\n",
       "      <td>471.366223</td>\n",
       "      <td>0</td>\n",
       "      <td>0</td>\n",
       "      <td>1</td>\n",
       "      <td>AITKIN</td>\n",
       "      <td>27001</td>\n",
       "      <td>0.502054</td>\n",
       "    </tr>\n",
       "    <tr>\n",
       "      <th>2</th>\n",
       "      <td>5083</td>\n",
       "      <td>MN</td>\n",
       "      <td>MN</td>\n",
       "      <td>27</td>\n",
       "      <td>55748</td>\n",
       "      <td>5</td>\n",
       "      <td>1</td>\n",
       "      <td>0</td>\n",
       "      <td>4</td>\n",
       "      <td>Y</td>\n",
       "      <td>...</td>\n",
       "      <td>21188</td>\n",
       "      <td>2.9</td>\n",
       "      <td>9.6</td>\n",
       "      <td>433.316718</td>\n",
       "      <td>0</td>\n",
       "      <td>0</td>\n",
       "      <td>1</td>\n",
       "      <td>AITKIN</td>\n",
       "      <td>27001</td>\n",
       "      <td>0.502054</td>\n",
       "    </tr>\n",
       "    <tr>\n",
       "      <th>3</th>\n",
       "      <td>5084</td>\n",
       "      <td>MN</td>\n",
       "      <td>MN</td>\n",
       "      <td>27</td>\n",
       "      <td>56469</td>\n",
       "      <td>5</td>\n",
       "      <td>1</td>\n",
       "      <td>0</td>\n",
       "      <td>4</td>\n",
       "      <td>Y</td>\n",
       "      <td>...</td>\n",
       "      <td>123187</td>\n",
       "      <td>1.0</td>\n",
       "      <td>24.3</td>\n",
       "      <td>461.623670</td>\n",
       "      <td>0</td>\n",
       "      <td>0</td>\n",
       "      <td>1</td>\n",
       "      <td>AITKIN</td>\n",
       "      <td>27001</td>\n",
       "      <td>0.502054</td>\n",
       "    </tr>\n",
       "    <tr>\n",
       "      <th>4</th>\n",
       "      <td>5085</td>\n",
       "      <td>MN</td>\n",
       "      <td>MN</td>\n",
       "      <td>27</td>\n",
       "      <td>55011</td>\n",
       "      <td>3</td>\n",
       "      <td>1</td>\n",
       "      <td>0</td>\n",
       "      <td>4</td>\n",
       "      <td>Y</td>\n",
       "      <td>...</td>\n",
       "      <td>13088</td>\n",
       "      <td>3.1</td>\n",
       "      <td>13.8</td>\n",
       "      <td>433.316718</td>\n",
       "      <td>0</td>\n",
       "      <td>0</td>\n",
       "      <td>3</td>\n",
       "      <td>ANOKA</td>\n",
       "      <td>27003</td>\n",
       "      <td>0.428565</td>\n",
       "    </tr>\n",
       "  </tbody>\n",
       "</table>\n",
       "<p>5 rows × 27 columns</p>\n",
       "</div>"
      ],
      "text/plain": [
       "   idnum state state2  stfips    zip  region  typebldg  floor  room basement  \\\n",
       "0   5081    MN     MN      27  55735       5         1      1     3        N   \n",
       "1   5082    MN     MN      27  55748       5         1      0     4        Y   \n",
       "2   5083    MN     MN      27  55748       5         1      0     4        Y   \n",
       "3   5084    MN     MN      27  56469       5         1      0     4        Y   \n",
       "4   5085    MN     MN      27  55011       3         1      0     4        Y   \n",
       "\n",
       "   ...  stopdt activity  pcterr        adjwt  dupflag  zipflag  cntyfips  \\\n",
       "0  ...   12288      2.2     9.7  1146.499190        1        0         1   \n",
       "1  ...   12088      2.2    14.5   471.366223        0        0         1   \n",
       "2  ...   21188      2.9     9.6   433.316718        0        0         1   \n",
       "3  ...  123187      1.0    24.3   461.623670        0        0         1   \n",
       "4  ...   13088      3.1    13.8   433.316718        0        0         3   \n",
       "\n",
       "                 county   fips      Uppm  \n",
       "0  AITKIN                27001  0.502054  \n",
       "1  AITKIN                27001  0.502054  \n",
       "2  AITKIN                27001  0.502054  \n",
       "3  AITKIN                27001  0.502054  \n",
       "4  ANOKA                 27003  0.428565  \n",
       "\n",
       "[5 rows x 27 columns]"
      ]
     },
     "execution_count": 26,
     "metadata": {},
     "output_type": "execute_result"
    }
   ],
   "source": [
    "excerpt.head()"
   ]
  },
  {
   "cell_type": "markdown",
   "id": "9a43f55c-ff26-4b4e-84f1-b34aa5376bdd",
   "metadata": {},
   "source": [
    "<br>\n",
    "\n",
    "## Duplicates"
   ]
  },
  {
   "cell_type": "code",
   "execution_count": 27,
   "id": "5d651310-5b0b-4020-91e6-1aca769372ad",
   "metadata": {},
   "outputs": [
    {
     "name": "stderr",
     "output_type": "stream",
     "text": [
      "\n",
      "# of instances: (927, 27)\n",
      "2022-11-13 16:37:44.039\n",
      "\n",
      "\n",
      "# of unique instances: (919, 27)\n",
      "2022-11-13 16:37:44.174\n",
      "\n",
      "\n",
      "# of unique codes: (919,)\n",
      "2022-11-13 16:37:44.178\n",
      "\n"
     ]
    }
   ],
   "source": [
    "logger.info(f'# of instances: {excerpt.shape}')\n",
    "logger.info(f'# of unique instances: {excerpt.drop_duplicates().shape}')\n",
    "logger.info(f\"# of unique codes: {excerpt['idnum'].unique().shape}\")"
   ]
  },
  {
   "cell_type": "markdown",
   "id": "63b5196c-57f9-4218-9525-0ccb52d7aea2",
   "metadata": {},
   "source": [
    "<br>\n",
    "\n",
    "Hence"
   ]
  },
  {
   "cell_type": "code",
   "execution_count": 28,
   "id": "c23c58f9-2a6c-4782-a6a6-c6ce9eb378b3",
   "metadata": {},
   "outputs": [
    {
     "data": {
      "text/plain": [
       "(919,)"
      ]
     },
     "execution_count": 28,
     "metadata": {},
     "output_type": "execute_result"
    }
   ],
   "source": [
    "excerpt.drop_duplicates(inplace=True)\n",
    "excerpt['idnum'].unique().shape"
   ]
  },
  {
   "cell_type": "markdown",
   "id": "6743b0f5-e680-49dc-be08-9fd521f9b60d",
   "metadata": {},
   "source": [
    "<br>\n",
    "<br>\n",
    "\n",
    "# Explore"
   ]
  },
  {
   "cell_type": "code",
   "execution_count": 29,
   "id": "c561a6c7-accd-4257-9937-edc397d9f184",
   "metadata": {},
   "outputs": [],
   "source": [
    "excerpt.loc[:, 'ln_radon'] = np.log(excerpt['activity'] + 0.1)"
   ]
  },
  {
   "cell_type": "code",
   "execution_count": 30,
   "id": "68327d5b-9df8-46c7-82d6-c7d2313b3e76",
   "metadata": {},
   "outputs": [
    {
     "data": {
      "image/png": "[encoded data removed]",
      "text/plain": [
       "<Figure size 310x270 with 1 Axes>"
      ]
     },
     "metadata": {},
     "output_type": "display_data"
    }
   ],
   "source": [
    "ax = sketch.figure(width=3.1, height=2.7)\n",
    "ax.hist(excerpt.ln_radon, bins=25)\n",
    "sketch.annotation(ax, Labels(title='', xlabel='bins', ylabel='frequency'))"
   ]
  },
  {
   "cell_type": "markdown",
   "id": "e55f0465-2eb2-43c7-888e-79f05b48e902",
   "metadata": {},
   "source": [
    "<br>\n",
    "<br>\n",
    "\n",
    "# Model"
   ]
  },
  {
   "cell_type": "markdown",
   "id": "fab91a79-250a-4f12-890d-ffe689a95d70",
   "metadata": {},
   "source": [
    "## Simple"
   ]
  },
  {
   "cell_type": "markdown",
   "id": "06a61dd5-cf8f-4eb0-9325-10ae465ee246",
   "metadata": {},
   "source": [
    "<br>\n",
    "\n",
    "Snippets:\n",
    "\n",
    ">  ```python\n",
    "len(coords.get('Dwelling'))\n",
    "\n",
    "> ```python \n",
    "with complete:\n",
    "    logger.info(at.shape(epsilon).eval())\n",
    "    \n",
    ">```python\n",
    "epsilon.eval()\n",
    "\n",
    "<br>"
   ]
  },
  {
   "cell_type": "markdown",
   "id": "b6af2825-a0c2-43c6-afae-96cbaea0a81c",
   "metadata": {},
   "source": [
    "Add more notes:\n",
    "\n",
    "* A simple linear regression model: an intercept, a gradient whereby the accompanying independent variable is *dwelling level*\n",
    "* The depedet variable is *ln(radon)*\n",
    "* Is the *intercept* implicit below?\n",
    "\n",
    "<br>"
   ]
  },
  {
   "cell_type": "markdown",
   "id": "e0ca3f63-3be5-4eb4-9319-28a78f2276ad",
   "metadata": {},
   "source": [
    "<br>\n",
    "\n",
    "Model"
   ]
  },
  {
   "cell_type": "code",
   "execution_count": 31,
   "id": "cbe5e2d7-609a-4fcd-a6e5-0e85a5361127",
   "metadata": {},
   "outputs": [],
   "source": [
    "coords = {'Floors': ['Basement', 'Ground']}"
   ]
  },
  {
   "cell_type": "code",
   "execution_count": 32,
   "id": "bce16216-2021-4fce-8827-1574cbbad728",
   "metadata": {},
   "outputs": [
    {
     "name": "stderr",
     "output_type": "stream",
     "text": [
      "\n",
      "(919,)\n",
      "2022-11-13 16:37:45.281\n",
      "\n",
      "\n",
      "<TensorType(int32, (None,))>\n",
      "2022-11-13 16:37:45.283\n",
      "\n",
      "\n",
      "[1 0 0 0 0 0 0 0 0 0 0 0 0 0 0 0 0 0 0 0 0 0 0 0 0 0 0 0 0 0 0 0 0 0 0 0 0\n",
      " 0 0 0 0 0 0 1 1 0 1 0 0 0 0 0 0 0 0 0 1 0 1 0 0 0 1 1 1 1 0 0 1 0 0 0 0 0\n",
      " 0 0 0 0 1 0 0 0 1 0 0 0 0 1 0 1 0 0 0 0 1 0 0 0 0 0 0 0 0 1 1 0 1 0 0 0 0\n",
      " 0 0 0 0 0 0 0 0 0 0 0 1 0 0 1 0 0 0 0 0 1 0 0 0 1 1 0 1 0 0 0 0 1 1 1 0 0\n",
      " 1 0 0 0 0 0 1 1 0 0 0 0 0 0 0 0 1 0 1 0 0 0 0 0 0 1 0 0 0 0 0 0 0 0 0 0 0\n",
      " 0 0 0 0 0 0 0 0 0 0 0 0 0 0 0 0 0 0 0 0 0 0 0 0 0 0 0 1 0 0 0 0 0 0 0 0 0\n",
      " 0 0 0 0 0 0 1 0 0 0 0 0 0 0 1 0 0 1 0 0 0 0 0 0 0 0 1 1 0 1 0 1 0 0 0 0 0\n",
      " 0 0 0 0 0 0 0 1 0 0 0 0 0 0 0 0 0 0 0 1 0 0 0 0 0 0 0 0 0 0 0 1 0 0 0 0 0\n",
      " 0 0 0 0 0 1 0 0 0 0 0 0 0 0 0 1 0 1 0 0 0 0 0 0 0 0 0 0 0 0 0 0 1 0 0 0 0\n",
      " 0 0 0 0 0 0 0 0 0 0 0 1 0 0 0 0 0 1 0 0 0 1 0 0 0 0 0 0 0 0 0 0 0 0 0 1 0\n",
      " 0 0 1 0 1 1 1 0 0 1 0 0 0 0 0 0 0 0 0 0 0 0 0 0 0 0 0 0 0 0 0 0 0 0 0 0 0\n",
      " 0 1 1 0 0 1 1 0 1 1 1 0 1 0 0 0 0 0 0 0 0 0 1 0 1 0 1 0 0 0 0 0 0 1 0 1 0\n",
      " 0 0 0 0 0 0 1 0 1 1 1 0 0 1 0 0 1 0 0 0 0 0 0 0 0 0 0 0 0 1 0 1 1 1 0 0 0\n",
      " 0 0 0 1 0 0 0 0 0 0 1 0 0 0 0 0 0 0 0 0 0 1 0 1 0 0 0 0 0 0 0 0 0 0 0 0 0\n",
      " 1 0 0 0 0 0 0 0 0 0 0 0 0 1 0 0 0 0 0 0 1 0 0 1 0 1 1 0 1 0 0 0 1 0 1 0 0\n",
      " 0 1 0 0 0 0 0 1 0 1 1 0 0 0 0 0 0 0 0 0 0 0 0 0 1 1 0 0 0 0 0 0 0 1 0 0 0\n",
      " 0 0 0 0 0 0 0 0 0 0 0 0 0 1 0 0 1 0 0 0 0 0 1 0 0 0 0 0 0 0 1 1 0 1 1 0 1\n",
      " 0 0 0 0 1 1 1 1 1 0 0 0 1 0 0 1 0 0 0 0 0 0 0 0 0 0 0 0 0 0 0 0 0 1 0 0 0\n",
      " 0 0 0 0 0 0 0 0 0 1 1 0 1 0 0 0 0 0 1 0 0 0 1 0 0 0 0 0 1 0 0 0 1 0 0 0 1\n",
      " 0 0 1 0 0 0 0 0 0 0 0 0 0 0 0 0 0 0 0 0 0 0 0 0 1 0 0 0 0 0 0 0 0 0 0 0 0\n",
      " 0 0 0 0 0 0 0 1 0 0 0 1 0 0 0 0 1 0 0 0 1 1 0 0 0 0 0 0 0 0 0 0 0 0 0 0 0\n",
      " 0 0 0 0 0 0 0 1 0 0 0 0 1 0 1 0 0 0 0 0 0 0 0 1 0 0 0 0 0 0 0 0 0 0 0 0 0\n",
      " 0 0 0 0 0 0 1 1 0 0 0 0 0 0 1 0 0 0 0 1 1 0 0 0 0 0 1 0 0 0 0 0 0 0 0 0 0\n",
      " 1 0 0 1 0 0 0 0 1 0 1 0 0 0 0 0 0 0 0 1 0 0 0 0 0 0 0 0 0 0 0 0 0 0 0 0 0\n",
      " 1 1 0 0 0 0 0 0 1 1 0 0 0 0 0 1 0 0 0 0 0 0 0 1 0 0 0 0 0 0 0]\n",
      "2022-11-13 16:37:45.286\n",
      "\n"
     ]
    }
   ],
   "source": [
    "with pm.Model(coords=coords) as complete:\n",
    "    \n",
    "    \n",
    "    # the values of the <floor> field\n",
    "    floor = pm.Data(name='floor', value=excerpt.floor.values, dims='N', mutable=True)\n",
    "    logger.info(floor.get_value().shape)\n",
    "    logger.info(floor.type())\n",
    "    logger.info(floor.get_value())\n",
    "    \n",
    "    \n",
    "    # <initial> probably has two elements - the object <Dwelling> has two elements, therefore two random values from a normal distribution\n",
    "    initial = pm.Normal(name='initial', mu=0.0, sigma=10.0, dims='Floors')\n",
    "    \n",
    "    \n",
    "    # shape(mu) === shape(floor)\n",
    "    mu = initial[floor]\n",
    "    \n",
    "    \n",
    "    # model\n",
    "    sigma = pm.Exponential(name='sigma', lam=1.0)\n",
    "    y = pm.Normal('y', mu=mu, sigma=sigma, observed=excerpt['ln_radon'].to_numpy(), dims='N')\n",
    "    "
   ]
  },
  {
   "cell_type": "markdown",
   "id": "6b338222-106d-4f92-8eba-745b74d37e9a",
   "metadata": {},
   "source": [
    "<br>\n",
    "<br>\n",
    "\n",
    "Is this the correct seeding method/approach?"
   ]
  },
  {
   "cell_type": "code",
   "execution_count": 33,
   "id": "0ddd76f0-f4b6-465f-affb-94e96c6f1528",
   "metadata": {},
   "outputs": [
    {
     "data": {
      "text/plain": [
       "{'initial': array([0., 0.]), 'sigma_log__': array(0.)}"
      ]
     },
     "execution_count": 33,
     "metadata": {},
     "output_type": "execute_result"
    }
   ],
   "source": [
    "complete.initial_point(seed=RANDOM_SEED)"
   ]
  },
  {
   "cell_type": "markdown",
   "id": "6f0737e6-4790-457f-8d2e-81c09ebb38a9",
   "metadata": {},
   "source": [
    "<br>\n",
    "\n",
    "Illustration of model"
   ]
  },
  {
   "cell_type": "code",
   "execution_count": 34,
   "id": "2896f95d-c2cf-4009-a06f-9c25f0b06e31",
   "metadata": {},
   "outputs": [
    {
     "data": {
      "image/svg+xml": [
       "<?xml version=\"1.0\" encoding=\"UTF-8\" standalone=\"no\"?>\r\n",
       "<!DOCTYPE svg PUBLIC \"-//W3C//DTD SVG 1.1//EN\"\r\n",
       " \"http://www.w3.org/Graphics/SVG/1.1/DTD/svg11.dtd\">\r\n",
       "<!-- Generated by graphviz version 2.38.0 (20140413.2041)\r\n",
       " -->\r\n",
       "<!-- Title: %3 Pages: 1 -->\r\n",
       "<svg width=\"352pt\" height=\"252pt\"\r\n",
       " viewBox=\"0.00 0.00 351.98 251.91\" xmlns=\"http://www.w3.org/2000/svg\" xmlns:xlink=\"http://www.w3.org/1999/xlink\">\r\n",
       "<g id=\"graph0\" class=\"graph\" transform=\"scale(1 1) rotate(0) translate(4 247.907)\">\r\n",
       "<title>%3</title>\r\n",
       "<polygon fill=\"white\" stroke=\"none\" points=\"-4,4 -4,-247.907 347.983,-247.907 347.983,4 -4,4\"/>\r\n",
       "<g id=\"clust1\" class=\"cluster\"><title>clusterN (919)</title>\r\n",
       "<path fill=\"none\" stroke=\"black\" d=\"M20,-8C20,-8 100,-8 100,-8 106,-8 112,-14 112,-20 112,-20 112,-212.93 112,-212.93 112,-218.93 106,-224.93 100,-224.93 100,-224.93 20,-224.93 20,-224.93 14,-224.93 8,-218.93 8,-212.93 8,-212.93 8,-20 8,-20 8,-14 14,-8 20,-8\"/>\r\n",
       "<text text-anchor=\"middle\" x=\"82.5\" y=\"-15.8\" font-family=\"Times New Roman,serif\" font-size=\"14.00\">N (919)</text>\r\n",
       "</g>\r\n",
       "<g id=\"clust2\" class=\"cluster\"><title>clusterFloors (2)</title>\r\n",
       "<path fill=\"none\" stroke=\"black\" d=\"M132,-121.953C132,-121.953 206,-121.953 206,-121.953 212,-121.953 218,-127.953 218,-133.953 218,-133.953 218,-223.907 218,-223.907 218,-229.907 212,-235.907 206,-235.907 206,-235.907 132,-235.907 132,-235.907 126,-235.907 120,-229.907 120,-223.907 120,-223.907 120,-133.953 120,-133.953 120,-127.953 126,-121.953 132,-121.953\"/>\r\n",
       "<text text-anchor=\"middle\" x=\"181.5\" y=\"-129.753\" font-family=\"Times New Roman,serif\" font-size=\"14.00\">Floors (2)</text>\r\n",
       "</g>\r\n",
       "<!-- y -->\r\n",
       "<g id=\"node1\" class=\"node\"><title>y</title>\r\n",
       "<ellipse fill=\"lightgrey\" stroke=\"black\" cx=\"63\" cy=\"-76.4767\" rx=\"41.0244\" ry=\"37.4533\"/>\r\n",
       "<text text-anchor=\"middle\" x=\"63\" y=\"-87.7767\" font-family=\"Times New Roman,serif\" font-size=\"14.00\">y</text>\r\n",
       "<text text-anchor=\"middle\" x=\"63\" y=\"-72.7767\" font-family=\"Times New Roman,serif\" font-size=\"14.00\">~</text>\r\n",
       "<text text-anchor=\"middle\" x=\"63\" y=\"-57.7767\" font-family=\"Times New Roman,serif\" font-size=\"14.00\">Normal</text>\r\n",
       "</g>\r\n",
       "<!-- floor -->\r\n",
       "<g id=\"node2\" class=\"node\"><title>floor</title>\r\n",
       "<path fill=\"lightgrey\" stroke=\"black\" d=\"M91.5,-216.93C91.5,-216.93 28.5,-216.93 28.5,-216.93 22.5,-216.93 16.5,-210.93 16.5,-204.93 16.5,-204.93 16.5,-175.93 16.5,-175.93 16.5,-169.93 22.5,-163.93 28.5,-163.93 28.5,-163.93 91.5,-163.93 91.5,-163.93 97.5,-163.93 103.5,-169.93 103.5,-175.93 103.5,-175.93 103.5,-204.93 103.5,-204.93 103.5,-210.93 97.5,-216.93 91.5,-216.93\"/>\r\n",
       "<text text-anchor=\"middle\" x=\"60\" y=\"-201.73\" font-family=\"Times New Roman,serif\" font-size=\"14.00\">floor</text>\r\n",
       "<text text-anchor=\"middle\" x=\"60\" y=\"-186.73\" font-family=\"Times New Roman,serif\" font-size=\"14.00\">~</text>\r\n",
       "<text text-anchor=\"middle\" x=\"60\" y=\"-171.73\" font-family=\"Times New Roman,serif\" font-size=\"14.00\">MutableData</text>\r\n",
       "</g>\r\n",
       "<!-- floor&#45;&gt;y -->\r\n",
       "<g id=\"edge2\" class=\"edge\"><title>floor&#45;&gt;y</title>\r\n",
       "<path fill=\"none\" stroke=\"black\" d=\"M60.6883,-163.746C61.0026,-152.017 61.3849,-137.749 61.7474,-124.22\"/>\r\n",
       "<polygon fill=\"black\" stroke=\"black\" points=\"65.2501,-124.164 62.0193,-114.074 58.2526,-123.976 65.2501,-124.164\"/>\r\n",
       "</g>\r\n",
       "<!-- initial -->\r\n",
       "<g id=\"node3\" class=\"node\"><title>initial</title>\r\n",
       "<ellipse fill=\"none\" stroke=\"black\" cx=\"169\" cy=\"-190.43\" rx=\"41.0244\" ry=\"37.4533\"/>\r\n",
       "<text text-anchor=\"middle\" x=\"169\" y=\"-201.73\" font-family=\"Times New Roman,serif\" font-size=\"14.00\">initial</text>\r\n",
       "<text text-anchor=\"middle\" x=\"169\" y=\"-186.73\" font-family=\"Times New Roman,serif\" font-size=\"14.00\">~</text>\r\n",
       "<text text-anchor=\"middle\" x=\"169\" y=\"-171.73\" font-family=\"Times New Roman,serif\" font-size=\"14.00\">Normal</text>\r\n",
       "</g>\r\n",
       "<!-- initial&#45;&gt;y -->\r\n",
       "<g id=\"edge1\" class=\"edge\"><title>initial&#45;&gt;y</title>\r\n",
       "<path fill=\"none\" stroke=\"black\" d=\"M147.047,-158.764C137.958,-146.816 126.983,-133.298 116,-121.953 111.504,-117.309 106.556,-112.652 101.545,-108.193\"/>\r\n",
       "<polygon fill=\"black\" stroke=\"black\" points=\"103.526,-105.279 93.6748,-101.379 98.944,-110.571 103.526,-105.279\"/>\r\n",
       "</g>\r\n",
       "<!-- sigma -->\r\n",
       "<g id=\"node4\" class=\"node\"><title>sigma</title>\r\n",
       "<ellipse fill=\"none\" stroke=\"black\" cx=\"286\" cy=\"-190.43\" rx=\"57.9655\" ry=\"37.4533\"/>\r\n",
       "<text text-anchor=\"middle\" x=\"286\" y=\"-201.73\" font-family=\"Times New Roman,serif\" font-size=\"14.00\">sigma</text>\r\n",
       "<text text-anchor=\"middle\" x=\"286\" y=\"-186.73\" font-family=\"Times New Roman,serif\" font-size=\"14.00\">~</text>\r\n",
       "<text text-anchor=\"middle\" x=\"286\" y=\"-171.73\" font-family=\"Times New Roman,serif\" font-size=\"14.00\">Exponential</text>\r\n",
       "</g>\r\n",
       "<!-- sigma&#45;&gt;y -->\r\n",
       "<g id=\"edge3\" class=\"edge\"><title>sigma&#45;&gt;y</title>\r\n",
       "<path fill=\"none\" stroke=\"black\" d=\"M261.234,-156.525C250.406,-144.12 236.797,-130.87 222,-121.953 188.88,-101.997 146.514,-90.7223 113.844,-84.5214\"/>\r\n",
       "<polygon fill=\"black\" stroke=\"black\" points=\"114.062,-81.0047 103.601,-82.6817 112.825,-87.8944 114.062,-81.0047\"/>\r\n",
       "</g>\r\n",
       "</g>\r\n",
       "</svg>\r\n"
      ],
      "text/plain": [
       "<graphviz.dot.Digraph at 0x128ed0a0>"
      ]
     },
     "execution_count": 34,
     "metadata": {},
     "output_type": "execute_result"
    }
   ],
   "source": [
    "pm.model_to_graphviz(complete)"
   ]
  },
  {
   "cell_type": "code",
   "execution_count": 35,
   "id": "3342d466-840c-4a83-8c5d-7019a1420f26",
   "metadata": {},
   "outputs": [],
   "source": [
    "diagram = pm.model_graph.ModelGraph(model=complete).make_graph()\n",
    "diagram.node_attr.update(shape='circle')\n",
    "diagram.save(os.path.join(os.getcwd(), 'notebooks', 'simple.gv'))\n",
    "graphviz.render(engine='dot', format='pdf', filepath=os.path.join(os.getcwd(), 'notebooks', 'simple.gv'));"
   ]
  },
  {
   "cell_type": "markdown",
   "id": "42039f2b-c8e9-4f67-8727-97d65fae195b",
   "metadata": {},
   "source": [
    "<br>\n",
    "\n",
    "An inspection of a [prior predictiove distribution](https://www.pymc.io/projects/docs/en/stable/api/generated/pymc.sample_prior_predictive.html#pymc.sample_prior_predictive) sample"
   ]
  },
  {
   "cell_type": "code",
   "execution_count": 36,
   "id": "5cd39c9d-9557-45a8-a232-75f3db0220fd",
   "metadata": {},
   "outputs": [
    {
     "name": "stderr",
     "output_type": "stream",
     "text": [
      "Sampling: [initial, sigma, y]\n",
      "\n",
      "Sampling: [initial, sigma, y]\n",
      "2022-11-13 16:37:45.841\n",
      "\n"
     ]
    }
   ],
   "source": [
    "with complete:\n",
    "    inspection = pm.sample_prior_predictive()\n",
    "    "
   ]
  },
  {
   "cell_type": "code",
   "execution_count": 37,
   "id": "8d90a250-1b48-4871-a41b-4fbe42be4d6a",
   "metadata": {},
   "outputs": [
    {
     "data": {
      "text/plain": [
       "KeysView(<xarray.Dataset>\n",
       "Dimensions:  (chain: 1, draw: 500, N: 919)\n",
       "Coordinates:\n",
       "  * chain    (chain) int32 0\n",
       "  * draw     (draw) int32 0 1 2 3 4 5 6 7 8 ... 492 493 494 495 496 497 498 499\n",
       "  * N        (N) int32 0 1 2 3 4 5 6 7 8 ... 910 911 912 913 914 915 916 917 918\n",
       "Data variables:\n",
       "    y        (chain, draw, N) float64 8.196 2.638 2.4 ... 3.309 2.882 4.116\n",
       "Attributes:\n",
       "    created_at:                 2022-11-13T16:37:45.983206\n",
       "    arviz_version:              0.13.0\n",
       "    inference_library:          pymc\n",
       "    inference_library_version:  4.3.0)"
      ]
     },
     "execution_count": 37,
     "metadata": {},
     "output_type": "execute_result"
    }
   ],
   "source": [
    "inspection.get('prior_predictive').keys()"
   ]
  },
  {
   "cell_type": "code",
   "execution_count": 38,
   "id": "4c197786-e3a9-4f1b-ae1d-1948fb01c3da",
   "metadata": {},
   "outputs": [
    {
     "data": {
      "text/plain": [
       "arviz.data.inference_data.InferenceData"
      ]
     },
     "execution_count": 38,
     "metadata": {},
     "output_type": "execute_result"
    }
   ],
   "source": [
    "type(inspection)"
   ]
  },
  {
   "cell_type": "markdown",
   "id": "d6d01310-985b-4f80-b98c-1300790a85e5",
   "metadata": {},
   "source": [
    "<br>\n",
    "<br>\n",
    "\n",
    "Hence"
   ]
  },
  {
   "cell_type": "code",
   "execution_count": 40,
   "id": "ff56a27b-1c3f-4962-b97d-037d148b942f",
   "metadata": {},
   "outputs": [
    {
     "data": {
      "image/png": "[encoded data removed]",
      "text/plain": [
       "<Figure size 370x250 with 2 Axes>"
      ]
     },
     "metadata": {},
     "output_type": "display_data"
    }
   ],
   "source": [
    "ax = sketch.figure(width=3.7, height=2.5)\n",
    "inspection.prior.plot.scatter(x='Floors', y='initial', alpha=0.35, ax=ax)\n",
    "sketch.annotation(ax, Labels(title='', xlabel='floor', ylabel='mean(ln(radon))'))"
   ]
  },
  {
   "cell_type": "markdown",
   "id": "76f3e046-91ab-4586-9475-f93f0fbd7d20",
   "metadata": {},
   "source": [
    "<br>\n",
    "\n",
    "Alternatively"
   ]
  },
  {
   "cell_type": "code",
   "execution_count": 41,
   "id": "8bade629-25c9-4467-b0a6-af2b277d6f42",
   "metadata": {},
   "outputs": [],
   "source": [
    "prior = inspection.get('prior_predictive')"
   ]
  },
  {
   "cell_type": "code",
   "execution_count": 42,
   "id": "8f64589b-9e78-42fd-a281-6dba973a8d70",
   "metadata": {},
   "outputs": [
    {
     "data": {
      "text/plain": [
       "KeysView(<xarray.Dataset>\n",
       "Dimensions:  (chain: 1, draw: 500, N: 919)\n",
       "Coordinates:\n",
       "  * chain    (chain) int32 0\n",
       "  * draw     (draw) int32 0 1 2 3 4 5 6 7 8 ... 492 493 494 495 496 497 498 499\n",
       "  * N        (N) int32 0 1 2 3 4 5 6 7 8 ... 910 911 912 913 914 915 916 917 918\n",
       "Data variables:\n",
       "    y        (chain, draw, N) float64 8.196 2.638 2.4 ... 3.309 2.882 4.116\n",
       "Attributes:\n",
       "    created_at:                 2022-11-13T16:37:45.983206\n",
       "    arviz_version:              0.13.0\n",
       "    inference_library:          pymc\n",
       "    inference_library_version:  4.3.0)"
      ]
     },
     "execution_count": 42,
     "metadata": {},
     "output_type": "execute_result"
    }
   ],
   "source": [
    "prior.keys()"
   ]
  },
  {
   "cell_type": "code",
   "execution_count": 43,
   "id": "d8b9a391-34bb-470e-aaba-3f94c0ea611f",
   "metadata": {},
   "outputs": [
    {
     "data": {
      "text/html": [
       "<div><svg style=\"position: absolute; width: 0; height: 0; overflow: hidden\">\n",
       "<defs>\n",
       "<symbol id=\"icon-database\" viewBox=\"0 0 32 32\">\n",
       "<path d=\"M16 0c-8.837 0-16 2.239-16 5v4c0 2.761 7.163 5 16 5s16-2.239 16-5v-4c0-2.761-7.163-5-16-5z\"></path>\n",
       "<path d=\"M16 17c-8.837 0-16-2.239-16-5v6c0 2.761 7.163 5 16 5s16-2.239 16-5v-6c0 2.761-7.163 5-16 5z\"></path>\n",
       "<path d=\"M16 26c-8.837 0-16-2.239-16-5v6c0 2.761 7.163 5 16 5s16-2.239 16-5v-6c0 2.761-7.163 5-16 5z\"></path>\n",
       "</symbol>\n",
       "<symbol id=\"icon-file-text2\" viewBox=\"0 0 32 32\">\n",
       "<path d=\"M28.681 7.159c-0.694-0.947-1.662-2.053-2.724-3.116s-2.169-2.030-3.116-2.724c-1.612-1.182-2.393-1.319-2.841-1.319h-15.5c-1.378 0-2.5 1.121-2.5 2.5v27c0 1.378 1.122 2.5 2.5 2.5h23c1.378 0 2.5-1.122 2.5-2.5v-19.5c0-0.448-0.137-1.23-1.319-2.841zM24.543 5.457c0.959 0.959 1.712 1.825 2.268 2.543h-4.811v-4.811c0.718 0.556 1.584 1.309 2.543 2.268zM28 29.5c0 0.271-0.229 0.5-0.5 0.5h-23c-0.271 0-0.5-0.229-0.5-0.5v-27c0-0.271 0.229-0.5 0.5-0.5 0 0 15.499-0 15.5 0v7c0 0.552 0.448 1 1 1h7v19.5z\"></path>\n",
       "<path d=\"M23 26h-14c-0.552 0-1-0.448-1-1s0.448-1 1-1h14c0.552 0 1 0.448 1 1s-0.448 1-1 1z\"></path>\n",
       "<path d=\"M23 22h-14c-0.552 0-1-0.448-1-1s0.448-1 1-1h14c0.552 0 1 0.448 1 1s-0.448 1-1 1z\"></path>\n",
       "<path d=\"M23 18h-14c-0.552 0-1-0.448-1-1s0.448-1 1-1h14c0.552 0 1 0.448 1 1s-0.448 1-1 1z\"></path>\n",
       "</symbol>\n",
       "</defs>\n",
       "</svg>\n",
       "<style>/* CSS stylesheet for displaying xarray objects in jupyterlab.\n",
       " *\n",
       " */\n",
       "\n",
       ":root {\n",
       "  --xr-font-color0: var(--jp-content-font-color0, rgba(0, 0, 0, 1));\n",
       "  --xr-font-color2: var(--jp-content-font-color2, rgba(0, 0, 0, 0.54));\n",
       "  --xr-font-color3: var(--jp-content-font-color3, rgba(0, 0, 0, 0.38));\n",
       "  --xr-border-color: var(--jp-border-color2, #e0e0e0);\n",
       "  --xr-disabled-color: var(--jp-layout-color3, #bdbdbd);\n",
       "  --xr-background-color: var(--jp-layout-color0, white);\n",
       "  --xr-background-color-row-even: var(--jp-layout-color1, white);\n",
       "  --xr-background-color-row-odd: var(--jp-layout-color2, #eeeeee);\n",
       "}\n",
       "\n",
       "html[theme=dark],\n",
       "body[data-theme=dark],\n",
       "body.vscode-dark {\n",
       "  --xr-font-color0: rgba(255, 255, 255, 1);\n",
       "  --xr-font-color2: rgba(255, 255, 255, 0.54);\n",
       "  --xr-font-color3: rgba(255, 255, 255, 0.38);\n",
       "  --xr-border-color: #1F1F1F;\n",
       "  --xr-disabled-color: #515151;\n",
       "  --xr-background-color: #111111;\n",
       "  --xr-background-color-row-even: #111111;\n",
       "  --xr-background-color-row-odd: #313131;\n",
       "}\n",
       "\n",
       ".xr-wrap {\n",
       "  display: block !important;\n",
       "  min-width: 300px;\n",
       "  max-width: 700px;\n",
       "}\n",
       "\n",
       ".xr-text-repr-fallback {\n",
       "  /* fallback to plain text repr when CSS is not injected (untrusted notebook) */\n",
       "  display: none;\n",
       "}\n",
       "\n",
       ".xr-header {\n",
       "  padding-top: 6px;\n",
       "  padding-bottom: 6px;\n",
       "  margin-bottom: 4px;\n",
       "  border-bottom: solid 1px var(--xr-border-color);\n",
       "}\n",
       "\n",
       ".xr-header > div,\n",
       ".xr-header > ul {\n",
       "  display: inline;\n",
       "  margin-top: 0;\n",
       "  margin-bottom: 0;\n",
       "}\n",
       "\n",
       ".xr-obj-type,\n",
       ".xr-array-name {\n",
       "  margin-left: 2px;\n",
       "  margin-right: 10px;\n",
       "}\n",
       "\n",
       ".xr-obj-type {\n",
       "  color: var(--xr-font-color2);\n",
       "}\n",
       "\n",
       ".xr-sections {\n",
       "  padding-left: 0 !important;\n",
       "  display: grid;\n",
       "  grid-template-columns: 150px auto auto 1fr 20px 20px;\n",
       "}\n",
       "\n",
       ".xr-section-item {\n",
       "  display: contents;\n",
       "}\n",
       "\n",
       ".xr-section-item input {\n",
       "  display: none;\n",
       "}\n",
       "\n",
       ".xr-section-item input + label {\n",
       "  color: var(--xr-disabled-color);\n",
       "}\n",
       "\n",
       ".xr-section-item input:enabled + label {\n",
       "  cursor: pointer;\n",
       "  color: var(--xr-font-color2);\n",
       "}\n",
       "\n",
       ".xr-section-item input:enabled + label:hover {\n",
       "  color: var(--xr-font-color0);\n",
       "}\n",
       "\n",
       ".xr-section-summary {\n",
       "  grid-column: 1;\n",
       "  color: var(--xr-font-color2);\n",
       "  font-weight: 500;\n",
       "}\n",
       "\n",
       ".xr-section-summary > span {\n",
       "  display: inline-block;\n",
       "  padding-left: 0.5em;\n",
       "}\n",
       "\n",
       ".xr-section-summary-in:disabled + label {\n",
       "  color: var(--xr-font-color2);\n",
       "}\n",
       "\n",
       ".xr-section-summary-in + label:before {\n",
       "  display: inline-block;\n",
       "  content: '►';\n",
       "  font-size: 11px;\n",
       "  width: 15px;\n",
       "  text-align: center;\n",
       "}\n",
       "\n",
       ".xr-section-summary-in:disabled + label:before {\n",
       "  color: var(--xr-disabled-color);\n",
       "}\n",
       "\n",
       ".xr-section-summary-in:checked + label:before {\n",
       "  content: '▼';\n",
       "}\n",
       "\n",
       ".xr-section-summary-in:checked + label > span {\n",
       "  display: none;\n",
       "}\n",
       "\n",
       ".xr-section-summary,\n",
       ".xr-section-inline-details {\n",
       "  padding-top: 4px;\n",
       "  padding-bottom: 4px;\n",
       "}\n",
       "\n",
       ".xr-section-inline-details {\n",
       "  grid-column: 2 / -1;\n",
       "}\n",
       "\n",
       ".xr-section-details {\n",
       "  display: none;\n",
       "  grid-column: 1 / -1;\n",
       "  margin-bottom: 5px;\n",
       "}\n",
       "\n",
       ".xr-section-summary-in:checked ~ .xr-section-details {\n",
       "  display: contents;\n",
       "}\n",
       "\n",
       ".xr-array-wrap {\n",
       "  grid-column: 1 / -1;\n",
       "  display: grid;\n",
       "  grid-template-columns: 20px auto;\n",
       "}\n",
       "\n",
       ".xr-array-wrap > label {\n",
       "  grid-column: 1;\n",
       "  vertical-align: top;\n",
       "}\n",
       "\n",
       ".xr-preview {\n",
       "  color: var(--xr-font-color3);\n",
       "}\n",
       "\n",
       ".xr-array-preview,\n",
       ".xr-array-data {\n",
       "  padding: 0 5px !important;\n",
       "  grid-column: 2;\n",
       "}\n",
       "\n",
       ".xr-array-data,\n",
       ".xr-array-in:checked ~ .xr-array-preview {\n",
       "  display: none;\n",
       "}\n",
       "\n",
       ".xr-array-in:checked ~ .xr-array-data,\n",
       ".xr-array-preview {\n",
       "  display: inline-block;\n",
       "}\n",
       "\n",
       ".xr-dim-list {\n",
       "  display: inline-block !important;\n",
       "  list-style: none;\n",
       "  padding: 0 !important;\n",
       "  margin: 0;\n",
       "}\n",
       "\n",
       ".xr-dim-list li {\n",
       "  display: inline-block;\n",
       "  padding: 0;\n",
       "  margin: 0;\n",
       "}\n",
       "\n",
       ".xr-dim-list:before {\n",
       "  content: '(';\n",
       "}\n",
       "\n",
       ".xr-dim-list:after {\n",
       "  content: ')';\n",
       "}\n",
       "\n",
       ".xr-dim-list li:not(:last-child):after {\n",
       "  content: ',';\n",
       "  padding-right: 5px;\n",
       "}\n",
       "\n",
       ".xr-has-index {\n",
       "  font-weight: bold;\n",
       "}\n",
       "\n",
       ".xr-var-list,\n",
       ".xr-var-item {\n",
       "  display: contents;\n",
       "}\n",
       "\n",
       ".xr-var-item > div,\n",
       ".xr-var-item label,\n",
       ".xr-var-item > .xr-var-name span {\n",
       "  background-color: var(--xr-background-color-row-even);\n",
       "  margin-bottom: 0;\n",
       "}\n",
       "\n",
       ".xr-var-item > .xr-var-name:hover span {\n",
       "  padding-right: 5px;\n",
       "}\n",
       "\n",
       ".xr-var-list > li:nth-child(odd) > div,\n",
       ".xr-var-list > li:nth-child(odd) > label,\n",
       ".xr-var-list > li:nth-child(odd) > .xr-var-name span {\n",
       "  background-color: var(--xr-background-color-row-odd);\n",
       "}\n",
       "\n",
       ".xr-var-name {\n",
       "  grid-column: 1;\n",
       "}\n",
       "\n",
       ".xr-var-dims {\n",
       "  grid-column: 2;\n",
       "}\n",
       "\n",
       ".xr-var-dtype {\n",
       "  grid-column: 3;\n",
       "  text-align: right;\n",
       "  color: var(--xr-font-color2);\n",
       "}\n",
       "\n",
       ".xr-var-preview {\n",
       "  grid-column: 4;\n",
       "}\n",
       "\n",
       ".xr-index-preview {\n",
       "  grid-column: 2 / 5;\n",
       "  color: var(--xr-font-color2);\n",
       "}\n",
       "\n",
       ".xr-var-name,\n",
       ".xr-var-dims,\n",
       ".xr-var-dtype,\n",
       ".xr-preview,\n",
       ".xr-attrs dt {\n",
       "  white-space: nowrap;\n",
       "  overflow: hidden;\n",
       "  text-overflow: ellipsis;\n",
       "  padding-right: 10px;\n",
       "}\n",
       "\n",
       ".xr-var-name:hover,\n",
       ".xr-var-dims:hover,\n",
       ".xr-var-dtype:hover,\n",
       ".xr-attrs dt:hover {\n",
       "  overflow: visible;\n",
       "  width: auto;\n",
       "  z-index: 1;\n",
       "}\n",
       "\n",
       ".xr-var-attrs,\n",
       ".xr-var-data,\n",
       ".xr-index-data {\n",
       "  display: none;\n",
       "  background-color: var(--xr-background-color) !important;\n",
       "  padding-bottom: 5px !important;\n",
       "}\n",
       "\n",
       ".xr-var-attrs-in:checked ~ .xr-var-attrs,\n",
       ".xr-var-data-in:checked ~ .xr-var-data,\n",
       ".xr-index-data-in:checked ~ .xr-index-data {\n",
       "  display: block;\n",
       "}\n",
       "\n",
       ".xr-var-data > table {\n",
       "  float: right;\n",
       "}\n",
       "\n",
       ".xr-var-name span,\n",
       ".xr-var-data,\n",
       ".xr-index-name div,\n",
       ".xr-index-data,\n",
       ".xr-attrs {\n",
       "  padding-left: 25px !important;\n",
       "}\n",
       "\n",
       ".xr-attrs,\n",
       ".xr-var-attrs,\n",
       ".xr-var-data,\n",
       ".xr-index-data {\n",
       "  grid-column: 1 / -1;\n",
       "}\n",
       "\n",
       "dl.xr-attrs {\n",
       "  padding: 0;\n",
       "  margin: 0;\n",
       "  display: grid;\n",
       "  grid-template-columns: 125px auto;\n",
       "}\n",
       "\n",
       ".xr-attrs dt,\n",
       ".xr-attrs dd {\n",
       "  padding: 0;\n",
       "  margin: 0;\n",
       "  float: left;\n",
       "  padding-right: 10px;\n",
       "  width: auto;\n",
       "}\n",
       "\n",
       ".xr-attrs dt {\n",
       "  font-weight: normal;\n",
       "  grid-column: 1;\n",
       "}\n",
       "\n",
       ".xr-attrs dt:hover span {\n",
       "  display: inline-block;\n",
       "  background: var(--xr-background-color);\n",
       "  padding-right: 10px;\n",
       "}\n",
       "\n",
       ".xr-attrs dd {\n",
       "  grid-column: 2;\n",
       "  white-space: pre-wrap;\n",
       "  word-break: break-all;\n",
       "}\n",
       "\n",
       ".xr-icon-database,\n",
       ".xr-icon-file-text2,\n",
       ".xr-no-icon {\n",
       "  display: inline-block;\n",
       "  vertical-align: middle;\n",
       "  width: 1em;\n",
       "  height: 1.5em !important;\n",
       "  stroke-width: 0;\n",
       "  stroke: currentColor;\n",
       "  fill: currentColor;\n",
       "}\n",
       "</style><pre class='xr-text-repr-fallback'>&lt;xarray.DataArray &#x27;y&#x27; ()&gt;\n",
       "array(0.0052427)</pre><div class='xr-wrap' style='display:none'><div class='xr-header'><div class='xr-obj-type'>xarray.DataArray</div><div class='xr-array-name'>'y'</div></div><ul class='xr-sections'><li class='xr-section-item'><div class='xr-array-wrap'><input id='section-0842ca03-9ac2-4099-94b3-cc8a189a3c03' class='xr-array-in' type='checkbox' checked><label for='section-0842ca03-9ac2-4099-94b3-cc8a189a3c03' title='Show/hide data repr'><svg class='icon xr-icon-database'><use xlink:href='#icon-database'></use></svg></label><div class='xr-array-preview xr-preview'><span>0.005243</span></div><div class='xr-array-data'><pre>array(0.0052427)</pre></div></div></li><li class='xr-section-item'><input id='section-6311cef0-f728-4dab-99e9-73641fe92aa3' class='xr-section-summary-in' type='checkbox' disabled ><label for='section-6311cef0-f728-4dab-99e9-73641fe92aa3' class='xr-section-summary'  title='Expand/collapse section'>Coordinates: <span>(0)</span></label><div class='xr-section-inline-details'></div><div class='xr-section-details'><ul class='xr-var-list'></ul></div></li><li class='xr-section-item'><input id='section-f3d72d63-6123-46fc-8ded-ffa0317d2381' class='xr-section-summary-in' type='checkbox' disabled ><label for='section-f3d72d63-6123-46fc-8ded-ffa0317d2381' class='xr-section-summary'  title='Expand/collapse section'>Indexes: <span>(0)</span></label><div class='xr-section-inline-details'></div><div class='xr-section-details'><ul class='xr-var-list'></ul></div></li><li class='xr-section-item'><input id='section-f2d8134f-0989-4c03-ad3d-c6815d7f4137' class='xr-section-summary-in' type='checkbox' disabled ><label for='section-f2d8134f-0989-4c03-ad3d-c6815d7f4137' class='xr-section-summary'  title='Expand/collapse section'>Attributes: <span>(0)</span></label><div class='xr-section-inline-details'></div><div class='xr-section-details'><dl class='xr-attrs'></dl></div></li></ul></div></div>"
      ],
      "text/plain": [
       "<xarray.DataArray 'y' ()>\n",
       "array(0.0052427)"
      ]
     },
     "execution_count": 43,
     "metadata": {},
     "output_type": "execute_result"
    }
   ],
   "source": [
    "Y = prior.get('y').mean(axis=1)\n",
    "Y.var()"
   ]
  },
  {
   "cell_type": "code",
   "execution_count": 44,
   "id": "38f72e61-8a31-492c-a878-1e213bda00d2",
   "metadata": {},
   "outputs": [
    {
     "data": {
      "text/plain": [
       "(919,)"
      ]
     },
     "execution_count": 44,
     "metadata": {},
     "output_type": "execute_result"
    }
   ],
   "source": [
    "np.squeeze(Y.values).shape"
   ]
  },
  {
   "cell_type": "code",
   "execution_count": null,
   "id": "e87db8d5-7486-4e94-bd3d-bfa30fe8b4a0",
   "metadata": {},
   "outputs": [],
   "source": [
    "# ax = sketch.figure(width=3.7, height=2.5)"
   ]
  }
 ],
 "metadata": {
  "kernelspec": {
   "display_name": "Python 3 (ipykernel)",
   "language": "python",
   "name": "python3"
  },
  "language_info": {
   "codemirror_mode": {
    "name": "ipython",
    "version": 3
   },
   "file_extension": ".py",
   "mimetype": "text/x-python",
   "name": "python",
   "nbconvert_exporter": "python",
   "pygments_lexer": "ipython3",
   "version": "3.8.13"
  },
  "vscode": {
   "interpreter": {
    "hash": "d4d1e4263499bec80672ea0156c357c1ee493ec2b1c70f0acce89fc37c4a6abe"
   }
  }
 },
 "nbformat": 4,
 "nbformat_minor": 5
}
