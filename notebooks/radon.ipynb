{
 "cells": [
  {
   "cell_type": "markdown",
   "id": "12ff85d2-a615-44b7-8376-6b767072ce72",
   "metadata": {},
   "source": [
    "# Preliminaries"
   ]
  },
  {
   "cell_type": "code",
   "execution_count": 1,
   "id": "0007da65-a9db-493a-a65c-6fcb17522b88",
   "metadata": {},
   "outputs": [
    {
     "name": "stdout",
     "output_type": "stream",
     "text": [
      "Python 3.8.13\n"
     ]
    }
   ],
   "source": [
    "!python --version"
   ]
  },
  {
   "cell_type": "markdown",
   "id": "73d16c72-2d28-4fab-b572-21f3399dd9c9",
   "metadata": {},
   "source": [
    "<br>\n",
    "\n",
    "## Environment"
   ]
  },
  {
   "cell_type": "code",
   "execution_count": 2,
   "id": "79b0a44c-1678-40ef-951a-194879995b8e",
   "metadata": {},
   "outputs": [],
   "source": [
    "import os\n",
    "import pathlib"
   ]
  },
  {
   "cell_type": "markdown",
   "id": "9bf81a01-1e4e-482d-8201-d6595b04e1b5",
   "metadata": {},
   "source": [
    "<br>\n",
    "\n",
    "Set path"
   ]
  },
  {
   "cell_type": "code",
   "execution_count": 3,
   "id": "21f97165-1142-4ac8-8265-423d428b3608",
   "metadata": {},
   "outputs": [],
   "source": [
    "os.chdir(path=str(pathlib.Path(os.getcwd()).parent))"
   ]
  },
  {
   "cell_type": "code",
   "execution_count": 4,
   "id": "2486b523-7ae9-45af-b619-05d2b1e3855b",
   "metadata": {},
   "outputs": [
    {
     "data": {
      "text/plain": [
       "'J:\\\\library\\\\plausibilities\\\\delineating'"
      ]
     },
     "execution_count": 4,
     "metadata": {},
     "output_type": "execute_result"
    }
   ],
   "source": [
    "os.getcwd()"
   ]
  },
  {
   "cell_type": "markdown",
   "id": "b04b45c4-4413-4c76-83d2-c83272937361",
   "metadata": {},
   "source": [
    "<br>\n",
    "\n",
    "## Libraries"
   ]
  },
  {
   "cell_type": "code",
   "execution_count": 5,
   "id": "62500f62-fa51-4675-8765-d11f5d088ccf",
   "metadata": {},
   "outputs": [],
   "source": [
    "%matplotlib inline"
   ]
  },
  {
   "cell_type": "code",
   "execution_count": 6,
   "id": "a50fb0ed-d6c4-4d20-a82d-095d080227af",
   "metadata": {},
   "outputs": [],
   "source": [
    "import logging\n",
    "import collections\n",
    "\n",
    "import matplotlib.pyplot as plt\n",
    "import numpy as np\n",
    "import pandas as pd\n",
    "\n",
    "import arviz as az\n",
    "import pymc as pm\n",
    "import xarray as xr\n",
    "import aesara.tensor as at"
   ]
  },
  {
   "cell_type": "markdown",
   "id": "f96db317-945e-4c4d-b59f-deaa03563865",
   "metadata": {},
   "source": [
    "<br>\n",
    "\n",
    "Versions"
   ]
  },
  {
   "cell_type": "code",
   "execution_count": 7,
   "id": "d6e77568-391d-475b-a249-35101e36fad7",
   "metadata": {},
   "outputs": [
    {
     "data": {
      "text/plain": [
       "'0.13.0'"
      ]
     },
     "execution_count": 7,
     "metadata": {},
     "output_type": "execute_result"
    }
   ],
   "source": [
    "az.__version__"
   ]
  },
  {
   "cell_type": "code",
   "execution_count": 8,
   "id": "392d5bc2-4933-407c-948c-ffb60f8c2fda",
   "metadata": {},
   "outputs": [
    {
     "data": {
      "text/plain": [
       "'4.3.0'"
      ]
     },
     "execution_count": 8,
     "metadata": {},
     "output_type": "execute_result"
    }
   ],
   "source": [
    "pm.__version__"
   ]
  },
  {
   "cell_type": "code",
   "execution_count": 9,
   "id": "3ff9bc4a-e1cd-41e5-a6ce-9bba5f0dd945",
   "metadata": {},
   "outputs": [
    {
     "data": {
      "text/plain": [
       "'1.22.3'"
      ]
     },
     "execution_count": 9,
     "metadata": {},
     "output_type": "execute_result"
    }
   ],
   "source": [
    "np.__version__"
   ]
  },
  {
   "cell_type": "markdown",
   "id": "d6a42025-827c-4d62-b758-05d82eb34658",
   "metadata": {},
   "source": [
    "<br>\n",
    "\n",
    "## Custom"
   ]
  },
  {
   "cell_type": "code",
   "execution_count": 10,
   "id": "8e98ba43-fda0-47a8-8ae5-ac5917a6c7ab",
   "metadata": {},
   "outputs": [],
   "source": [
    "import src.graphics.settings\n",
    "import src.graphics.sketch"
   ]
  },
  {
   "cell_type": "markdown",
   "id": "3397f6cd-ea8c-48ef-863f-71a35c71bcdd",
   "metadata": {},
   "source": [
    "<br>\n",
    "\n",
    "Aesthetics"
   ]
  },
  {
   "cell_type": "code",
   "execution_count": 11,
   "id": "43bdea7a-b6f2-490b-8f5a-fc951f19ac90",
   "metadata": {},
   "outputs": [],
   "source": [
    "settings = src.graphics.settings.Settings()\n",
    "\n",
    "settings.layout()\n",
    "settings.aesthetics()"
   ]
  },
  {
   "cell_type": "markdown",
   "id": "48fe87f8-35ac-4ad9-8bc1-4fcf5d529d27",
   "metadata": {},
   "source": [
    "<br>\n",
    "\n",
    "For diagrams/figures"
   ]
  },
  {
   "cell_type": "code",
   "execution_count": 12,
   "id": "747590a0-afb7-4779-90d0-d69628c67ebf",
   "metadata": {},
   "outputs": [],
   "source": [
    "sketch = src.graphics.sketch.Sketch()"
   ]
  },
  {
   "cell_type": "code",
   "execution_count": 13,
   "id": "83806ad4-3200-440c-83c9-07ec28e75ae9",
   "metadata": {},
   "outputs": [],
   "source": [
    "Labels = collections.namedtuple(typename='Labels', field_names=['title', 'xlabel', 'ylabel'])"
   ]
  },
  {
   "cell_type": "markdown",
   "id": "3afbf959-c16f-4409-9599-8ec6d7c6d1b0",
   "metadata": {},
   "source": [
    "<br>\n",
    "\n",
    "## Settings"
   ]
  },
  {
   "cell_type": "markdown",
   "id": "fa6a93e3-2f26-4bd6-ad8d-374a6dd0be8e",
   "metadata": {},
   "source": [
    "Seed"
   ]
  },
  {
   "cell_type": "code",
   "execution_count": 14,
   "id": "3f00eba3-ec00-4dfa-9003-b17527463777",
   "metadata": {},
   "outputs": [],
   "source": [
    "RANDOM_SEED = 8924"
   ]
  },
  {
   "cell_type": "markdown",
   "id": "6977195b-7c83-45b4-9bb2-82db03c41387",
   "metadata": {},
   "source": [
    "<br>\n",
    "\n",
    "Graphing"
   ]
  },
  {
   "cell_type": "code",
   "execution_count": 15,
   "id": "5c70e3df-ee75-42e0-96ca-0fcd8b99585e",
   "metadata": {},
   "outputs": [],
   "source": [
    "az.style.use('arviz-darkgrid')"
   ]
  },
  {
   "cell_type": "markdown",
   "id": "f54f9311-530c-44cb-911a-f200ca0bb8ce",
   "metadata": {},
   "source": [
    "<br>\n",
    "\n",
    "## Logging"
   ]
  },
  {
   "cell_type": "code",
   "execution_count": 16,
   "id": "5096d6ea-d2db-4715-876b-46b5a5531021",
   "metadata": {},
   "outputs": [],
   "source": [
    "logging.basicConfig(level=logging.INFO, \n",
    "                    format='\\n%(message)s\\n%(asctime)s.%(msecs)03d', \n",
    "                    datefmt='%Y-%m-%d %H:%M:%S')\n",
    "logger = logging.getLogger(__name__)"
   ]
  },
  {
   "cell_type": "markdown",
   "id": "36280a57-9123-447f-be10-3ada0ef74ec7",
   "metadata": {},
   "source": [
    "<br>\n",
    "<br>\n",
    "\n",
    "# Data"
   ]
  },
  {
   "cell_type": "markdown",
   "id": "4fd33a37-a02f-4995-bf3a-fd1a7a9eaba3",
   "metadata": {},
   "source": [
    "## Dwelling Level"
   ]
  },
  {
   "cell_type": "code",
   "execution_count": 17,
   "id": "a0b6f462-a350-4857-aed8-e16aba13a843",
   "metadata": {},
   "outputs": [],
   "source": [
    "try:\n",
    "    data = pd.read_csv(filepath_or_buffer=pm.get_data('srrs2.dat'))\n",
    "except FileNotFoundError as err:\n",
    "    raise Exception(err.strerror)"
   ]
  },
  {
   "cell_type": "code",
   "execution_count": 18,
   "id": "d368dd40-e105-4f8f-901c-61abf13fc2af",
   "metadata": {},
   "outputs": [
    {
     "data": {
      "text/plain": [
       "Index(['idnum', 'state', 'state2', 'stfips', 'zip', 'region', 'typebldg',\n",
       "       'floor', 'room', 'basement', 'windoor', 'rep', 'stratum', 'wave',\n",
       "       'starttm', 'stoptm', 'startdt', 'stopdt', 'activity', 'pcterr', 'adjwt',\n",
       "       'dupflag', 'zipflag', 'cntyfips', 'county'],\n",
       "      dtype='object')"
      ]
     },
     "execution_count": 18,
     "metadata": {},
     "output_type": "execute_result"
    }
   ],
   "source": [
    "data.columns"
   ]
  },
  {
   "cell_type": "code",
   "execution_count": 19,
   "id": "267f45f7-85a7-4823-9b1c-36f6ca08e294",
   "metadata": {},
   "outputs": [],
   "source": [
    "data.rename(mapper=str.strip, axis='columns', inplace=True)"
   ]
  },
  {
   "cell_type": "code",
   "execution_count": 20,
   "id": "04997126-4bfa-4799-a50a-14f8e4baa1d7",
   "metadata": {},
   "outputs": [
    {
     "data": {
      "text/html": [
       "<div>\n",
       "<style scoped>\n",
       "    .dataframe tbody tr th:only-of-type {\n",
       "        vertical-align: middle;\n",
       "    }\n",
       "\n",
       "    .dataframe tbody tr th {\n",
       "        vertical-align: top;\n",
       "    }\n",
       "\n",
       "    .dataframe thead th {\n",
       "        text-align: right;\n",
       "    }\n",
       "</style>\n",
       "<table border=\"1\" class=\"dataframe\">\n",
       "  <thead>\n",
       "    <tr style=\"text-align: right;\">\n",
       "      <th></th>\n",
       "      <th>idnum</th>\n",
       "      <th>state</th>\n",
       "      <th>state2</th>\n",
       "      <th>stfips</th>\n",
       "      <th>zip</th>\n",
       "      <th>region</th>\n",
       "      <th>typebldg</th>\n",
       "      <th>floor</th>\n",
       "      <th>room</th>\n",
       "      <th>basement</th>\n",
       "      <th>...</th>\n",
       "      <th>stoptm</th>\n",
       "      <th>startdt</th>\n",
       "      <th>stopdt</th>\n",
       "      <th>activity</th>\n",
       "      <th>pcterr</th>\n",
       "      <th>adjwt</th>\n",
       "      <th>dupflag</th>\n",
       "      <th>zipflag</th>\n",
       "      <th>cntyfips</th>\n",
       "      <th>county</th>\n",
       "    </tr>\n",
       "  </thead>\n",
       "  <tbody>\n",
       "    <tr>\n",
       "      <th>0</th>\n",
       "      <td>1</td>\n",
       "      <td>AZ</td>\n",
       "      <td>AZ</td>\n",
       "      <td>4</td>\n",
       "      <td>85920</td>\n",
       "      <td>1</td>\n",
       "      <td>1</td>\n",
       "      <td>1</td>\n",
       "      <td>2</td>\n",
       "      <td>N</td>\n",
       "      <td>...</td>\n",
       "      <td>1100</td>\n",
       "      <td>112987</td>\n",
       "      <td>120287</td>\n",
       "      <td>0.3</td>\n",
       "      <td>0.0</td>\n",
       "      <td>136.060971</td>\n",
       "      <td>0</td>\n",
       "      <td>0</td>\n",
       "      <td>1</td>\n",
       "      <td>APACHE</td>\n",
       "    </tr>\n",
       "    <tr>\n",
       "      <th>1</th>\n",
       "      <td>2</td>\n",
       "      <td>AZ</td>\n",
       "      <td>AZ</td>\n",
       "      <td>4</td>\n",
       "      <td>85920</td>\n",
       "      <td>1</td>\n",
       "      <td>0</td>\n",
       "      <td>9</td>\n",
       "      <td>0</td>\n",
       "      <td></td>\n",
       "      <td>...</td>\n",
       "      <td>700</td>\n",
       "      <td>70788</td>\n",
       "      <td>71188</td>\n",
       "      <td>0.6</td>\n",
       "      <td>33.3</td>\n",
       "      <td>128.784975</td>\n",
       "      <td>0</td>\n",
       "      <td>0</td>\n",
       "      <td>1</td>\n",
       "      <td>APACHE</td>\n",
       "    </tr>\n",
       "    <tr>\n",
       "      <th>2</th>\n",
       "      <td>3</td>\n",
       "      <td>AZ</td>\n",
       "      <td>AZ</td>\n",
       "      <td>4</td>\n",
       "      <td>85924</td>\n",
       "      <td>1</td>\n",
       "      <td>1</td>\n",
       "      <td>1</td>\n",
       "      <td>3</td>\n",
       "      <td>N</td>\n",
       "      <td>...</td>\n",
       "      <td>1145</td>\n",
       "      <td>70788</td>\n",
       "      <td>70788</td>\n",
       "      <td>0.5</td>\n",
       "      <td>0.0</td>\n",
       "      <td>150.245112</td>\n",
       "      <td>0</td>\n",
       "      <td>0</td>\n",
       "      <td>1</td>\n",
       "      <td>APACHE</td>\n",
       "    </tr>\n",
       "    <tr>\n",
       "      <th>3</th>\n",
       "      <td>4</td>\n",
       "      <td>AZ</td>\n",
       "      <td>AZ</td>\n",
       "      <td>4</td>\n",
       "      <td>85925</td>\n",
       "      <td>1</td>\n",
       "      <td>1</td>\n",
       "      <td>1</td>\n",
       "      <td>3</td>\n",
       "      <td>N</td>\n",
       "      <td>...</td>\n",
       "      <td>1900</td>\n",
       "      <td>52088</td>\n",
       "      <td>52288</td>\n",
       "      <td>0.6</td>\n",
       "      <td>97.2</td>\n",
       "      <td>136.060971</td>\n",
       "      <td>0</td>\n",
       "      <td>0</td>\n",
       "      <td>1</td>\n",
       "      <td>APACHE</td>\n",
       "    </tr>\n",
       "    <tr>\n",
       "      <th>4</th>\n",
       "      <td>5</td>\n",
       "      <td>AZ</td>\n",
       "      <td>AZ</td>\n",
       "      <td>4</td>\n",
       "      <td>85932</td>\n",
       "      <td>1</td>\n",
       "      <td>1</td>\n",
       "      <td>1</td>\n",
       "      <td>1</td>\n",
       "      <td>N</td>\n",
       "      <td>...</td>\n",
       "      <td>900</td>\n",
       "      <td>70788</td>\n",
       "      <td>70788</td>\n",
       "      <td>0.3</td>\n",
       "      <td>0.0</td>\n",
       "      <td>136.060971</td>\n",
       "      <td>0</td>\n",
       "      <td>0</td>\n",
       "      <td>1</td>\n",
       "      <td>APACHE</td>\n",
       "    </tr>\n",
       "  </tbody>\n",
       "</table>\n",
       "<p>5 rows × 25 columns</p>\n",
       "</div>"
      ],
      "text/plain": [
       "   idnum state state2  stfips    zip  region  typebldg  floor  room basement  \\\n",
       "0      1    AZ     AZ       4  85920       1         1      1     2        N   \n",
       "1      2    AZ     AZ       4  85920       1         0      9     0            \n",
       "2      3    AZ     AZ       4  85924       1         1      1     3        N   \n",
       "3      4    AZ     AZ       4  85925       1         1      1     3        N   \n",
       "4      5    AZ     AZ       4  85932       1         1      1     1        N   \n",
       "\n",
       "   ... stoptm startdt  stopdt activity  pcterr       adjwt  dupflag  zipflag  \\\n",
       "0  ...   1100  112987  120287      0.3     0.0  136.060971        0        0   \n",
       "1  ...    700   70788   71188      0.6    33.3  128.784975        0        0   \n",
       "2  ...   1145   70788   70788      0.5     0.0  150.245112        0        0   \n",
       "3  ...   1900   52088   52288      0.6    97.2  136.060971        0        0   \n",
       "4  ...    900   70788   70788      0.3     0.0  136.060971        0        0   \n",
       "\n",
       "   cntyfips                county  \n",
       "0         1  APACHE                \n",
       "1         1  APACHE                \n",
       "2         1  APACHE                \n",
       "3         1  APACHE                \n",
       "4         1  APACHE                \n",
       "\n",
       "[5 rows x 25 columns]"
      ]
     },
     "execution_count": 20,
     "metadata": {},
     "output_type": "execute_result"
    }
   ],
   "source": [
    "data.head()"
   ]
  },
  {
   "cell_type": "markdown",
   "id": "5d7239ee-1a3f-4157-85e9-1144b375c249",
   "metadata": {},
   "source": [
    "<br>\n",
    "\n",
    "Structuring; concatenating the `pure state` & `pure county` codes\n",
    "\n",
    "* [FIPS States](https://en.wikipedia.org/wiki/Federal_Information_Processing_Standard_state_code)\n",
    "* [FIPS Counties](https://en.wikipedia.org/wiki/List_of_United_States_FIPS_codes_by_county)\n"
   ]
  },
  {
   "cell_type": "code",
   "execution_count": 21,
   "id": "7afdc33b-278c-4655-9fc2-a41aaa56c779",
   "metadata": {},
   "outputs": [
    {
     "data": {
      "text/html": [
       "<div>\n",
       "<style scoped>\n",
       "    .dataframe tbody tr th:only-of-type {\n",
       "        vertical-align: middle;\n",
       "    }\n",
       "\n",
       "    .dataframe tbody tr th {\n",
       "        vertical-align: top;\n",
       "    }\n",
       "\n",
       "    .dataframe thead th {\n",
       "        text-align: right;\n",
       "    }\n",
       "</style>\n",
       "<table border=\"1\" class=\"dataframe\">\n",
       "  <thead>\n",
       "    <tr style=\"text-align: right;\">\n",
       "      <th></th>\n",
       "      <th>idnum</th>\n",
       "      <th>state</th>\n",
       "      <th>state2</th>\n",
       "      <th>stfips</th>\n",
       "      <th>zip</th>\n",
       "      <th>region</th>\n",
       "      <th>typebldg</th>\n",
       "      <th>floor</th>\n",
       "      <th>room</th>\n",
       "      <th>basement</th>\n",
       "      <th>...</th>\n",
       "      <th>startdt</th>\n",
       "      <th>stopdt</th>\n",
       "      <th>activity</th>\n",
       "      <th>pcterr</th>\n",
       "      <th>adjwt</th>\n",
       "      <th>dupflag</th>\n",
       "      <th>zipflag</th>\n",
       "      <th>cntyfips</th>\n",
       "      <th>county</th>\n",
       "      <th>fips</th>\n",
       "    </tr>\n",
       "  </thead>\n",
       "  <tbody>\n",
       "    <tr>\n",
       "      <th>0</th>\n",
       "      <td>1</td>\n",
       "      <td>AZ</td>\n",
       "      <td>AZ</td>\n",
       "      <td>4</td>\n",
       "      <td>85920</td>\n",
       "      <td>1</td>\n",
       "      <td>1</td>\n",
       "      <td>1</td>\n",
       "      <td>2</td>\n",
       "      <td>N</td>\n",
       "      <td>...</td>\n",
       "      <td>112987</td>\n",
       "      <td>120287</td>\n",
       "      <td>0.3</td>\n",
       "      <td>0.0</td>\n",
       "      <td>136.060971</td>\n",
       "      <td>0</td>\n",
       "      <td>0</td>\n",
       "      <td>1</td>\n",
       "      <td>APACHE</td>\n",
       "      <td>04001</td>\n",
       "    </tr>\n",
       "    <tr>\n",
       "      <th>1</th>\n",
       "      <td>2</td>\n",
       "      <td>AZ</td>\n",
       "      <td>AZ</td>\n",
       "      <td>4</td>\n",
       "      <td>85920</td>\n",
       "      <td>1</td>\n",
       "      <td>0</td>\n",
       "      <td>9</td>\n",
       "      <td>0</td>\n",
       "      <td></td>\n",
       "      <td>...</td>\n",
       "      <td>70788</td>\n",
       "      <td>71188</td>\n",
       "      <td>0.6</td>\n",
       "      <td>33.3</td>\n",
       "      <td>128.784975</td>\n",
       "      <td>0</td>\n",
       "      <td>0</td>\n",
       "      <td>1</td>\n",
       "      <td>APACHE</td>\n",
       "      <td>04001</td>\n",
       "    </tr>\n",
       "    <tr>\n",
       "      <th>2</th>\n",
       "      <td>3</td>\n",
       "      <td>AZ</td>\n",
       "      <td>AZ</td>\n",
       "      <td>4</td>\n",
       "      <td>85924</td>\n",
       "      <td>1</td>\n",
       "      <td>1</td>\n",
       "      <td>1</td>\n",
       "      <td>3</td>\n",
       "      <td>N</td>\n",
       "      <td>...</td>\n",
       "      <td>70788</td>\n",
       "      <td>70788</td>\n",
       "      <td>0.5</td>\n",
       "      <td>0.0</td>\n",
       "      <td>150.245112</td>\n",
       "      <td>0</td>\n",
       "      <td>0</td>\n",
       "      <td>1</td>\n",
       "      <td>APACHE</td>\n",
       "      <td>04001</td>\n",
       "    </tr>\n",
       "    <tr>\n",
       "      <th>3</th>\n",
       "      <td>4</td>\n",
       "      <td>AZ</td>\n",
       "      <td>AZ</td>\n",
       "      <td>4</td>\n",
       "      <td>85925</td>\n",
       "      <td>1</td>\n",
       "      <td>1</td>\n",
       "      <td>1</td>\n",
       "      <td>3</td>\n",
       "      <td>N</td>\n",
       "      <td>...</td>\n",
       "      <td>52088</td>\n",
       "      <td>52288</td>\n",
       "      <td>0.6</td>\n",
       "      <td>97.2</td>\n",
       "      <td>136.060971</td>\n",
       "      <td>0</td>\n",
       "      <td>0</td>\n",
       "      <td>1</td>\n",
       "      <td>APACHE</td>\n",
       "      <td>04001</td>\n",
       "    </tr>\n",
       "    <tr>\n",
       "      <th>4</th>\n",
       "      <td>5</td>\n",
       "      <td>AZ</td>\n",
       "      <td>AZ</td>\n",
       "      <td>4</td>\n",
       "      <td>85932</td>\n",
       "      <td>1</td>\n",
       "      <td>1</td>\n",
       "      <td>1</td>\n",
       "      <td>1</td>\n",
       "      <td>N</td>\n",
       "      <td>...</td>\n",
       "      <td>70788</td>\n",
       "      <td>70788</td>\n",
       "      <td>0.3</td>\n",
       "      <td>0.0</td>\n",
       "      <td>136.060971</td>\n",
       "      <td>0</td>\n",
       "      <td>0</td>\n",
       "      <td>1</td>\n",
       "      <td>APACHE</td>\n",
       "      <td>04001</td>\n",
       "    </tr>\n",
       "  </tbody>\n",
       "</table>\n",
       "<p>5 rows × 26 columns</p>\n",
       "</div>"
      ],
      "text/plain": [
       "   idnum state state2  stfips    zip  region  typebldg  floor  room basement  \\\n",
       "0      1    AZ     AZ       4  85920       1         1      1     2        N   \n",
       "1      2    AZ     AZ       4  85920       1         0      9     0            \n",
       "2      3    AZ     AZ       4  85924       1         1      1     3        N   \n",
       "3      4    AZ     AZ       4  85925       1         1      1     3        N   \n",
       "4      5    AZ     AZ       4  85932       1         1      1     1        N   \n",
       "\n",
       "   ... startdt  stopdt  activity pcterr       adjwt  dupflag  zipflag  \\\n",
       "0  ...  112987  120287       0.3    0.0  136.060971        0        0   \n",
       "1  ...   70788   71188       0.6   33.3  128.784975        0        0   \n",
       "2  ...   70788   70788       0.5    0.0  150.245112        0        0   \n",
       "3  ...   52088   52288       0.6   97.2  136.060971        0        0   \n",
       "4  ...   70788   70788       0.3    0.0  136.060971        0        0   \n",
       "\n",
       "   cntyfips                county   fips  \n",
       "0         1  APACHE                04001  \n",
       "1         1  APACHE                04001  \n",
       "2         1  APACHE                04001  \n",
       "3         1  APACHE                04001  \n",
       "4         1  APACHE                04001  \n",
       "\n",
       "[5 rows x 26 columns]"
      ]
     },
     "execution_count": 21,
     "metadata": {},
     "output_type": "execute_result"
    }
   ],
   "source": [
    "data.loc[:, 'fips'] = data.stfips.astype(str).str.zfill(2) + data.cntyfips.astype(str).str.zfill(3)\n",
    "data.head()"
   ]
  },
  {
   "cell_type": "markdown",
   "id": "57e80fbd-a6a7-404a-8fab-0cba5d4b2b1b",
   "metadata": {},
   "source": [
    "<br>\n",
    "\n",
    "## County Level"
   ]
  },
  {
   "cell_type": "code",
   "execution_count": 22,
   "id": "80a21b9b-5166-4c5b-860b-6ceeba936e20",
   "metadata": {},
   "outputs": [],
   "source": [
    "try:\n",
    "    counties = pd.read_csv(filepath_or_buffer=pm.get_data('cty.dat'))\n",
    "except FileNotFoundError as err:\n",
    "    raise Exception(err.strerror)"
   ]
  },
  {
   "cell_type": "code",
   "execution_count": 23,
   "id": "2e4f6bec-e388-417f-8e4b-4c4a1e592048",
   "metadata": {},
   "outputs": [],
   "source": [
    "counties.loc[:, 'fips'] = counties.stfips.astype(str).str.zfill(2) + counties.ctfips.astype(str).str.zfill(3)"
   ]
  },
  {
   "cell_type": "markdown",
   "id": "c7a58b75-4db4-4638-90fe-9d398188a7af",
   "metadata": {},
   "source": [
    "<br>\n",
    "\n",
    "## Excerpting & Merging"
   ]
  },
  {
   "cell_type": "markdown",
   "id": "7a167930-7cc3-4638-b37e-29891913387d",
   "metadata": {},
   "source": [
    "Excerpt: Focus on Minnesota, MN, dwellings."
   ]
  },
  {
   "cell_type": "code",
   "execution_count": 24,
   "id": "9c785fd9-3d32-430f-bda3-83eb6f7e0213",
   "metadata": {},
   "outputs": [
    {
     "data": {
      "text/html": [
       "<div>\n",
       "<style scoped>\n",
       "    .dataframe tbody tr th:only-of-type {\n",
       "        vertical-align: middle;\n",
       "    }\n",
       "\n",
       "    .dataframe tbody tr th {\n",
       "        vertical-align: top;\n",
       "    }\n",
       "\n",
       "    .dataframe thead th {\n",
       "        text-align: right;\n",
       "    }\n",
       "</style>\n",
       "<table border=\"1\" class=\"dataframe\">\n",
       "  <thead>\n",
       "    <tr style=\"text-align: right;\">\n",
       "      <th></th>\n",
       "      <th>idnum</th>\n",
       "      <th>state</th>\n",
       "      <th>state2</th>\n",
       "      <th>stfips</th>\n",
       "      <th>zip</th>\n",
       "      <th>region</th>\n",
       "      <th>typebldg</th>\n",
       "      <th>floor</th>\n",
       "      <th>room</th>\n",
       "      <th>basement</th>\n",
       "      <th>...</th>\n",
       "      <th>startdt</th>\n",
       "      <th>stopdt</th>\n",
       "      <th>activity</th>\n",
       "      <th>pcterr</th>\n",
       "      <th>adjwt</th>\n",
       "      <th>dupflag</th>\n",
       "      <th>zipflag</th>\n",
       "      <th>cntyfips</th>\n",
       "      <th>county</th>\n",
       "      <th>fips</th>\n",
       "    </tr>\n",
       "  </thead>\n",
       "  <tbody>\n",
       "    <tr>\n",
       "      <th>5080</th>\n",
       "      <td>5081</td>\n",
       "      <td>MN</td>\n",
       "      <td>MN</td>\n",
       "      <td>27</td>\n",
       "      <td>55735</td>\n",
       "      <td>5</td>\n",
       "      <td>1</td>\n",
       "      <td>1</td>\n",
       "      <td>3</td>\n",
       "      <td>N</td>\n",
       "      <td>...</td>\n",
       "      <td>12088</td>\n",
       "      <td>12288</td>\n",
       "      <td>2.2</td>\n",
       "      <td>9.7</td>\n",
       "      <td>1146.499190</td>\n",
       "      <td>1</td>\n",
       "      <td>0</td>\n",
       "      <td>1</td>\n",
       "      <td>AITKIN</td>\n",
       "      <td>27001</td>\n",
       "    </tr>\n",
       "    <tr>\n",
       "      <th>5081</th>\n",
       "      <td>5082</td>\n",
       "      <td>MN</td>\n",
       "      <td>MN</td>\n",
       "      <td>27</td>\n",
       "      <td>55748</td>\n",
       "      <td>5</td>\n",
       "      <td>1</td>\n",
       "      <td>0</td>\n",
       "      <td>4</td>\n",
       "      <td>Y</td>\n",
       "      <td>...</td>\n",
       "      <td>11888</td>\n",
       "      <td>12088</td>\n",
       "      <td>2.2</td>\n",
       "      <td>14.5</td>\n",
       "      <td>471.366223</td>\n",
       "      <td>0</td>\n",
       "      <td>0</td>\n",
       "      <td>1</td>\n",
       "      <td>AITKIN</td>\n",
       "      <td>27001</td>\n",
       "    </tr>\n",
       "    <tr>\n",
       "      <th>5082</th>\n",
       "      <td>5083</td>\n",
       "      <td>MN</td>\n",
       "      <td>MN</td>\n",
       "      <td>27</td>\n",
       "      <td>55748</td>\n",
       "      <td>5</td>\n",
       "      <td>1</td>\n",
       "      <td>0</td>\n",
       "      <td>4</td>\n",
       "      <td>Y</td>\n",
       "      <td>...</td>\n",
       "      <td>20288</td>\n",
       "      <td>21188</td>\n",
       "      <td>2.9</td>\n",
       "      <td>9.6</td>\n",
       "      <td>433.316718</td>\n",
       "      <td>0</td>\n",
       "      <td>0</td>\n",
       "      <td>1</td>\n",
       "      <td>AITKIN</td>\n",
       "      <td>27001</td>\n",
       "    </tr>\n",
       "    <tr>\n",
       "      <th>5083</th>\n",
       "      <td>5084</td>\n",
       "      <td>MN</td>\n",
       "      <td>MN</td>\n",
       "      <td>27</td>\n",
       "      <td>56469</td>\n",
       "      <td>5</td>\n",
       "      <td>1</td>\n",
       "      <td>0</td>\n",
       "      <td>4</td>\n",
       "      <td>Y</td>\n",
       "      <td>...</td>\n",
       "      <td>122987</td>\n",
       "      <td>123187</td>\n",
       "      <td>1.0</td>\n",
       "      <td>24.3</td>\n",
       "      <td>461.623670</td>\n",
       "      <td>0</td>\n",
       "      <td>0</td>\n",
       "      <td>1</td>\n",
       "      <td>AITKIN</td>\n",
       "      <td>27001</td>\n",
       "    </tr>\n",
       "    <tr>\n",
       "      <th>5084</th>\n",
       "      <td>5085</td>\n",
       "      <td>MN</td>\n",
       "      <td>MN</td>\n",
       "      <td>27</td>\n",
       "      <td>55011</td>\n",
       "      <td>3</td>\n",
       "      <td>1</td>\n",
       "      <td>0</td>\n",
       "      <td>4</td>\n",
       "      <td>Y</td>\n",
       "      <td>...</td>\n",
       "      <td>12888</td>\n",
       "      <td>13088</td>\n",
       "      <td>3.1</td>\n",
       "      <td>13.8</td>\n",
       "      <td>433.316718</td>\n",
       "      <td>0</td>\n",
       "      <td>0</td>\n",
       "      <td>3</td>\n",
       "      <td>ANOKA</td>\n",
       "      <td>27003</td>\n",
       "    </tr>\n",
       "  </tbody>\n",
       "</table>\n",
       "<p>5 rows × 26 columns</p>\n",
       "</div>"
      ],
      "text/plain": [
       "      idnum state state2  stfips    zip  region  typebldg  floor  room  \\\n",
       "5080   5081    MN     MN      27  55735       5         1      1     3   \n",
       "5081   5082    MN     MN      27  55748       5         1      0     4   \n",
       "5082   5083    MN     MN      27  55748       5         1      0     4   \n",
       "5083   5084    MN     MN      27  56469       5         1      0     4   \n",
       "5084   5085    MN     MN      27  55011       3         1      0     4   \n",
       "\n",
       "     basement  ... startdt  stopdt  activity pcterr        adjwt  dupflag  \\\n",
       "5080        N  ...   12088   12288       2.2    9.7  1146.499190        1   \n",
       "5081        Y  ...   11888   12088       2.2   14.5   471.366223        0   \n",
       "5082        Y  ...   20288   21188       2.9    9.6   433.316718        0   \n",
       "5083        Y  ...  122987  123187       1.0   24.3   461.623670        0   \n",
       "5084        Y  ...   12888   13088       3.1   13.8   433.316718        0   \n",
       "\n",
       "      zipflag  cntyfips                county   fips  \n",
       "5080        0         1  AITKIN                27001  \n",
       "5081        0         1  AITKIN                27001  \n",
       "5082        0         1  AITKIN                27001  \n",
       "5083        0         1  AITKIN                27001  \n",
       "5084        0         3  ANOKA                 27003  \n",
       "\n",
       "[5 rows x 26 columns]"
      ]
     },
     "execution_count": 24,
     "metadata": {},
     "output_type": "execute_result"
    }
   ],
   "source": [
    "excerpt = data.loc[data['state'] == 'MN', :]\n",
    "excerpt.head()"
   ]
  },
  {
   "cell_type": "markdown",
   "id": "4f6b3f77-0d09-49f8-9e12-1024d324858b",
   "metadata": {},
   "source": [
    "<br>\n",
    "\n",
    "Merge dwelling & county level [uranium] data."
   ]
  },
  {
   "cell_type": "code",
   "execution_count": 25,
   "id": "563a97ae-3402-4f5b-9af8-ab6b9c7d919c",
   "metadata": {},
   "outputs": [
    {
     "data": {
      "text/plain": [
       "Index(['idnum', 'state', 'state2', 'stfips', 'zip', 'region', 'typebldg',\n",
       "       'floor', 'room', 'basement', 'windoor', 'rep', 'stratum', 'wave',\n",
       "       'starttm', 'stoptm', 'startdt', 'stopdt', 'activity', 'pcterr', 'adjwt',\n",
       "       'dupflag', 'zipflag', 'cntyfips', 'county', 'fips', 'Uppm'],\n",
       "      dtype='object')"
      ]
     },
     "execution_count": 25,
     "metadata": {},
     "output_type": "execute_result"
    }
   ],
   "source": [
    "excerpt = excerpt.merge(counties[['fips', 'Uppm']], how='left', on='fips')\n",
    "excerpt.columns"
   ]
  },
  {
   "cell_type": "code",
   "execution_count": 26,
   "id": "ed799bd3-2626-44a4-85b6-c07632f27add",
   "metadata": {},
   "outputs": [
    {
     "data": {
      "text/html": [
       "<div>\n",
       "<style scoped>\n",
       "    .dataframe tbody tr th:only-of-type {\n",
       "        vertical-align: middle;\n",
       "    }\n",
       "\n",
       "    .dataframe tbody tr th {\n",
       "        vertical-align: top;\n",
       "    }\n",
       "\n",
       "    .dataframe thead th {\n",
       "        text-align: right;\n",
       "    }\n",
       "</style>\n",
       "<table border=\"1\" class=\"dataframe\">\n",
       "  <thead>\n",
       "    <tr style=\"text-align: right;\">\n",
       "      <th></th>\n",
       "      <th>idnum</th>\n",
       "      <th>state</th>\n",
       "      <th>state2</th>\n",
       "      <th>stfips</th>\n",
       "      <th>zip</th>\n",
       "      <th>region</th>\n",
       "      <th>typebldg</th>\n",
       "      <th>floor</th>\n",
       "      <th>room</th>\n",
       "      <th>basement</th>\n",
       "      <th>...</th>\n",
       "      <th>stopdt</th>\n",
       "      <th>activity</th>\n",
       "      <th>pcterr</th>\n",
       "      <th>adjwt</th>\n",
       "      <th>dupflag</th>\n",
       "      <th>zipflag</th>\n",
       "      <th>cntyfips</th>\n",
       "      <th>county</th>\n",
       "      <th>fips</th>\n",
       "      <th>Uppm</th>\n",
       "    </tr>\n",
       "  </thead>\n",
       "  <tbody>\n",
       "    <tr>\n",
       "      <th>0</th>\n",
       "      <td>5081</td>\n",
       "      <td>MN</td>\n",
       "      <td>MN</td>\n",
       "      <td>27</td>\n",
       "      <td>55735</td>\n",
       "      <td>5</td>\n",
       "      <td>1</td>\n",
       "      <td>1</td>\n",
       "      <td>3</td>\n",
       "      <td>N</td>\n",
       "      <td>...</td>\n",
       "      <td>12288</td>\n",
       "      <td>2.2</td>\n",
       "      <td>9.7</td>\n",
       "      <td>1146.499190</td>\n",
       "      <td>1</td>\n",
       "      <td>0</td>\n",
       "      <td>1</td>\n",
       "      <td>AITKIN</td>\n",
       "      <td>27001</td>\n",
       "      <td>0.502054</td>\n",
       "    </tr>\n",
       "    <tr>\n",
       "      <th>1</th>\n",
       "      <td>5082</td>\n",
       "      <td>MN</td>\n",
       "      <td>MN</td>\n",
       "      <td>27</td>\n",
       "      <td>55748</td>\n",
       "      <td>5</td>\n",
       "      <td>1</td>\n",
       "      <td>0</td>\n",
       "      <td>4</td>\n",
       "      <td>Y</td>\n",
       "      <td>...</td>\n",
       "      <td>12088</td>\n",
       "      <td>2.2</td>\n",
       "      <td>14.5</td>\n",
       "      <td>471.366223</td>\n",
       "      <td>0</td>\n",
       "      <td>0</td>\n",
       "      <td>1</td>\n",
       "      <td>AITKIN</td>\n",
       "      <td>27001</td>\n",
       "      <td>0.502054</td>\n",
       "    </tr>\n",
       "    <tr>\n",
       "      <th>2</th>\n",
       "      <td>5083</td>\n",
       "      <td>MN</td>\n",
       "      <td>MN</td>\n",
       "      <td>27</td>\n",
       "      <td>55748</td>\n",
       "      <td>5</td>\n",
       "      <td>1</td>\n",
       "      <td>0</td>\n",
       "      <td>4</td>\n",
       "      <td>Y</td>\n",
       "      <td>...</td>\n",
       "      <td>21188</td>\n",
       "      <td>2.9</td>\n",
       "      <td>9.6</td>\n",
       "      <td>433.316718</td>\n",
       "      <td>0</td>\n",
       "      <td>0</td>\n",
       "      <td>1</td>\n",
       "      <td>AITKIN</td>\n",
       "      <td>27001</td>\n",
       "      <td>0.502054</td>\n",
       "    </tr>\n",
       "    <tr>\n",
       "      <th>3</th>\n",
       "      <td>5084</td>\n",
       "      <td>MN</td>\n",
       "      <td>MN</td>\n",
       "      <td>27</td>\n",
       "      <td>56469</td>\n",
       "      <td>5</td>\n",
       "      <td>1</td>\n",
       "      <td>0</td>\n",
       "      <td>4</td>\n",
       "      <td>Y</td>\n",
       "      <td>...</td>\n",
       "      <td>123187</td>\n",
       "      <td>1.0</td>\n",
       "      <td>24.3</td>\n",
       "      <td>461.623670</td>\n",
       "      <td>0</td>\n",
       "      <td>0</td>\n",
       "      <td>1</td>\n",
       "      <td>AITKIN</td>\n",
       "      <td>27001</td>\n",
       "      <td>0.502054</td>\n",
       "    </tr>\n",
       "    <tr>\n",
       "      <th>4</th>\n",
       "      <td>5085</td>\n",
       "      <td>MN</td>\n",
       "      <td>MN</td>\n",
       "      <td>27</td>\n",
       "      <td>55011</td>\n",
       "      <td>3</td>\n",
       "      <td>1</td>\n",
       "      <td>0</td>\n",
       "      <td>4</td>\n",
       "      <td>Y</td>\n",
       "      <td>...</td>\n",
       "      <td>13088</td>\n",
       "      <td>3.1</td>\n",
       "      <td>13.8</td>\n",
       "      <td>433.316718</td>\n",
       "      <td>0</td>\n",
       "      <td>0</td>\n",
       "      <td>3</td>\n",
       "      <td>ANOKA</td>\n",
       "      <td>27003</td>\n",
       "      <td>0.428565</td>\n",
       "    </tr>\n",
       "  </tbody>\n",
       "</table>\n",
       "<p>5 rows × 27 columns</p>\n",
       "</div>"
      ],
      "text/plain": [
       "   idnum state state2  stfips    zip  region  typebldg  floor  room basement  \\\n",
       "0   5081    MN     MN      27  55735       5         1      1     3        N   \n",
       "1   5082    MN     MN      27  55748       5         1      0     4        Y   \n",
       "2   5083    MN     MN      27  55748       5         1      0     4        Y   \n",
       "3   5084    MN     MN      27  56469       5         1      0     4        Y   \n",
       "4   5085    MN     MN      27  55011       3         1      0     4        Y   \n",
       "\n",
       "   ...  stopdt activity  pcterr        adjwt  dupflag  zipflag  cntyfips  \\\n",
       "0  ...   12288      2.2     9.7  1146.499190        1        0         1   \n",
       "1  ...   12088      2.2    14.5   471.366223        0        0         1   \n",
       "2  ...   21188      2.9     9.6   433.316718        0        0         1   \n",
       "3  ...  123187      1.0    24.3   461.623670        0        0         1   \n",
       "4  ...   13088      3.1    13.8   433.316718        0        0         3   \n",
       "\n",
       "                 county   fips      Uppm  \n",
       "0  AITKIN                27001  0.502054  \n",
       "1  AITKIN                27001  0.502054  \n",
       "2  AITKIN                27001  0.502054  \n",
       "3  AITKIN                27001  0.502054  \n",
       "4  ANOKA                 27003  0.428565  \n",
       "\n",
       "[5 rows x 27 columns]"
      ]
     },
     "execution_count": 26,
     "metadata": {},
     "output_type": "execute_result"
    }
   ],
   "source": [
    "excerpt.head()"
   ]
  },
  {
   "cell_type": "markdown",
   "id": "9a43f55c-ff26-4b4e-84f1-b34aa5376bdd",
   "metadata": {},
   "source": [
    "<br>\n",
    "\n",
    "## Duplicates"
   ]
  },
  {
   "cell_type": "code",
   "execution_count": 27,
   "id": "5d651310-5b0b-4020-91e6-1aca769372ad",
   "metadata": {},
   "outputs": [
    {
     "name": "stderr",
     "output_type": "stream",
     "text": [
      "\n",
      "# of instances: (927, 27)\n",
      "2022-11-13 13:17:32.466\n",
      "\n",
      "# of unique instances: (919, 27)\n",
      "2022-11-13 13:17:32.482\n",
      "\n",
      "# of unique codes: (919,)\n",
      "2022-11-13 13:17:32.483\n"
     ]
    }
   ],
   "source": [
    "logger.info(f'# of instances: {excerpt.shape}')\n",
    "logger.info(f'# of unique instances: {excerpt.drop_duplicates().shape}')\n",
    "logger.info(f\"# of unique codes: {excerpt['idnum'].unique().shape}\")"
   ]
  },
  {
   "cell_type": "markdown",
   "id": "63b5196c-57f9-4218-9525-0ccb52d7aea2",
   "metadata": {},
   "source": [
    "<br>\n",
    "\n",
    "Hence"
   ]
  },
  {
   "cell_type": "code",
   "execution_count": 28,
   "id": "c23c58f9-2a6c-4782-a6a6-c6ce9eb378b3",
   "metadata": {},
   "outputs": [
    {
     "data": {
      "text/plain": [
       "(919,)"
      ]
     },
     "execution_count": 28,
     "metadata": {},
     "output_type": "execute_result"
    }
   ],
   "source": [
    "excerpt.drop_duplicates(inplace=True)\n",
    "excerpt['idnum'].unique().shape"
   ]
  },
  {
   "cell_type": "markdown",
   "id": "6743b0f5-e680-49dc-be08-9fd521f9b60d",
   "metadata": {},
   "source": [
    "<br>\n",
    "<br>\n",
    "\n",
    "# Explore"
   ]
  },
  {
   "cell_type": "code",
   "execution_count": 29,
   "id": "c561a6c7-accd-4257-9937-edc397d9f184",
   "metadata": {},
   "outputs": [],
   "source": [
    "excerpt.loc[:, 'ln_radon'] = np.log(excerpt['activity'] + 0.1)"
   ]
  },
  {
   "cell_type": "code",
   "execution_count": 30,
   "id": "68327d5b-9df8-46c7-82d6-c7d2313b3e76",
   "metadata": {},
   "outputs": [
    {
     "data": {
      "image/png": "[encoded data removed]",
      "text/plain": [
       "<Figure size 310x270 with 1 Axes>"
      ]
     },
     "metadata": {},
     "output_type": "display_data"
    }
   ],
   "source": [
    "ax = sketch.figure(width=3.1, height=2.7)\n",
    "ax.hist(excerpt.ln_radon, bins=25)\n",
    "sketch.annotation(ax, Labels(title='', xlabel='bins', ylabel='frequency'))"
   ]
  },
  {
   "cell_type": "markdown",
   "id": "e55f0465-2eb2-43c7-888e-79f05b48e902",
   "metadata": {},
   "source": [
    "<br>\n",
    "<br>\n",
    "\n",
    "# Model"
   ]
  },
  {
   "cell_type": "markdown",
   "id": "fab91a79-250a-4f12-890d-ffe689a95d70",
   "metadata": {},
   "source": [
    "## Simple"
   ]
  },
  {
   "cell_type": "markdown",
   "id": "06a61dd5-cf8f-4eb0-9325-10ae465ee246",
   "metadata": {},
   "source": [
    ">  ```python\n",
    "len(coords.get('Dwelling'))\n",
    "\n",
    "> ```python \n",
    "with complete:\n",
    "    logger.info(at.shape(epsilon).eval())\n",
    "\n",
    "<br>"
   ]
  },
  {
   "cell_type": "code",
   "execution_count": 49,
   "id": "cbe5e2d7-609a-4fcd-a6e5-0e85a5361127",
   "metadata": {},
   "outputs": [],
   "source": [
    "coords = {'Dwelling': ['Basement', 'Floor']}"
   ]
  },
  {
   "cell_type": "code",
   "execution_count": 50,
   "id": "bce16216-2021-4fce-8827-1574cbbad728",
   "metadata": {},
   "outputs": [
    {
     "name": "stderr",
     "output_type": "stream",
     "text": [
      "\n",
      "(919,)\n",
      "2022-11-13 13:41:14.440\n",
      "\n",
      "[1 0 0 0 0 0 0 0 0 0 0 0 0 0 0 0 0 0 0 0 0 0 0 0 0 0 0 0 0 0 0 0 0 0 0 0 0\n",
      " 0 0 0 0 0 0 1 1 0 1 0 0 0 0 0 0 0 0 0 1 0 1 0 0 0 1 1 1 1 0 0 1 0 0 0 0 0\n",
      " 0 0 0 0 1 0 0 0 1 0 0 0 0 1 0 1 0 0 0 0 1 0 0 0 0 0 0 0 0 1 1 0 1 0 0 0 0\n",
      " 0 0 0 0 0 0 0 0 0 0 0 1 0 0 1 0 0 0 0 0 1 0 0 0 1 1 0 1 0 0 0 0 1 1 1 0 0\n",
      " 1 0 0 0 0 0 1 1 0 0 0 0 0 0 0 0 1 0 1 0 0 0 0 0 0 1 0 0 0 0 0 0 0 0 0 0 0\n",
      " 0 0 0 0 0 0 0 0 0 0 0 0 0 0 0 0 0 0 0 0 0 0 0 0 0 0 0 1 0 0 0 0 0 0 0 0 0\n",
      " 0 0 0 0 0 0 1 0 0 0 0 0 0 0 1 0 0 1 0 0 0 0 0 0 0 0 1 1 0 1 0 1 0 0 0 0 0\n",
      " 0 0 0 0 0 0 0 1 0 0 0 0 0 0 0 0 0 0 0 1 0 0 0 0 0 0 0 0 0 0 0 1 0 0 0 0 0\n",
      " 0 0 0 0 0 1 0 0 0 0 0 0 0 0 0 1 0 1 0 0 0 0 0 0 0 0 0 0 0 0 0 0 1 0 0 0 0\n",
      " 0 0 0 0 0 0 0 0 0 0 0 1 0 0 0 0 0 1 0 0 0 1 0 0 0 0 0 0 0 0 0 0 0 0 0 1 0\n",
      " 0 0 1 0 1 1 1 0 0 1 0 0 0 0 0 0 0 0 0 0 0 0 0 0 0 0 0 0 0 0 0 0 0 0 0 0 0\n",
      " 0 1 1 0 0 1 1 0 1 1 1 0 1 0 0 0 0 0 0 0 0 0 1 0 1 0 1 0 0 0 0 0 0 1 0 1 0\n",
      " 0 0 0 0 0 0 1 0 1 1 1 0 0 1 0 0 1 0 0 0 0 0 0 0 0 0 0 0 0 1 0 1 1 1 0 0 0\n",
      " 0 0 0 1 0 0 0 0 0 0 1 0 0 0 0 0 0 0 0 0 0 1 0 1 0 0 0 0 0 0 0 0 0 0 0 0 0\n",
      " 1 0 0 0 0 0 0 0 0 0 0 0 0 1 0 0 0 0 0 0 1 0 0 1 0 1 1 0 1 0 0 0 1 0 1 0 0\n",
      " 0 1 0 0 0 0 0 1 0 1 1 0 0 0 0 0 0 0 0 0 0 0 0 0 1 1 0 0 0 0 0 0 0 1 0 0 0\n",
      " 0 0 0 0 0 0 0 0 0 0 0 0 0 1 0 0 1 0 0 0 0 0 1 0 0 0 0 0 0 0 1 1 0 1 1 0 1\n",
      " 0 0 0 0 1 1 1 1 1 0 0 0 1 0 0 1 0 0 0 0 0 0 0 0 0 0 0 0 0 0 0 0 0 1 0 0 0\n",
      " 0 0 0 0 0 0 0 0 0 1 1 0 1 0 0 0 0 0 1 0 0 0 1 0 0 0 0 0 1 0 0 0 1 0 0 0 1\n",
      " 0 0 1 0 0 0 0 0 0 0 0 0 0 0 0 0 0 0 0 0 0 0 0 0 1 0 0 0 0 0 0 0 0 0 0 0 0\n",
      " 0 0 0 0 0 0 0 1 0 0 0 1 0 0 0 0 1 0 0 0 1 1 0 0 0 0 0 0 0 0 0 0 0 0 0 0 0\n",
      " 0 0 0 0 0 0 0 1 0 0 0 0 1 0 1 0 0 0 0 0 0 0 0 1 0 0 0 0 0 0 0 0 0 0 0 0 0\n",
      " 0 0 0 0 0 0 1 1 0 0 0 0 0 0 1 0 0 0 0 1 1 0 0 0 0 0 1 0 0 0 0 0 0 0 0 0 0\n",
      " 1 0 0 1 0 0 0 0 1 0 1 0 0 0 0 0 0 0 0 1 0 0 0 0 0 0 0 0 0 0 0 0 0 0 0 0 0\n",
      " 1 1 0 0 0 0 0 0 1 1 0 0 0 0 0 1 0 0 0 0 0 0 0 1 0 0 0 0 0 0 0]\n",
      "2022-11-13 13:41:14.442\n"
     ]
    }
   ],
   "source": [
    "with pm.Model(coords=coords) as complete:\n",
    "    \n",
    "    \n",
    "    # the floor field values\n",
    "    floor_idx = pm.Data(name='floor_idx', value=excerpt.floor.values, dims='N', mutable=True)\n",
    "    logger.info(floor_idx.get_value().shape)\n",
    "    logger.info(floor_idx.get_value())\n",
    "    \n",
    "    \n",
    "    # <alpha> probably has two elements - the object <Dwelling> has two elements, therefore two random values from a normal distribution\n",
    "    alpha = pm.Normal(name='alpha', mu=0.0, sigma=10.0, dims='Dwelling')\n",
    "    \n",
    "    \n",
    "    # shape(epsilon) === shape(floor_idx)\n",
    "    epsilon = alpha[floor_idx]\n",
    "    \n",
    "    \n",
    "    # model\n",
    "    sigma = pm.Exponential(name='sigma', lam=1.0)\n",
    "    y = pm.Normal('y', mu=epsilon, sigma=sigma, observed=excerpt['ln_radon'].to_numpy(), dims='N')\n",
    "    "
   ]
  },
  {
   "cell_type": "code",
   "execution_count": 51,
   "id": "0ddd76f0-f4b6-465f-affb-94e96c6f1528",
   "metadata": {},
   "outputs": [
    {
     "data": {
      "text/plain": [
       "{'alpha': array([0., 0.]), 'sigma_log__': array(0.)}"
      ]
     },
     "execution_count": 51,
     "metadata": {},
     "output_type": "execute_result"
    }
   ],
   "source": [
    "complete.initial_point(seed=RANDOM_SEED)"
   ]
  },
  {
   "cell_type": "code",
   "execution_count": 52,
   "id": "f939f010-a611-408b-b552-b83f80409698",
   "metadata": {},
   "outputs": [
    {
     "name": "stderr",
     "output_type": "stream",
     "text": [
      "\n",
      "[919]\n",
      "2022-11-13 13:42:00.686\n"
     ]
    }
   ],
   "source": [
    "with complete:\n",
    "    logger.info(at.shape(epsilon).eval())"
   ]
  }
 ],
 "metadata": {
  "kernelspec": {
   "display_name": "Python 3 (ipykernel)",
   "language": "python",
   "name": "python3"
  },
  "language_info": {
   "codemirror_mode": {
    "name": "ipython",
    "version": 3
   },
   "file_extension": ".py",
   "mimetype": "text/x-python",
   "name": "python",
   "nbconvert_exporter": "python",
   "pygments_lexer": "ipython3",
   "version": "3.8.13"
  },
  "vscode": {
   "interpreter": {
    "hash": "d4d1e4263499bec80672ea0156c357c1ee493ec2b1c70f0acce89fc37c4a6abe"
   }
  }
 },
 "nbformat": 4,
 "nbformat_minor": 5
}
