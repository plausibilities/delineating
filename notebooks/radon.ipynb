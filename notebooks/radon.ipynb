{
 "cells": [
  {
   "cell_type": "markdown",
   "id": "f9fc5321-f5b5-4d45-b4f5-a9937ba45f7b",
   "metadata": {},
   "source": [
    "A few references:\n",
    "\n",
    "* [ARVIZ API](https://python.arviz.org/en/latest/api/index.html)\n",
    "* [PYMC API](https://www.pymc.io/projects/docs/en/stable/api.html)\n",
    "\n",
    "<br>"
   ]
  },
  {
   "cell_type": "markdown",
   "id": "12ff85d2-a615-44b7-8376-6b767072ce72",
   "metadata": {},
   "source": [
    "# Preliminaries"
   ]
  },
  {
   "cell_type": "code",
   "execution_count": 1,
   "id": "0007da65-a9db-493a-a65c-6fcb17522b88",
   "metadata": {},
   "outputs": [
    {
     "name": "stdout",
     "output_type": "stream",
     "text": [
      "Python 3.8.13\n"
     ]
    }
   ],
   "source": [
    "!python --version"
   ]
  },
  {
   "cell_type": "markdown",
   "id": "73d16c72-2d28-4fab-b572-21f3399dd9c9",
   "metadata": {},
   "source": [
    "<br>\n",
    "\n",
    "## Environment"
   ]
  },
  {
   "cell_type": "code",
   "execution_count": 2,
   "id": "79b0a44c-1678-40ef-951a-194879995b8e",
   "metadata": {},
   "outputs": [],
   "source": [
    "import os\n",
    "import pathlib"
   ]
  },
  {
   "cell_type": "markdown",
   "id": "9bf81a01-1e4e-482d-8201-d6595b04e1b5",
   "metadata": {},
   "source": [
    "<br>\n",
    "\n",
    "Set path"
   ]
  },
  {
   "cell_type": "code",
   "execution_count": 3,
   "id": "21f97165-1142-4ac8-8265-423d428b3608",
   "metadata": {},
   "outputs": [],
   "source": [
    "os.chdir(path=str(pathlib.Path(os.getcwd()).parent))"
   ]
  },
  {
   "cell_type": "code",
   "execution_count": 4,
   "id": "2486b523-7ae9-45af-b619-05d2b1e3855b",
   "metadata": {},
   "outputs": [
    {
     "data": {
      "text/plain": [
       "'J:\\\\library\\\\plausibilities\\\\delineating'"
      ]
     },
     "execution_count": 4,
     "metadata": {},
     "output_type": "execute_result"
    }
   ],
   "source": [
    "os.getcwd()"
   ]
  },
  {
   "cell_type": "markdown",
   "id": "b04b45c4-4413-4c76-83d2-c83272937361",
   "metadata": {},
   "source": [
    "<br>\n",
    "\n",
    "## Libraries"
   ]
  },
  {
   "cell_type": "code",
   "execution_count": 5,
   "id": "62500f62-fa51-4675-8765-d11f5d088ccf",
   "metadata": {},
   "outputs": [],
   "source": [
    "%matplotlib inline"
   ]
  },
  {
   "cell_type": "code",
   "execution_count": 6,
   "id": "a50fb0ed-d6c4-4d20-a82d-095d080227af",
   "metadata": {},
   "outputs": [],
   "source": [
    "import logging\n",
    "import collections\n",
    "\n",
    "import matplotlib.pyplot as plt\n",
    "import matplotlib.font_manager as fm\n",
    "\n",
    "import numpy as np\n",
    "import pandas as pd\n",
    "import seaborn as sns\n",
    "\n",
    "import arviz as az\n",
    "import pymc as pm\n",
    "import xarray as xr\n",
    "import aesara.tensor as at\n",
    "import graphviz"
   ]
  },
  {
   "cell_type": "markdown",
   "id": "f96db317-945e-4c4d-b59f-deaa03563865",
   "metadata": {},
   "source": [
    "<br>\n",
    "\n",
    "Versions"
   ]
  },
  {
   "cell_type": "code",
   "execution_count": 7,
   "id": "d6e77568-391d-475b-a249-35101e36fad7",
   "metadata": {},
   "outputs": [
    {
     "data": {
      "text/plain": [
       "'0.13.0'"
      ]
     },
     "execution_count": 7,
     "metadata": {},
     "output_type": "execute_result"
    }
   ],
   "source": [
    "az.__version__"
   ]
  },
  {
   "cell_type": "code",
   "execution_count": 8,
   "id": "392d5bc2-4933-407c-948c-ffb60f8c2fda",
   "metadata": {},
   "outputs": [
    {
     "data": {
      "text/plain": [
       "'4.3.0'"
      ]
     },
     "execution_count": 8,
     "metadata": {},
     "output_type": "execute_result"
    }
   ],
   "source": [
    "pm.__version__"
   ]
  },
  {
   "cell_type": "code",
   "execution_count": 9,
   "id": "3ff9bc4a-e1cd-41e5-a6ce-9bba5f0dd945",
   "metadata": {},
   "outputs": [
    {
     "data": {
      "text/plain": [
       "'1.22.3'"
      ]
     },
     "execution_count": 9,
     "metadata": {},
     "output_type": "execute_result"
    }
   ],
   "source": [
    "np.__version__"
   ]
  },
  {
   "cell_type": "markdown",
   "id": "d6a42025-827c-4d62-b758-05d82eb34658",
   "metadata": {},
   "source": [
    "<br>\n",
    "\n",
    "## Custom"
   ]
  },
  {
   "cell_type": "code",
   "execution_count": 10,
   "id": "8e98ba43-fda0-47a8-8ae5-ac5917a6c7ab",
   "metadata": {},
   "outputs": [],
   "source": [
    "import src.graphics.settings\n",
    "import src.graphics.sketch"
   ]
  },
  {
   "cell_type": "markdown",
   "id": "3397f6cd-ea8c-48ef-863f-71a35c71bcdd",
   "metadata": {},
   "source": [
    "<br>\n",
    "\n",
    "Aesthetics"
   ]
  },
  {
   "cell_type": "code",
   "execution_count": 11,
   "id": "43bdea7a-b6f2-490b-8f5a-fc951f19ac90",
   "metadata": {},
   "outputs": [],
   "source": [
    "settings = src.graphics.settings.Settings()\n",
    "\n",
    "settings.layout()\n",
    "settings.aesthetics()"
   ]
  },
  {
   "cell_type": "markdown",
   "id": "48fe87f8-35ac-4ad9-8bc1-4fcf5d529d27",
   "metadata": {},
   "source": [
    "<br>\n",
    "\n",
    "For diagrams/figures"
   ]
  },
  {
   "cell_type": "code",
   "execution_count": 12,
   "id": "747590a0-afb7-4779-90d0-d69628c67ebf",
   "metadata": {},
   "outputs": [],
   "source": [
    "sketch = src.graphics.sketch.Sketch()"
   ]
  },
  {
   "cell_type": "code",
   "execution_count": 13,
   "id": "83806ad4-3200-440c-83c9-07ec28e75ae9",
   "metadata": {},
   "outputs": [],
   "source": [
    "Labels = collections.namedtuple(typename='Labels', field_names=['title', 'xlabel', 'ylabel'])"
   ]
  },
  {
   "cell_type": "markdown",
   "id": "3afbf959-c16f-4409-9599-8ec6d7c6d1b0",
   "metadata": {},
   "source": [
    "<br>\n",
    "\n",
    "## Settings"
   ]
  },
  {
   "cell_type": "markdown",
   "id": "fa6a93e3-2f26-4bd6-ad8d-374a6dd0be8e",
   "metadata": {},
   "source": [
    "Seed"
   ]
  },
  {
   "cell_type": "code",
   "execution_count": 14,
   "id": "3f00eba3-ec00-4dfa-9003-b17527463777",
   "metadata": {},
   "outputs": [],
   "source": [
    "RANDOM_SEED = 8924"
   ]
  },
  {
   "cell_type": "markdown",
   "id": "6977195b-7c83-45b4-9bb2-82db03c41387",
   "metadata": {},
   "source": [
    "<br>\n",
    "\n",
    "Graphing"
   ]
  },
  {
   "cell_type": "code",
   "execution_count": 15,
   "id": "5c70e3df-ee75-42e0-96ca-0fcd8b99585e",
   "metadata": {},
   "outputs": [],
   "source": [
    "az.style.use('arviz-darkgrid')"
   ]
  },
  {
   "cell_type": "markdown",
   "id": "f54f9311-530c-44cb-911a-f200ca0bb8ce",
   "metadata": {},
   "source": [
    "<br>\n",
    "\n",
    "## Logging"
   ]
  },
  {
   "cell_type": "code",
   "execution_count": 16,
   "id": "5096d6ea-d2db-4715-876b-46b5a5531021",
   "metadata": {},
   "outputs": [],
   "source": [
    "logging.basicConfig(level=logging.INFO, \n",
    "                    format='\\n%(message)s\\n%(asctime)s.%(msecs)03d\\n', \n",
    "                    datefmt='%Y-%m-%d %H:%M:%S')\n",
    "logger = logging.getLogger(__name__)"
   ]
  },
  {
   "cell_type": "markdown",
   "id": "36280a57-9123-447f-be10-3ada0ef74ec7",
   "metadata": {},
   "source": [
    "<br>\n",
    "<br>\n",
    "\n",
    "# Data"
   ]
  },
  {
   "cell_type": "markdown",
   "id": "4fd33a37-a02f-4995-bf3a-fd1a7a9eaba3",
   "metadata": {},
   "source": [
    "## Dwelling Level"
   ]
  },
  {
   "cell_type": "code",
   "execution_count": 17,
   "id": "a0b6f462-a350-4857-aed8-e16aba13a843",
   "metadata": {},
   "outputs": [],
   "source": [
    "try:\n",
    "    data = pd.read_csv(filepath_or_buffer=pm.get_data('srrs2.dat'))\n",
    "except FileNotFoundError as err:\n",
    "    raise Exception(err.strerror)"
   ]
  },
  {
   "cell_type": "code",
   "execution_count": 18,
   "id": "d368dd40-e105-4f8f-901c-61abf13fc2af",
   "metadata": {},
   "outputs": [
    {
     "data": {
      "text/plain": [
       "Index(['idnum', 'state', 'state2', 'stfips', 'zip', 'region', 'typebldg',\n",
       "       'floor', 'room', 'basement', 'windoor', 'rep', 'stratum', 'wave',\n",
       "       'starttm', 'stoptm', 'startdt', 'stopdt', 'activity', 'pcterr', 'adjwt',\n",
       "       'dupflag', 'zipflag', 'cntyfips', 'county'],\n",
       "      dtype='object')"
      ]
     },
     "execution_count": 18,
     "metadata": {},
     "output_type": "execute_result"
    }
   ],
   "source": [
    "data.columns"
   ]
  },
  {
   "cell_type": "code",
   "execution_count": 19,
   "id": "267f45f7-85a7-4823-9b1c-36f6ca08e294",
   "metadata": {},
   "outputs": [],
   "source": [
    "data.rename(mapper=str.strip, axis='columns', inplace=True)"
   ]
  },
  {
   "cell_type": "code",
   "execution_count": 20,
   "id": "04997126-4bfa-4799-a50a-14f8e4baa1d7",
   "metadata": {},
   "outputs": [
    {
     "data": {
      "text/html": [
       "<div>\n",
       "<style scoped>\n",
       "    .dataframe tbody tr th:only-of-type {\n",
       "        vertical-align: middle;\n",
       "    }\n",
       "\n",
       "    .dataframe tbody tr th {\n",
       "        vertical-align: top;\n",
       "    }\n",
       "\n",
       "    .dataframe thead th {\n",
       "        text-align: right;\n",
       "    }\n",
       "</style>\n",
       "<table border=\"1\" class=\"dataframe\">\n",
       "  <thead>\n",
       "    <tr style=\"text-align: right;\">\n",
       "      <th></th>\n",
       "      <th>idnum</th>\n",
       "      <th>state</th>\n",
       "      <th>state2</th>\n",
       "      <th>stfips</th>\n",
       "      <th>zip</th>\n",
       "      <th>region</th>\n",
       "      <th>typebldg</th>\n",
       "      <th>floor</th>\n",
       "      <th>room</th>\n",
       "      <th>basement</th>\n",
       "      <th>...</th>\n",
       "      <th>stoptm</th>\n",
       "      <th>startdt</th>\n",
       "      <th>stopdt</th>\n",
       "      <th>activity</th>\n",
       "      <th>pcterr</th>\n",
       "      <th>adjwt</th>\n",
       "      <th>dupflag</th>\n",
       "      <th>zipflag</th>\n",
       "      <th>cntyfips</th>\n",
       "      <th>county</th>\n",
       "    </tr>\n",
       "  </thead>\n",
       "  <tbody>\n",
       "    <tr>\n",
       "      <th>0</th>\n",
       "      <td>1</td>\n",
       "      <td>AZ</td>\n",
       "      <td>AZ</td>\n",
       "      <td>4</td>\n",
       "      <td>85920</td>\n",
       "      <td>1</td>\n",
       "      <td>1</td>\n",
       "      <td>1</td>\n",
       "      <td>2</td>\n",
       "      <td>N</td>\n",
       "      <td>...</td>\n",
       "      <td>1100</td>\n",
       "      <td>112987</td>\n",
       "      <td>120287</td>\n",
       "      <td>0.3</td>\n",
       "      <td>0.0</td>\n",
       "      <td>136.060971</td>\n",
       "      <td>0</td>\n",
       "      <td>0</td>\n",
       "      <td>1</td>\n",
       "      <td>APACHE</td>\n",
       "    </tr>\n",
       "    <tr>\n",
       "      <th>1</th>\n",
       "      <td>2</td>\n",
       "      <td>AZ</td>\n",
       "      <td>AZ</td>\n",
       "      <td>4</td>\n",
       "      <td>85920</td>\n",
       "      <td>1</td>\n",
       "      <td>0</td>\n",
       "      <td>9</td>\n",
       "      <td>0</td>\n",
       "      <td></td>\n",
       "      <td>...</td>\n",
       "      <td>700</td>\n",
       "      <td>70788</td>\n",
       "      <td>71188</td>\n",
       "      <td>0.6</td>\n",
       "      <td>33.3</td>\n",
       "      <td>128.784975</td>\n",
       "      <td>0</td>\n",
       "      <td>0</td>\n",
       "      <td>1</td>\n",
       "      <td>APACHE</td>\n",
       "    </tr>\n",
       "    <tr>\n",
       "      <th>2</th>\n",
       "      <td>3</td>\n",
       "      <td>AZ</td>\n",
       "      <td>AZ</td>\n",
       "      <td>4</td>\n",
       "      <td>85924</td>\n",
       "      <td>1</td>\n",
       "      <td>1</td>\n",
       "      <td>1</td>\n",
       "      <td>3</td>\n",
       "      <td>N</td>\n",
       "      <td>...</td>\n",
       "      <td>1145</td>\n",
       "      <td>70788</td>\n",
       "      <td>70788</td>\n",
       "      <td>0.5</td>\n",
       "      <td>0.0</td>\n",
       "      <td>150.245112</td>\n",
       "      <td>0</td>\n",
       "      <td>0</td>\n",
       "      <td>1</td>\n",
       "      <td>APACHE</td>\n",
       "    </tr>\n",
       "    <tr>\n",
       "      <th>3</th>\n",
       "      <td>4</td>\n",
       "      <td>AZ</td>\n",
       "      <td>AZ</td>\n",
       "      <td>4</td>\n",
       "      <td>85925</td>\n",
       "      <td>1</td>\n",
       "      <td>1</td>\n",
       "      <td>1</td>\n",
       "      <td>3</td>\n",
       "      <td>N</td>\n",
       "      <td>...</td>\n",
       "      <td>1900</td>\n",
       "      <td>52088</td>\n",
       "      <td>52288</td>\n",
       "      <td>0.6</td>\n",
       "      <td>97.2</td>\n",
       "      <td>136.060971</td>\n",
       "      <td>0</td>\n",
       "      <td>0</td>\n",
       "      <td>1</td>\n",
       "      <td>APACHE</td>\n",
       "    </tr>\n",
       "    <tr>\n",
       "      <th>4</th>\n",
       "      <td>5</td>\n",
       "      <td>AZ</td>\n",
       "      <td>AZ</td>\n",
       "      <td>4</td>\n",
       "      <td>85932</td>\n",
       "      <td>1</td>\n",
       "      <td>1</td>\n",
       "      <td>1</td>\n",
       "      <td>1</td>\n",
       "      <td>N</td>\n",
       "      <td>...</td>\n",
       "      <td>900</td>\n",
       "      <td>70788</td>\n",
       "      <td>70788</td>\n",
       "      <td>0.3</td>\n",
       "      <td>0.0</td>\n",
       "      <td>136.060971</td>\n",
       "      <td>0</td>\n",
       "      <td>0</td>\n",
       "      <td>1</td>\n",
       "      <td>APACHE</td>\n",
       "    </tr>\n",
       "  </tbody>\n",
       "</table>\n",
       "<p>5 rows × 25 columns</p>\n",
       "</div>"
      ],
      "text/plain": [
       "   idnum state state2  stfips    zip  region  typebldg  floor  room basement  \\\n",
       "0      1    AZ     AZ       4  85920       1         1      1     2        N   \n",
       "1      2    AZ     AZ       4  85920       1         0      9     0            \n",
       "2      3    AZ     AZ       4  85924       1         1      1     3        N   \n",
       "3      4    AZ     AZ       4  85925       1         1      1     3        N   \n",
       "4      5    AZ     AZ       4  85932       1         1      1     1        N   \n",
       "\n",
       "   ... stoptm startdt  stopdt activity  pcterr       adjwt  dupflag  zipflag  \\\n",
       "0  ...   1100  112987  120287      0.3     0.0  136.060971        0        0   \n",
       "1  ...    700   70788   71188      0.6    33.3  128.784975        0        0   \n",
       "2  ...   1145   70788   70788      0.5     0.0  150.245112        0        0   \n",
       "3  ...   1900   52088   52288      0.6    97.2  136.060971        0        0   \n",
       "4  ...    900   70788   70788      0.3     0.0  136.060971        0        0   \n",
       "\n",
       "   cntyfips                county  \n",
       "0         1  APACHE                \n",
       "1         1  APACHE                \n",
       "2         1  APACHE                \n",
       "3         1  APACHE                \n",
       "4         1  APACHE                \n",
       "\n",
       "[5 rows x 25 columns]"
      ]
     },
     "execution_count": 20,
     "metadata": {},
     "output_type": "execute_result"
    }
   ],
   "source": [
    "data.head()"
   ]
  },
  {
   "cell_type": "markdown",
   "id": "5d7239ee-1a3f-4157-85e9-1144b375c249",
   "metadata": {},
   "source": [
    "<br>\n",
    "\n",
    "Structuring; concatenating the `pure state` & `pure county` codes\n",
    "\n",
    "* [FIPS States](https://en.wikipedia.org/wiki/Federal_Information_Processing_Standard_state_code)\n",
    "* [FIPS Counties](https://en.wikipedia.org/wiki/List_of_United_States_FIPS_codes_by_county)\n"
   ]
  },
  {
   "cell_type": "code",
   "execution_count": 21,
   "id": "7afdc33b-278c-4655-9fc2-a41aaa56c779",
   "metadata": {},
   "outputs": [
    {
     "data": {
      "text/html": [
       "<div>\n",
       "<style scoped>\n",
       "    .dataframe tbody tr th:only-of-type {\n",
       "        vertical-align: middle;\n",
       "    }\n",
       "\n",
       "    .dataframe tbody tr th {\n",
       "        vertical-align: top;\n",
       "    }\n",
       "\n",
       "    .dataframe thead th {\n",
       "        text-align: right;\n",
       "    }\n",
       "</style>\n",
       "<table border=\"1\" class=\"dataframe\">\n",
       "  <thead>\n",
       "    <tr style=\"text-align: right;\">\n",
       "      <th></th>\n",
       "      <th>idnum</th>\n",
       "      <th>state</th>\n",
       "      <th>state2</th>\n",
       "      <th>stfips</th>\n",
       "      <th>zip</th>\n",
       "      <th>region</th>\n",
       "      <th>typebldg</th>\n",
       "      <th>floor</th>\n",
       "      <th>room</th>\n",
       "      <th>basement</th>\n",
       "      <th>...</th>\n",
       "      <th>startdt</th>\n",
       "      <th>stopdt</th>\n",
       "      <th>activity</th>\n",
       "      <th>pcterr</th>\n",
       "      <th>adjwt</th>\n",
       "      <th>dupflag</th>\n",
       "      <th>zipflag</th>\n",
       "      <th>cntyfips</th>\n",
       "      <th>county</th>\n",
       "      <th>fips</th>\n",
       "    </tr>\n",
       "  </thead>\n",
       "  <tbody>\n",
       "    <tr>\n",
       "      <th>0</th>\n",
       "      <td>1</td>\n",
       "      <td>AZ</td>\n",
       "      <td>AZ</td>\n",
       "      <td>4</td>\n",
       "      <td>85920</td>\n",
       "      <td>1</td>\n",
       "      <td>1</td>\n",
       "      <td>1</td>\n",
       "      <td>2</td>\n",
       "      <td>N</td>\n",
       "      <td>...</td>\n",
       "      <td>112987</td>\n",
       "      <td>120287</td>\n",
       "      <td>0.3</td>\n",
       "      <td>0.0</td>\n",
       "      <td>136.060971</td>\n",
       "      <td>0</td>\n",
       "      <td>0</td>\n",
       "      <td>1</td>\n",
       "      <td>APACHE</td>\n",
       "      <td>04001</td>\n",
       "    </tr>\n",
       "    <tr>\n",
       "      <th>1</th>\n",
       "      <td>2</td>\n",
       "      <td>AZ</td>\n",
       "      <td>AZ</td>\n",
       "      <td>4</td>\n",
       "      <td>85920</td>\n",
       "      <td>1</td>\n",
       "      <td>0</td>\n",
       "      <td>9</td>\n",
       "      <td>0</td>\n",
       "      <td></td>\n",
       "      <td>...</td>\n",
       "      <td>70788</td>\n",
       "      <td>71188</td>\n",
       "      <td>0.6</td>\n",
       "      <td>33.3</td>\n",
       "      <td>128.784975</td>\n",
       "      <td>0</td>\n",
       "      <td>0</td>\n",
       "      <td>1</td>\n",
       "      <td>APACHE</td>\n",
       "      <td>04001</td>\n",
       "    </tr>\n",
       "    <tr>\n",
       "      <th>2</th>\n",
       "      <td>3</td>\n",
       "      <td>AZ</td>\n",
       "      <td>AZ</td>\n",
       "      <td>4</td>\n",
       "      <td>85924</td>\n",
       "      <td>1</td>\n",
       "      <td>1</td>\n",
       "      <td>1</td>\n",
       "      <td>3</td>\n",
       "      <td>N</td>\n",
       "      <td>...</td>\n",
       "      <td>70788</td>\n",
       "      <td>70788</td>\n",
       "      <td>0.5</td>\n",
       "      <td>0.0</td>\n",
       "      <td>150.245112</td>\n",
       "      <td>0</td>\n",
       "      <td>0</td>\n",
       "      <td>1</td>\n",
       "      <td>APACHE</td>\n",
       "      <td>04001</td>\n",
       "    </tr>\n",
       "    <tr>\n",
       "      <th>3</th>\n",
       "      <td>4</td>\n",
       "      <td>AZ</td>\n",
       "      <td>AZ</td>\n",
       "      <td>4</td>\n",
       "      <td>85925</td>\n",
       "      <td>1</td>\n",
       "      <td>1</td>\n",
       "      <td>1</td>\n",
       "      <td>3</td>\n",
       "      <td>N</td>\n",
       "      <td>...</td>\n",
       "      <td>52088</td>\n",
       "      <td>52288</td>\n",
       "      <td>0.6</td>\n",
       "      <td>97.2</td>\n",
       "      <td>136.060971</td>\n",
       "      <td>0</td>\n",
       "      <td>0</td>\n",
       "      <td>1</td>\n",
       "      <td>APACHE</td>\n",
       "      <td>04001</td>\n",
       "    </tr>\n",
       "    <tr>\n",
       "      <th>4</th>\n",
       "      <td>5</td>\n",
       "      <td>AZ</td>\n",
       "      <td>AZ</td>\n",
       "      <td>4</td>\n",
       "      <td>85932</td>\n",
       "      <td>1</td>\n",
       "      <td>1</td>\n",
       "      <td>1</td>\n",
       "      <td>1</td>\n",
       "      <td>N</td>\n",
       "      <td>...</td>\n",
       "      <td>70788</td>\n",
       "      <td>70788</td>\n",
       "      <td>0.3</td>\n",
       "      <td>0.0</td>\n",
       "      <td>136.060971</td>\n",
       "      <td>0</td>\n",
       "      <td>0</td>\n",
       "      <td>1</td>\n",
       "      <td>APACHE</td>\n",
       "      <td>04001</td>\n",
       "    </tr>\n",
       "  </tbody>\n",
       "</table>\n",
       "<p>5 rows × 26 columns</p>\n",
       "</div>"
      ],
      "text/plain": [
       "   idnum state state2  stfips    zip  region  typebldg  floor  room basement  \\\n",
       "0      1    AZ     AZ       4  85920       1         1      1     2        N   \n",
       "1      2    AZ     AZ       4  85920       1         0      9     0            \n",
       "2      3    AZ     AZ       4  85924       1         1      1     3        N   \n",
       "3      4    AZ     AZ       4  85925       1         1      1     3        N   \n",
       "4      5    AZ     AZ       4  85932       1         1      1     1        N   \n",
       "\n",
       "   ... startdt  stopdt  activity pcterr       adjwt  dupflag  zipflag  \\\n",
       "0  ...  112987  120287       0.3    0.0  136.060971        0        0   \n",
       "1  ...   70788   71188       0.6   33.3  128.784975        0        0   \n",
       "2  ...   70788   70788       0.5    0.0  150.245112        0        0   \n",
       "3  ...   52088   52288       0.6   97.2  136.060971        0        0   \n",
       "4  ...   70788   70788       0.3    0.0  136.060971        0        0   \n",
       "\n",
       "   cntyfips                county   fips  \n",
       "0         1  APACHE                04001  \n",
       "1         1  APACHE                04001  \n",
       "2         1  APACHE                04001  \n",
       "3         1  APACHE                04001  \n",
       "4         1  APACHE                04001  \n",
       "\n",
       "[5 rows x 26 columns]"
      ]
     },
     "execution_count": 21,
     "metadata": {},
     "output_type": "execute_result"
    }
   ],
   "source": [
    "data.loc[:, 'fips'] = data.stfips.astype(str).str.zfill(2) + data.cntyfips.astype(str).str.zfill(3)\n",
    "data.head()"
   ]
  },
  {
   "cell_type": "markdown",
   "id": "57e80fbd-a6a7-404a-8fab-0cba5d4b2b1b",
   "metadata": {},
   "source": [
    "<br>\n",
    "\n",
    "## County Level"
   ]
  },
  {
   "cell_type": "code",
   "execution_count": 22,
   "id": "80a21b9b-5166-4c5b-860b-6ceeba936e20",
   "metadata": {},
   "outputs": [],
   "source": [
    "try:\n",
    "    counties = pd.read_csv(filepath_or_buffer=pm.get_data('cty.dat'))\n",
    "except FileNotFoundError as err:\n",
    "    raise Exception(err.strerror)"
   ]
  },
  {
   "cell_type": "code",
   "execution_count": 23,
   "id": "2e4f6bec-e388-417f-8e4b-4c4a1e592048",
   "metadata": {},
   "outputs": [],
   "source": [
    "counties.loc[:, 'fips'] = counties.stfips.astype(str).str.zfill(2) + counties.ctfips.astype(str).str.zfill(3)"
   ]
  },
  {
   "cell_type": "markdown",
   "id": "c7a58b75-4db4-4638-90fe-9d398188a7af",
   "metadata": {},
   "source": [
    "<br>\n",
    "\n",
    "## Excerpting & Merging"
   ]
  },
  {
   "cell_type": "markdown",
   "id": "7a167930-7cc3-4638-b37e-29891913387d",
   "metadata": {},
   "source": [
    "Excerpt: Focus on Minnesota, MN, dwellings."
   ]
  },
  {
   "cell_type": "code",
   "execution_count": 24,
   "id": "9c785fd9-3d32-430f-bda3-83eb6f7e0213",
   "metadata": {},
   "outputs": [
    {
     "data": {
      "text/html": [
       "<div>\n",
       "<style scoped>\n",
       "    .dataframe tbody tr th:only-of-type {\n",
       "        vertical-align: middle;\n",
       "    }\n",
       "\n",
       "    .dataframe tbody tr th {\n",
       "        vertical-align: top;\n",
       "    }\n",
       "\n",
       "    .dataframe thead th {\n",
       "        text-align: right;\n",
       "    }\n",
       "</style>\n",
       "<table border=\"1\" class=\"dataframe\">\n",
       "  <thead>\n",
       "    <tr style=\"text-align: right;\">\n",
       "      <th></th>\n",
       "      <th>idnum</th>\n",
       "      <th>state</th>\n",
       "      <th>state2</th>\n",
       "      <th>stfips</th>\n",
       "      <th>zip</th>\n",
       "      <th>region</th>\n",
       "      <th>typebldg</th>\n",
       "      <th>floor</th>\n",
       "      <th>room</th>\n",
       "      <th>basement</th>\n",
       "      <th>...</th>\n",
       "      <th>startdt</th>\n",
       "      <th>stopdt</th>\n",
       "      <th>activity</th>\n",
       "      <th>pcterr</th>\n",
       "      <th>adjwt</th>\n",
       "      <th>dupflag</th>\n",
       "      <th>zipflag</th>\n",
       "      <th>cntyfips</th>\n",
       "      <th>county</th>\n",
       "      <th>fips</th>\n",
       "    </tr>\n",
       "  </thead>\n",
       "  <tbody>\n",
       "    <tr>\n",
       "      <th>5080</th>\n",
       "      <td>5081</td>\n",
       "      <td>MN</td>\n",
       "      <td>MN</td>\n",
       "      <td>27</td>\n",
       "      <td>55735</td>\n",
       "      <td>5</td>\n",
       "      <td>1</td>\n",
       "      <td>1</td>\n",
       "      <td>3</td>\n",
       "      <td>N</td>\n",
       "      <td>...</td>\n",
       "      <td>12088</td>\n",
       "      <td>12288</td>\n",
       "      <td>2.2</td>\n",
       "      <td>9.7</td>\n",
       "      <td>1146.499190</td>\n",
       "      <td>1</td>\n",
       "      <td>0</td>\n",
       "      <td>1</td>\n",
       "      <td>AITKIN</td>\n",
       "      <td>27001</td>\n",
       "    </tr>\n",
       "    <tr>\n",
       "      <th>5081</th>\n",
       "      <td>5082</td>\n",
       "      <td>MN</td>\n",
       "      <td>MN</td>\n",
       "      <td>27</td>\n",
       "      <td>55748</td>\n",
       "      <td>5</td>\n",
       "      <td>1</td>\n",
       "      <td>0</td>\n",
       "      <td>4</td>\n",
       "      <td>Y</td>\n",
       "      <td>...</td>\n",
       "      <td>11888</td>\n",
       "      <td>12088</td>\n",
       "      <td>2.2</td>\n",
       "      <td>14.5</td>\n",
       "      <td>471.366223</td>\n",
       "      <td>0</td>\n",
       "      <td>0</td>\n",
       "      <td>1</td>\n",
       "      <td>AITKIN</td>\n",
       "      <td>27001</td>\n",
       "    </tr>\n",
       "    <tr>\n",
       "      <th>5082</th>\n",
       "      <td>5083</td>\n",
       "      <td>MN</td>\n",
       "      <td>MN</td>\n",
       "      <td>27</td>\n",
       "      <td>55748</td>\n",
       "      <td>5</td>\n",
       "      <td>1</td>\n",
       "      <td>0</td>\n",
       "      <td>4</td>\n",
       "      <td>Y</td>\n",
       "      <td>...</td>\n",
       "      <td>20288</td>\n",
       "      <td>21188</td>\n",
       "      <td>2.9</td>\n",
       "      <td>9.6</td>\n",
       "      <td>433.316718</td>\n",
       "      <td>0</td>\n",
       "      <td>0</td>\n",
       "      <td>1</td>\n",
       "      <td>AITKIN</td>\n",
       "      <td>27001</td>\n",
       "    </tr>\n",
       "    <tr>\n",
       "      <th>5083</th>\n",
       "      <td>5084</td>\n",
       "      <td>MN</td>\n",
       "      <td>MN</td>\n",
       "      <td>27</td>\n",
       "      <td>56469</td>\n",
       "      <td>5</td>\n",
       "      <td>1</td>\n",
       "      <td>0</td>\n",
       "      <td>4</td>\n",
       "      <td>Y</td>\n",
       "      <td>...</td>\n",
       "      <td>122987</td>\n",
       "      <td>123187</td>\n",
       "      <td>1.0</td>\n",
       "      <td>24.3</td>\n",
       "      <td>461.623670</td>\n",
       "      <td>0</td>\n",
       "      <td>0</td>\n",
       "      <td>1</td>\n",
       "      <td>AITKIN</td>\n",
       "      <td>27001</td>\n",
       "    </tr>\n",
       "    <tr>\n",
       "      <th>5084</th>\n",
       "      <td>5085</td>\n",
       "      <td>MN</td>\n",
       "      <td>MN</td>\n",
       "      <td>27</td>\n",
       "      <td>55011</td>\n",
       "      <td>3</td>\n",
       "      <td>1</td>\n",
       "      <td>0</td>\n",
       "      <td>4</td>\n",
       "      <td>Y</td>\n",
       "      <td>...</td>\n",
       "      <td>12888</td>\n",
       "      <td>13088</td>\n",
       "      <td>3.1</td>\n",
       "      <td>13.8</td>\n",
       "      <td>433.316718</td>\n",
       "      <td>0</td>\n",
       "      <td>0</td>\n",
       "      <td>3</td>\n",
       "      <td>ANOKA</td>\n",
       "      <td>27003</td>\n",
       "    </tr>\n",
       "  </tbody>\n",
       "</table>\n",
       "<p>5 rows × 26 columns</p>\n",
       "</div>"
      ],
      "text/plain": [
       "      idnum state state2  stfips    zip  region  typebldg  floor  room  \\\n",
       "5080   5081    MN     MN      27  55735       5         1      1     3   \n",
       "5081   5082    MN     MN      27  55748       5         1      0     4   \n",
       "5082   5083    MN     MN      27  55748       5         1      0     4   \n",
       "5083   5084    MN     MN      27  56469       5         1      0     4   \n",
       "5084   5085    MN     MN      27  55011       3         1      0     4   \n",
       "\n",
       "     basement  ... startdt  stopdt  activity pcterr        adjwt  dupflag  \\\n",
       "5080        N  ...   12088   12288       2.2    9.7  1146.499190        1   \n",
       "5081        Y  ...   11888   12088       2.2   14.5   471.366223        0   \n",
       "5082        Y  ...   20288   21188       2.9    9.6   433.316718        0   \n",
       "5083        Y  ...  122987  123187       1.0   24.3   461.623670        0   \n",
       "5084        Y  ...   12888   13088       3.1   13.8   433.316718        0   \n",
       "\n",
       "      zipflag  cntyfips                county   fips  \n",
       "5080        0         1  AITKIN                27001  \n",
       "5081        0         1  AITKIN                27001  \n",
       "5082        0         1  AITKIN                27001  \n",
       "5083        0         1  AITKIN                27001  \n",
       "5084        0         3  ANOKA                 27003  \n",
       "\n",
       "[5 rows x 26 columns]"
      ]
     },
     "execution_count": 24,
     "metadata": {},
     "output_type": "execute_result"
    }
   ],
   "source": [
    "excerpt = data.loc[data['state'] == 'MN', :]\n",
    "excerpt.head()"
   ]
  },
  {
   "cell_type": "markdown",
   "id": "4f6b3f77-0d09-49f8-9e12-1024d324858b",
   "metadata": {},
   "source": [
    "<br>\n",
    "\n",
    "Merge dwelling & county level [uranium] data."
   ]
  },
  {
   "cell_type": "code",
   "execution_count": 25,
   "id": "563a97ae-3402-4f5b-9af8-ab6b9c7d919c",
   "metadata": {},
   "outputs": [
    {
     "data": {
      "text/plain": [
       "Index(['idnum', 'state', 'state2', 'stfips', 'zip', 'region', 'typebldg',\n",
       "       'floor', 'room', 'basement', 'windoor', 'rep', 'stratum', 'wave',\n",
       "       'starttm', 'stoptm', 'startdt', 'stopdt', 'activity', 'pcterr', 'adjwt',\n",
       "       'dupflag', 'zipflag', 'cntyfips', 'county', 'fips', 'Uppm'],\n",
       "      dtype='object')"
      ]
     },
     "execution_count": 25,
     "metadata": {},
     "output_type": "execute_result"
    }
   ],
   "source": [
    "excerpt = excerpt.merge(counties[['fips', 'Uppm']], how='left', on='fips')\n",
    "excerpt.columns"
   ]
  },
  {
   "cell_type": "code",
   "execution_count": 26,
   "id": "ed799bd3-2626-44a4-85b6-c07632f27add",
   "metadata": {},
   "outputs": [
    {
     "data": {
      "text/html": [
       "<div>\n",
       "<style scoped>\n",
       "    .dataframe tbody tr th:only-of-type {\n",
       "        vertical-align: middle;\n",
       "    }\n",
       "\n",
       "    .dataframe tbody tr th {\n",
       "        vertical-align: top;\n",
       "    }\n",
       "\n",
       "    .dataframe thead th {\n",
       "        text-align: right;\n",
       "    }\n",
       "</style>\n",
       "<table border=\"1\" class=\"dataframe\">\n",
       "  <thead>\n",
       "    <tr style=\"text-align: right;\">\n",
       "      <th></th>\n",
       "      <th>idnum</th>\n",
       "      <th>state</th>\n",
       "      <th>state2</th>\n",
       "      <th>stfips</th>\n",
       "      <th>zip</th>\n",
       "      <th>region</th>\n",
       "      <th>typebldg</th>\n",
       "      <th>floor</th>\n",
       "      <th>room</th>\n",
       "      <th>basement</th>\n",
       "      <th>...</th>\n",
       "      <th>stopdt</th>\n",
       "      <th>activity</th>\n",
       "      <th>pcterr</th>\n",
       "      <th>adjwt</th>\n",
       "      <th>dupflag</th>\n",
       "      <th>zipflag</th>\n",
       "      <th>cntyfips</th>\n",
       "      <th>county</th>\n",
       "      <th>fips</th>\n",
       "      <th>Uppm</th>\n",
       "    </tr>\n",
       "  </thead>\n",
       "  <tbody>\n",
       "    <tr>\n",
       "      <th>0</th>\n",
       "      <td>5081</td>\n",
       "      <td>MN</td>\n",
       "      <td>MN</td>\n",
       "      <td>27</td>\n",
       "      <td>55735</td>\n",
       "      <td>5</td>\n",
       "      <td>1</td>\n",
       "      <td>1</td>\n",
       "      <td>3</td>\n",
       "      <td>N</td>\n",
       "      <td>...</td>\n",
       "      <td>12288</td>\n",
       "      <td>2.2</td>\n",
       "      <td>9.7</td>\n",
       "      <td>1146.499190</td>\n",
       "      <td>1</td>\n",
       "      <td>0</td>\n",
       "      <td>1</td>\n",
       "      <td>AITKIN</td>\n",
       "      <td>27001</td>\n",
       "      <td>0.502054</td>\n",
       "    </tr>\n",
       "    <tr>\n",
       "      <th>1</th>\n",
       "      <td>5082</td>\n",
       "      <td>MN</td>\n",
       "      <td>MN</td>\n",
       "      <td>27</td>\n",
       "      <td>55748</td>\n",
       "      <td>5</td>\n",
       "      <td>1</td>\n",
       "      <td>0</td>\n",
       "      <td>4</td>\n",
       "      <td>Y</td>\n",
       "      <td>...</td>\n",
       "      <td>12088</td>\n",
       "      <td>2.2</td>\n",
       "      <td>14.5</td>\n",
       "      <td>471.366223</td>\n",
       "      <td>0</td>\n",
       "      <td>0</td>\n",
       "      <td>1</td>\n",
       "      <td>AITKIN</td>\n",
       "      <td>27001</td>\n",
       "      <td>0.502054</td>\n",
       "    </tr>\n",
       "    <tr>\n",
       "      <th>2</th>\n",
       "      <td>5083</td>\n",
       "      <td>MN</td>\n",
       "      <td>MN</td>\n",
       "      <td>27</td>\n",
       "      <td>55748</td>\n",
       "      <td>5</td>\n",
       "      <td>1</td>\n",
       "      <td>0</td>\n",
       "      <td>4</td>\n",
       "      <td>Y</td>\n",
       "      <td>...</td>\n",
       "      <td>21188</td>\n",
       "      <td>2.9</td>\n",
       "      <td>9.6</td>\n",
       "      <td>433.316718</td>\n",
       "      <td>0</td>\n",
       "      <td>0</td>\n",
       "      <td>1</td>\n",
       "      <td>AITKIN</td>\n",
       "      <td>27001</td>\n",
       "      <td>0.502054</td>\n",
       "    </tr>\n",
       "    <tr>\n",
       "      <th>3</th>\n",
       "      <td>5084</td>\n",
       "      <td>MN</td>\n",
       "      <td>MN</td>\n",
       "      <td>27</td>\n",
       "      <td>56469</td>\n",
       "      <td>5</td>\n",
       "      <td>1</td>\n",
       "      <td>0</td>\n",
       "      <td>4</td>\n",
       "      <td>Y</td>\n",
       "      <td>...</td>\n",
       "      <td>123187</td>\n",
       "      <td>1.0</td>\n",
       "      <td>24.3</td>\n",
       "      <td>461.623670</td>\n",
       "      <td>0</td>\n",
       "      <td>0</td>\n",
       "      <td>1</td>\n",
       "      <td>AITKIN</td>\n",
       "      <td>27001</td>\n",
       "      <td>0.502054</td>\n",
       "    </tr>\n",
       "    <tr>\n",
       "      <th>4</th>\n",
       "      <td>5085</td>\n",
       "      <td>MN</td>\n",
       "      <td>MN</td>\n",
       "      <td>27</td>\n",
       "      <td>55011</td>\n",
       "      <td>3</td>\n",
       "      <td>1</td>\n",
       "      <td>0</td>\n",
       "      <td>4</td>\n",
       "      <td>Y</td>\n",
       "      <td>...</td>\n",
       "      <td>13088</td>\n",
       "      <td>3.1</td>\n",
       "      <td>13.8</td>\n",
       "      <td>433.316718</td>\n",
       "      <td>0</td>\n",
       "      <td>0</td>\n",
       "      <td>3</td>\n",
       "      <td>ANOKA</td>\n",
       "      <td>27003</td>\n",
       "      <td>0.428565</td>\n",
       "    </tr>\n",
       "  </tbody>\n",
       "</table>\n",
       "<p>5 rows × 27 columns</p>\n",
       "</div>"
      ],
      "text/plain": [
       "   idnum state state2  stfips    zip  region  typebldg  floor  room basement  \\\n",
       "0   5081    MN     MN      27  55735       5         1      1     3        N   \n",
       "1   5082    MN     MN      27  55748       5         1      0     4        Y   \n",
       "2   5083    MN     MN      27  55748       5         1      0     4        Y   \n",
       "3   5084    MN     MN      27  56469       5         1      0     4        Y   \n",
       "4   5085    MN     MN      27  55011       3         1      0     4        Y   \n",
       "\n",
       "   ...  stopdt activity  pcterr        adjwt  dupflag  zipflag  cntyfips  \\\n",
       "0  ...   12288      2.2     9.7  1146.499190        1        0         1   \n",
       "1  ...   12088      2.2    14.5   471.366223        0        0         1   \n",
       "2  ...   21188      2.9     9.6   433.316718        0        0         1   \n",
       "3  ...  123187      1.0    24.3   461.623670        0        0         1   \n",
       "4  ...   13088      3.1    13.8   433.316718        0        0         3   \n",
       "\n",
       "                 county   fips      Uppm  \n",
       "0  AITKIN                27001  0.502054  \n",
       "1  AITKIN                27001  0.502054  \n",
       "2  AITKIN                27001  0.502054  \n",
       "3  AITKIN                27001  0.502054  \n",
       "4  ANOKA                 27003  0.428565  \n",
       "\n",
       "[5 rows x 27 columns]"
      ]
     },
     "execution_count": 26,
     "metadata": {},
     "output_type": "execute_result"
    }
   ],
   "source": [
    "excerpt.head()"
   ]
  },
  {
   "cell_type": "markdown",
   "id": "9a43f55c-ff26-4b4e-84f1-b34aa5376bdd",
   "metadata": {},
   "source": [
    "<br>\n",
    "\n",
    "## Duplicates"
   ]
  },
  {
   "cell_type": "code",
   "execution_count": 27,
   "id": "5d651310-5b0b-4020-91e6-1aca769372ad",
   "metadata": {},
   "outputs": [
    {
     "name": "stderr",
     "output_type": "stream",
     "text": [
      "\n",
      "# of instances: (927, 27)\n",
      "2022-11-16 20:22:28.097\n",
      "\n",
      "\n",
      "# of unique instances: (919, 27)\n",
      "2022-11-16 20:22:28.108\n",
      "\n",
      "\n",
      "# of unique codes: (919,)\n",
      "2022-11-16 20:22:28.110\n",
      "\n"
     ]
    }
   ],
   "source": [
    "logger.info(f'# of instances: {excerpt.shape}')\n",
    "logger.info(f'# of unique instances: {excerpt.drop_duplicates().shape}')\n",
    "logger.info(f\"# of unique codes: {excerpt['idnum'].unique().shape}\")"
   ]
  },
  {
   "cell_type": "markdown",
   "id": "63b5196c-57f9-4218-9525-0ccb52d7aea2",
   "metadata": {},
   "source": [
    "<br>\n",
    "\n",
    "Hence"
   ]
  },
  {
   "cell_type": "code",
   "execution_count": 28,
   "id": "c23c58f9-2a6c-4782-a6a6-c6ce9eb378b3",
   "metadata": {},
   "outputs": [
    {
     "data": {
      "text/plain": [
       "(919,)"
      ]
     },
     "execution_count": 28,
     "metadata": {},
     "output_type": "execute_result"
    }
   ],
   "source": [
    "excerpt.drop_duplicates(inplace=True)\n",
    "excerpt['idnum'].unique().shape"
   ]
  },
  {
   "cell_type": "markdown",
   "id": "6743b0f5-e680-49dc-be08-9fd521f9b60d",
   "metadata": {},
   "source": [
    "<br>\n",
    "<br>\n",
    "\n",
    "# Explore"
   ]
  },
  {
   "cell_type": "code",
   "execution_count": 29,
   "id": "c561a6c7-accd-4257-9937-edc397d9f184",
   "metadata": {},
   "outputs": [],
   "source": [
    "excerpt.loc[:, 'ln_radon'] = np.log(excerpt['activity'] + 0.1)"
   ]
  },
  {
   "cell_type": "code",
   "execution_count": 30,
   "id": "68327d5b-9df8-46c7-82d6-c7d2313b3e76",
   "metadata": {},
   "outputs": [
    {
     "data": {
      "image/png": "[encoded data removed]",
      "text/plain": [
       "<Figure size 310x270 with 1 Axes>"
      ]
     },
     "metadata": {},
     "output_type": "display_data"
    }
   ],
   "source": [
    "ax = sketch.figure(width=3.1, height=2.7)\n",
    "ax.hist(excerpt.ln_radon, bins=25)\n",
    "sketch.annotation(ax, Labels(title='', xlabel='bins', ylabel='frequency'))"
   ]
  },
  {
   "cell_type": "markdown",
   "id": "e55f0465-2eb2-43c7-888e-79f05b48e902",
   "metadata": {},
   "source": [
    "<br>\n",
    "<br>\n",
    "\n",
    "# Model"
   ]
  },
  {
   "cell_type": "markdown",
   "id": "fab91a79-250a-4f12-890d-ffe689a95d70",
   "metadata": {},
   "source": [
    "## Simple"
   ]
  },
  {
   "cell_type": "markdown",
   "id": "06a61dd5-cf8f-4eb0-9325-10ae465ee246",
   "metadata": {},
   "source": [
    "<br>\n",
    "\n",
    "Snippets:\n",
    "\n",
    ">  ```python\n",
    "len(coords.get('Floors'))\n",
    "\n",
    "> ```python \n",
    "with complete:\n",
    "    logger.info(at.shape(epsilon).eval())\n",
    "    \n",
    ">```python\n",
    "epsilon.eval()\n",
    "\n",
    "<br>"
   ]
  },
  {
   "cell_type": "markdown",
   "id": "b6af2825-a0c2-43c6-afae-96cbaea0a81c",
   "metadata": {},
   "source": [
    "Add more notes:\n",
    "\n",
    "* A simple linear regression model: an intercept, a gradient whereby the accompanying independent variable is *dwelling level*\n",
    "* The depedet variable is *ln(radon)*\n",
    "* Is the *intercept* implicit below?\n",
    "\n",
    "<br>"
   ]
  },
  {
   "cell_type": "markdown",
   "id": "e0ca3f63-3be5-4eb4-9319-28a78f2276ad",
   "metadata": {},
   "source": [
    "<br>\n",
    "\n",
    "### Model"
   ]
  },
  {
   "cell_type": "code",
   "execution_count": 31,
   "id": "cbe5e2d7-609a-4fcd-a6e5-0e85a5361127",
   "metadata": {},
   "outputs": [],
   "source": [
    "coords = {'Levels': ['Basement', 'Ground']}"
   ]
  },
  {
   "cell_type": "code",
   "execution_count": 32,
   "id": "bce16216-2021-4fce-8827-1574cbbad728",
   "metadata": {},
   "outputs": [
    {
     "name": "stderr",
     "output_type": "stream",
     "text": [
      "\n",
      "(919,)\n",
      "2022-11-16 20:22:29.077\n",
      "\n",
      "\n",
      "<TensorType(int32, (None,))>\n",
      "2022-11-16 20:22:29.080\n",
      "\n",
      "\n",
      "[1 0 0 0 0 0 0 0 0 0 0 0 0 0 0 0 0 0 0 0 0 0 0 0 0 0 0 0 0 0 0 0 0 0 0 0 0\n",
      " 0 0 0 0 0 0 1 1 0 1 0 0 0 0 0 0 0 0 0 1 0 1 0 0 0 1 1 1 1 0 0 1 0 0 0 0 0\n",
      " 0 0 0 0 1 0 0 0 1 0 0 0 0 1 0 1 0 0 0 0 1 0 0 0 0 0 0 0 0 1 1 0 1 0 0 0 0\n",
      " 0 0 0 0 0 0 0 0 0 0 0 1 0 0 1 0 0 0 0 0 1 0 0 0 1 1 0 1 0 0 0 0 1 1 1 0 0\n",
      " 1 0 0 0 0 0 1 1 0 0 0 0 0 0 0 0 1 0 1 0 0 0 0 0 0 1 0 0 0 0 0 0 0 0 0 0 0\n",
      " 0 0 0 0 0 0 0 0 0 0 0 0 0 0 0 0 0 0 0 0 0 0 0 0 0 0 0 1 0 0 0 0 0 0 0 0 0\n",
      " 0 0 0 0 0 0 1 0 0 0 0 0 0 0 1 0 0 1 0 0 0 0 0 0 0 0 1 1 0 1 0 1 0 0 0 0 0\n",
      " 0 0 0 0 0 0 0 1 0 0 0 0 0 0 0 0 0 0 0 1 0 0 0 0 0 0 0 0 0 0 0 1 0 0 0 0 0\n",
      " 0 0 0 0 0 1 0 0 0 0 0 0 0 0 0 1 0 1 0 0 0 0 0 0 0 0 0 0 0 0 0 0 1 0 0 0 0\n",
      " 0 0 0 0 0 0 0 0 0 0 0 1 0 0 0 0 0 1 0 0 0 1 0 0 0 0 0 0 0 0 0 0 0 0 0 1 0\n",
      " 0 0 1 0 1 1 1 0 0 1 0 0 0 0 0 0 0 0 0 0 0 0 0 0 0 0 0 0 0 0 0 0 0 0 0 0 0\n",
      " 0 1 1 0 0 1 1 0 1 1 1 0 1 0 0 0 0 0 0 0 0 0 1 0 1 0 1 0 0 0 0 0 0 1 0 1 0\n",
      " 0 0 0 0 0 0 1 0 1 1 1 0 0 1 0 0 1 0 0 0 0 0 0 0 0 0 0 0 0 1 0 1 1 1 0 0 0\n",
      " 0 0 0 1 0 0 0 0 0 0 1 0 0 0 0 0 0 0 0 0 0 1 0 1 0 0 0 0 0 0 0 0 0 0 0 0 0\n",
      " 1 0 0 0 0 0 0 0 0 0 0 0 0 1 0 0 0 0 0 0 1 0 0 1 0 1 1 0 1 0 0 0 1 0 1 0 0\n",
      " 0 1 0 0 0 0 0 1 0 1 1 0 0 0 0 0 0 0 0 0 0 0 0 0 1 1 0 0 0 0 0 0 0 1 0 0 0\n",
      " 0 0 0 0 0 0 0 0 0 0 0 0 0 1 0 0 1 0 0 0 0 0 1 0 0 0 0 0 0 0 1 1 0 1 1 0 1\n",
      " 0 0 0 0 1 1 1 1 1 0 0 0 1 0 0 1 0 0 0 0 0 0 0 0 0 0 0 0 0 0 0 0 0 1 0 0 0\n",
      " 0 0 0 0 0 0 0 0 0 1 1 0 1 0 0 0 0 0 1 0 0 0 1 0 0 0 0 0 1 0 0 0 1 0 0 0 1\n",
      " 0 0 1 0 0 0 0 0 0 0 0 0 0 0 0 0 0 0 0 0 0 0 0 0 1 0 0 0 0 0 0 0 0 0 0 0 0\n",
      " 0 0 0 0 0 0 0 1 0 0 0 1 0 0 0 0 1 0 0 0 1 1 0 0 0 0 0 0 0 0 0 0 0 0 0 0 0\n",
      " 0 0 0 0 0 0 0 1 0 0 0 0 1 0 1 0 0 0 0 0 0 0 0 1 0 0 0 0 0 0 0 0 0 0 0 0 0\n",
      " 0 0 0 0 0 0 1 1 0 0 0 0 0 0 1 0 0 0 0 1 1 0 0 0 0 0 1 0 0 0 0 0 0 0 0 0 0\n",
      " 1 0 0 1 0 0 0 0 1 0 1 0 0 0 0 0 0 0 0 1 0 0 0 0 0 0 0 0 0 0 0 0 0 0 0 0 0\n",
      " 1 1 0 0 0 0 0 0 1 1 0 0 0 0 0 1 0 0 0 0 0 0 0 1 0 0 0 0 0 0 0]\n",
      "2022-11-16 20:22:29.081\n",
      "\n"
     ]
    }
   ],
   "source": [
    "with pm.Model(coords=coords) as complete:\n",
    "    \n",
    "    \n",
    "    # the values of the <floor> field\n",
    "    level = pm.Data(name='level', value=excerpt.floor.values, dims='N', mutable=True)\n",
    "    logger.info(level.get_value().shape)\n",
    "    logger.info(level.type())\n",
    "    logger.info(level.get_value())\n",
    "    \n",
    "    \n",
    "    # <initial> probably has two elements - the object <Dwelling> has two elements, therefore two random values from a normal distribution\n",
    "    initial = pm.Normal(name='initial', mu=0.0, sigma=10.0, dims='Levels')\n",
    "    \n",
    "    \n",
    "    # shape(mu) === shape(floor)\n",
    "    mu = initial[level]\n",
    "    \n",
    "    \n",
    "    # model\n",
    "    sigma = pm.Exponential(name='sigma', lam=1.0)\n",
    "    y = pm.Normal('y', mu=mu, sigma=sigma, observed=excerpt['ln_radon'].to_numpy(), dims='N')\n",
    "    "
   ]
  },
  {
   "cell_type": "markdown",
   "id": "6b338222-106d-4f92-8eba-745b74d37e9a",
   "metadata": {},
   "source": [
    "<br>\n",
    "<br>\n",
    "\n",
    "Is this the correct seeding method/approach?"
   ]
  },
  {
   "cell_type": "code",
   "execution_count": 33,
   "id": "0ddd76f0-f4b6-465f-affb-94e96c6f1528",
   "metadata": {},
   "outputs": [
    {
     "data": {
      "text/plain": [
       "{'initial': array([0., 0.]), 'sigma_log__': array(0.)}"
      ]
     },
     "execution_count": 33,
     "metadata": {},
     "output_type": "execute_result"
    }
   ],
   "source": [
    "complete.initial_point(seed=RANDOM_SEED)"
   ]
  },
  {
   "cell_type": "code",
   "execution_count": 34,
   "id": "f3c27dae-5f3e-4f03-af5a-0104d78420a7",
   "metadata": {},
   "outputs": [
    {
     "data": {
      "text/plain": [
       "array([-12.64206588,   2.24483966])"
      ]
     },
     "execution_count": 34,
     "metadata": {},
     "output_type": "execute_result"
    }
   ],
   "source": [
    "initial.eval()"
   ]
  },
  {
   "cell_type": "markdown",
   "id": "6f0737e6-4790-457f-8d2e-81c09ebb38a9",
   "metadata": {},
   "source": [
    "<br>\n",
    "\n",
    "Illustration of model"
   ]
  },
  {
   "cell_type": "code",
   "execution_count": 35,
   "id": "2896f95d-c2cf-4009-a06f-9c25f0b06e31",
   "metadata": {},
   "outputs": [
    {
     "data": {
      "image/svg+xml": [
       "<?xml version=\"1.0\" encoding=\"UTF-8\" standalone=\"no\"?>\r\n",
       "<!DOCTYPE svg PUBLIC \"-//W3C//DTD SVG 1.1//EN\"\r\n",
       " \"http://www.w3.org/Graphics/SVG/1.1/DTD/svg11.dtd\">\r\n",
       "<!-- Generated by graphviz version 2.38.0 (20140413.2041)\r\n",
       " -->\r\n",
       "<!-- Title: %3 Pages: 1 -->\r\n",
       "<svg width=\"352pt\" height=\"252pt\"\r\n",
       " viewBox=\"0.00 0.00 351.98 251.91\" xmlns=\"http://www.w3.org/2000/svg\" xmlns:xlink=\"http://www.w3.org/1999/xlink\">\r\n",
       "<g id=\"graph0\" class=\"graph\" transform=\"scale(1 1) rotate(0) translate(4 247.907)\">\r\n",
       "<title>%3</title>\r\n",
       "<polygon fill=\"white\" stroke=\"none\" points=\"-4,4 -4,-247.907 347.983,-247.907 347.983,4 -4,4\"/>\r\n",
       "<g id=\"clust1\" class=\"cluster\"><title>clusterN (919)</title>\r\n",
       "<path fill=\"none\" stroke=\"black\" d=\"M20,-8C20,-8 100,-8 100,-8 106,-8 112,-14 112,-20 112,-20 112,-212.93 112,-212.93 112,-218.93 106,-224.93 100,-224.93 100,-224.93 20,-224.93 20,-224.93 14,-224.93 8,-218.93 8,-212.93 8,-212.93 8,-20 8,-20 8,-14 14,-8 20,-8\"/>\r\n",
       "<text text-anchor=\"middle\" x=\"82.5\" y=\"-15.8\" font-family=\"Times New Roman,serif\" font-size=\"14.00\">N (919)</text>\r\n",
       "</g>\r\n",
       "<g id=\"clust2\" class=\"cluster\"><title>clusterLevels (2)</title>\r\n",
       "<path fill=\"none\" stroke=\"black\" d=\"M132,-121.953C132,-121.953 206,-121.953 206,-121.953 212,-121.953 218,-127.953 218,-133.953 218,-133.953 218,-223.907 218,-223.907 218,-229.907 212,-235.907 206,-235.907 206,-235.907 132,-235.907 132,-235.907 126,-235.907 120,-229.907 120,-223.907 120,-223.907 120,-133.953 120,-133.953 120,-127.953 126,-121.953 132,-121.953\"/>\r\n",
       "<text text-anchor=\"middle\" x=\"182\" y=\"-129.753\" font-family=\"Times New Roman,serif\" font-size=\"14.00\">Levels (2)</text>\r\n",
       "</g>\r\n",
       "<!-- level -->\r\n",
       "<g id=\"node1\" class=\"node\"><title>level</title>\r\n",
       "<path fill=\"lightgrey\" stroke=\"black\" d=\"M91.5,-216.93C91.5,-216.93 28.5,-216.93 28.5,-216.93 22.5,-216.93 16.5,-210.93 16.5,-204.93 16.5,-204.93 16.5,-175.93 16.5,-175.93 16.5,-169.93 22.5,-163.93 28.5,-163.93 28.5,-163.93 91.5,-163.93 91.5,-163.93 97.5,-163.93 103.5,-169.93 103.5,-175.93 103.5,-175.93 103.5,-204.93 103.5,-204.93 103.5,-210.93 97.5,-216.93 91.5,-216.93\"/>\r\n",
       "<text text-anchor=\"middle\" x=\"60\" y=\"-201.73\" font-family=\"Times New Roman,serif\" font-size=\"14.00\">level</text>\r\n",
       "<text text-anchor=\"middle\" x=\"60\" y=\"-186.73\" font-family=\"Times New Roman,serif\" font-size=\"14.00\">~</text>\r\n",
       "<text text-anchor=\"middle\" x=\"60\" y=\"-171.73\" font-family=\"Times New Roman,serif\" font-size=\"14.00\">MutableData</text>\r\n",
       "</g>\r\n",
       "<!-- y -->\r\n",
       "<g id=\"node2\" class=\"node\"><title>y</title>\r\n",
       "<ellipse fill=\"lightgrey\" stroke=\"black\" cx=\"63\" cy=\"-76.4767\" rx=\"41.0244\" ry=\"37.4533\"/>\r\n",
       "<text text-anchor=\"middle\" x=\"63\" y=\"-87.7767\" font-family=\"Times New Roman,serif\" font-size=\"14.00\">y</text>\r\n",
       "<text text-anchor=\"middle\" x=\"63\" y=\"-72.7767\" font-family=\"Times New Roman,serif\" font-size=\"14.00\">~</text>\r\n",
       "<text text-anchor=\"middle\" x=\"63\" y=\"-57.7767\" font-family=\"Times New Roman,serif\" font-size=\"14.00\">Normal</text>\r\n",
       "</g>\r\n",
       "<!-- level&#45;&gt;y -->\r\n",
       "<g id=\"edge2\" class=\"edge\"><title>level&#45;&gt;y</title>\r\n",
       "<path fill=\"none\" stroke=\"black\" d=\"M60.6883,-163.746C61.0026,-152.017 61.3849,-137.749 61.7474,-124.22\"/>\r\n",
       "<polygon fill=\"black\" stroke=\"black\" points=\"65.2501,-124.164 62.0193,-114.074 58.2526,-123.976 65.2501,-124.164\"/>\r\n",
       "</g>\r\n",
       "<!-- initial -->\r\n",
       "<g id=\"node3\" class=\"node\"><title>initial</title>\r\n",
       "<ellipse fill=\"none\" stroke=\"black\" cx=\"169\" cy=\"-190.43\" rx=\"41.0244\" ry=\"37.4533\"/>\r\n",
       "<text text-anchor=\"middle\" x=\"169\" y=\"-201.73\" font-family=\"Times New Roman,serif\" font-size=\"14.00\">initial</text>\r\n",
       "<text text-anchor=\"middle\" x=\"169\" y=\"-186.73\" font-family=\"Times New Roman,serif\" font-size=\"14.00\">~</text>\r\n",
       "<text text-anchor=\"middle\" x=\"169\" y=\"-171.73\" font-family=\"Times New Roman,serif\" font-size=\"14.00\">Normal</text>\r\n",
       "</g>\r\n",
       "<!-- initial&#45;&gt;y -->\r\n",
       "<g id=\"edge3\" class=\"edge\"><title>initial&#45;&gt;y</title>\r\n",
       "<path fill=\"none\" stroke=\"black\" d=\"M147.047,-158.764C137.958,-146.816 126.983,-133.298 116,-121.953 111.504,-117.309 106.556,-112.652 101.545,-108.193\"/>\r\n",
       "<polygon fill=\"black\" stroke=\"black\" points=\"103.526,-105.279 93.6748,-101.379 98.944,-110.571 103.526,-105.279\"/>\r\n",
       "</g>\r\n",
       "<!-- sigma -->\r\n",
       "<g id=\"node4\" class=\"node\"><title>sigma</title>\r\n",
       "<ellipse fill=\"none\" stroke=\"black\" cx=\"286\" cy=\"-190.43\" rx=\"57.9655\" ry=\"37.4533\"/>\r\n",
       "<text text-anchor=\"middle\" x=\"286\" y=\"-201.73\" font-family=\"Times New Roman,serif\" font-size=\"14.00\">sigma</text>\r\n",
       "<text text-anchor=\"middle\" x=\"286\" y=\"-186.73\" font-family=\"Times New Roman,serif\" font-size=\"14.00\">~</text>\r\n",
       "<text text-anchor=\"middle\" x=\"286\" y=\"-171.73\" font-family=\"Times New Roman,serif\" font-size=\"14.00\">Exponential</text>\r\n",
       "</g>\r\n",
       "<!-- sigma&#45;&gt;y -->\r\n",
       "<g id=\"edge1\" class=\"edge\"><title>sigma&#45;&gt;y</title>\r\n",
       "<path fill=\"none\" stroke=\"black\" d=\"M261.234,-156.525C250.406,-144.12 236.797,-130.87 222,-121.953 188.88,-101.997 146.514,-90.7223 113.844,-84.5214\"/>\r\n",
       "<polygon fill=\"black\" stroke=\"black\" points=\"114.062,-81.0047 103.601,-82.6817 112.825,-87.8944 114.062,-81.0047\"/>\r\n",
       "</g>\r\n",
       "</g>\r\n",
       "</svg>\r\n"
      ],
      "text/plain": [
       "<graphviz.dot.Digraph at 0x134ed460>"
      ]
     },
     "execution_count": 35,
     "metadata": {},
     "output_type": "execute_result"
    }
   ],
   "source": [
    "pm.model_to_graphviz(complete)"
   ]
  },
  {
   "cell_type": "code",
   "execution_count": 36,
   "id": "3342d466-840c-4a83-8c5d-7019a1420f26",
   "metadata": {},
   "outputs": [],
   "source": [
    "diagram = pm.model_graph.ModelGraph(model=complete).make_graph()\n",
    "diagram.node_attr.update(shape='circle')\n",
    "diagram.save(os.path.join(os.getcwd(), 'notebooks', 'simple.gv'))\n",
    "graphviz.render(engine='dot', format='pdf', filepath=os.path.join(os.getcwd(), 'notebooks', 'simple.gv'));"
   ]
  },
  {
   "cell_type": "markdown",
   "id": "139aee3d-ce34-43e9-996a-9a3e1699229f",
   "metadata": {},
   "source": [
    "<br>\n",
    "\n",
    "### Prior Predictive Samples"
   ]
  },
  {
   "cell_type": "markdown",
   "id": "42039f2b-c8e9-4f67-8727-97d65fae195b",
   "metadata": {},
   "source": [
    "An inspection of [prior predictive samples](https://www.pymc.io/projects/docs/en/stable/api/generated/pymc.sample_prior_predictive.html#pymc.sample_prior_predictive)"
   ]
  },
  {
   "cell_type": "code",
   "execution_count": 37,
   "id": "5cd39c9d-9557-45a8-a232-75f3db0220fd",
   "metadata": {},
   "outputs": [
    {
     "name": "stderr",
     "output_type": "stream",
     "text": [
      "Sampling: [initial, sigma, y]\n",
      "\n",
      "Sampling: [initial, sigma, y]\n",
      "2022-11-16 20:22:31.589\n",
      "\n"
     ]
    }
   ],
   "source": [
    "with complete:\n",
    "    inspection = pm.sample_prior_predictive()\n",
    "    "
   ]
  },
  {
   "cell_type": "code",
   "execution_count": 38,
   "id": "d498f0f1-5c50-4358-aa8d-fc5885487fe6",
   "metadata": {},
   "outputs": [
    {
     "data": {
      "text/plain": [
       "KeysView(Inference data with groups:\n",
       "\t> prior\n",
       "\t> prior_predictive\n",
       "\t> observed_data\n",
       "\t> constant_data)"
      ]
     },
     "execution_count": 38,
     "metadata": {},
     "output_type": "execute_result"
    }
   ],
   "source": [
    "inspection.keys()"
   ]
  },
  {
   "cell_type": "code",
   "execution_count": 39,
   "id": "8d90a250-1b48-4871-a41b-4fbe42be4d6a",
   "metadata": {},
   "outputs": [
    {
     "data": {
      "text/plain": [
       "KeysView(<xarray.Dataset>\n",
       "Dimensions:  (chain: 1, draw: 500, Levels: 2)\n",
       "Coordinates:\n",
       "  * chain    (chain) int32 0\n",
       "  * draw     (draw) int32 0 1 2 3 4 5 6 7 8 ... 492 493 494 495 496 497 498 499\n",
       "  * Levels   (Levels) <U8 'Basement' 'Ground'\n",
       "Data variables:\n",
       "    sigma    (chain, draw) float64 0.1086 0.6964 0.2742 ... 0.7241 1.34 0.7578\n",
       "    initial  (chain, draw, Levels) float64 2.615 -4.385 13.6 ... -2.741 13.39\n",
       "Attributes:\n",
       "    created_at:                 2022-11-16T20:22:31.712924\n",
       "    arviz_version:              0.13.0\n",
       "    inference_library:          pymc\n",
       "    inference_library_version:  4.3.0)"
      ]
     },
     "execution_count": 39,
     "metadata": {},
     "output_type": "execute_result"
    }
   ],
   "source": [
    "inspection.get('prior').keys()"
   ]
  },
  {
   "cell_type": "code",
   "execution_count": 40,
   "id": "4c197786-e3a9-4f1b-ae1d-1948fb01c3da",
   "metadata": {},
   "outputs": [
    {
     "data": {
      "text/plain": [
       "arviz.data.inference_data.InferenceData"
      ]
     },
     "execution_count": 40,
     "metadata": {},
     "output_type": "execute_result"
    }
   ],
   "source": [
    "type(inspection)"
   ]
  },
  {
   "cell_type": "markdown",
   "id": "76f3e046-91ab-4586-9475-f93f0fbd7d20",
   "metadata": {},
   "source": [
    "<br>\n",
    "<br>\n",
    "\n",
    "**Alternative Graph**\n",
    "\n",
    "* For the object's keys: \n",
    "\n",
    ">```python\n",
    "prior.keys()\n",
    "\n",
    "* Graphing:<br>[seaborn.boxplot](https://seaborn.pydata.org/generated/seaborn.boxplot.html)<br>[maxplotlib.axes.Axes.boxplot](https://matplotlib.org/stable/api/_as_gen/matplotlib.axes.Axes.boxplot.html#matplotlib.axes.Axes.boxplot)\n",
    "\n",
    "\n"
   ]
  },
  {
   "cell_type": "markdown",
   "id": "fb584acf-7529-4cd0-be8b-8f134c542574",
   "metadata": {},
   "source": [
    "The data"
   ]
  },
  {
   "cell_type": "code",
   "execution_count": 41,
   "id": "ec1b20b0-4e77-4cbf-b76e-1429835dfcc8",
   "metadata": {},
   "outputs": [
    {
     "name": "stderr",
     "output_type": "stream",
     "text": [
      "\n",
      "(1000, 3)\n",
      "2022-11-16 20:22:31.772\n",
      "\n",
      "\n",
      "     initial  level      type\n",
      "0   2.614565      0  Basement\n",
      "1  13.601518      0  Basement\n",
      "2 -15.675509      0  Basement\n",
      "3  -8.452983      0  Basement\n",
      "4   8.505878      0  Basement\n",
      "2022-11-16 20:22:31.774\n",
      "\n"
     ]
    }
   ],
   "source": [
    "prior = inspection.get('prior')\n",
    "\n",
    "levels = prior.get('Levels').values\n",
    "\n",
    "indices = np.asarray((np.where(levels == 'Basement'))).squeeze()\n",
    "basement = pd.DataFrame(data = {'initial': prior.get('initial').values[0, :, indices], 'level': indices, 'type': prior.get('Levels').values[indices]})\n",
    "\n",
    "indices = np.asarray((np.where(levels == 'Ground'))).squeeze()\n",
    "ground = pd.DataFrame(data = {'initial': prior.get('initial').values[0, :, indices], 'level': indices, 'type': prior.get('Levels').values[indices]})\n",
    "\n",
    "readings = pd.concat([basement, ground], axis = 0, ignore_index=True)\n",
    "\n",
    "logger.info(readings.shape)\n",
    "logger.info(readings.head())\n"
   ]
  },
  {
   "cell_type": "markdown",
   "id": "46c68f94-053a-4244-aa6d-c8444c2d573e",
   "metadata": {},
   "source": [
    "<br>\n",
    "\n",
    "An alternative graph"
   ]
  },
  {
   "cell_type": "code",
   "execution_count": 42,
   "id": "e87db8d5-7486-4e94-bd3d-bfa30fe8b4a0",
   "metadata": {},
   "outputs": [
    {
     "data": {
      "image/png": "[encoded data removed]",
      "text/plain": [
       "<Figure size 210x290 with 1 Axes>"
      ]
     },
     "metadata": {},
     "output_type": "display_data"
    }
   ],
   "source": [
    "ax = sketch.figure(width=2.1, height=2.9)\n",
    "sns.boxplot(data=readings, x='type', y='initial', notch=True, color='k', showcaps=False, ax=ax)\n",
    "sketch.annotation(ax, Labels(title='', xlabel='level', ylabel='mean(ln(radon))'))"
   ]
  },
  {
   "cell_type": "markdown",
   "id": "238d83d3-a211-40f4-ad69-3a593aed59ef",
   "metadata": {},
   "source": [
    "<br>\n",
    "\n",
    "### Modelling"
   ]
  },
  {
   "cell_type": "markdown",
   "id": "be8a5032-b459-4e7c-9e7d-6e958e564faf",
   "metadata": {},
   "source": [
    "References:\n",
    "* [pymc.sample](https://www.pymc.io/projects/docs/en/stable/api/generated/pymc.sample.html)"
   ]
  },
  {
   "cell_type": "code",
   "execution_count": null,
   "id": "d88ad7ab-8170-4706-bdfc-2eca7114bd06",
   "metadata": {},
   "outputs": [
    {
     "name": "stderr",
     "output_type": "stream",
     "text": [
      "Auto-assigning NUTS sampler...\n",
      "\n",
      "Auto-assigning NUTS sampler...\n",
      "2022-11-16 20:22:33.237\n",
      "\n",
      "Initializing NUTS using jitter+adapt_diag...\n",
      "\n",
      "Initializing NUTS using jitter+adapt_diag...\n",
      "2022-11-16 20:22:33.238\n",
      "\n",
      "Multiprocess sampling (4 chains in 4 jobs)\n",
      "\n",
      "Multiprocess sampling (4 chains in 4 jobs)\n",
      "2022-11-16 20:22:36.608\n",
      "\n",
      "NUTS: [initial, sigma]\n",
      "\n",
      "NUTS: [initial, sigma]\n",
      "2022-11-16 20:22:36.610\n",
      "\n"
     ]
    }
   ],
   "source": [
    "with complete:\n",
    "    \n",
    "    # starting of with the default sample settings\n",
    "    trace = pm.sample(draws=1000, cores=None, tune=1000)"
   ]
  },
  {
   "cell_type": "markdown",
   "id": "f11e5e48-186b-4cea-a192-c638c58f3cab",
   "metadata": {},
   "source": [
    "<br>\n",
    "\n",
    "Hence"
   ]
  },
  {
   "cell_type": "code",
   "execution_count": null,
   "id": "0d4a5da5-5210-43ff-9ed9-a5e6392591f1",
   "metadata": {},
   "outputs": [],
   "source": [
    "inspection"
   ]
  },
  {
   "cell_type": "code",
   "execution_count": null,
   "id": "06400e87-15ea-4f64-bd41-35f13116f7bb",
   "metadata": {},
   "outputs": [],
   "source": [
    "trace"
   ]
  },
  {
   "cell_type": "code",
   "execution_count": null,
   "id": "3b00ff3e-d632-4890-b002-b678172321ec",
   "metadata": {},
   "outputs": [],
   "source": [
    "trace.extend(inspection)"
   ]
  },
  {
   "cell_type": "code",
   "execution_count": null,
   "id": "b1fb8dcf-c005-4fbe-b1d7-718f1cc97675",
   "metadata": {},
   "outputs": [],
   "source": [
    "trace"
   ]
  },
  {
   "cell_type": "code",
   "execution_count": null,
   "id": "6d4c1a78-8cf3-43d6-9b6e-708153dcd1b8",
   "metadata": {},
   "outputs": [],
   "source": [
    "az.summary(trace)"
   ]
  },
  {
   "cell_type": "code",
   "execution_count": null,
   "id": "eb0c5439-419d-4bf6-832f-821649086760",
   "metadata": {},
   "outputs": [],
   "source": [
    "with complete:\n",
    "    az.plot_trace(data=trace, figsize=(4.35, 2.95))"
   ]
  },
  {
   "cell_type": "markdown",
   "id": "9e0e2554-1a08-4423-85ab-ccbadfc284c4",
   "metadata": {},
   "source": [
    "<br>\n",
    "\n",
    "### Posterior Predictive Samples"
   ]
  },
  {
   "cell_type": "code",
   "execution_count": null,
   "id": "25e01003-9c55-416a-9cdf-69f7d1d36b33",
   "metadata": {},
   "outputs": [],
   "source": [
    "with complete:\n",
    "    ppc = pm.sample_posterior_predictive(trace)"
   ]
  },
  {
   "cell_type": "code",
   "execution_count": null,
   "id": "2431c652-96c4-4243-97f8-d76639e23607",
   "metadata": {},
   "outputs": [],
   "source": [
    "ppc"
   ]
  },
  {
   "cell_type": "code",
   "execution_count": null,
   "id": "ee5492ec-942e-4a62-b443-18150ac46df1",
   "metadata": {},
   "outputs": [],
   "source": [
    "trace"
   ]
  },
  {
   "cell_type": "code",
   "execution_count": null,
   "id": "44484cd0-7abf-4964-ac6d-f7ff693d005f",
   "metadata": {},
   "outputs": [],
   "source": [
    "trace.extend(ppc)\n",
    "trace"
   ]
  },
  {
   "cell_type": "markdown",
   "id": "2a9be30c-4062-4c4f-9d5f-dad9a968bb94",
   "metadata": {},
   "source": [
    "<br>\n",
    "\n",
    "### Aggregations"
   ]
  }
 ],
 "metadata": {
  "kernelspec": {
   "display_name": "Python 3 (ipykernel)",
   "language": "python",
   "name": "python3"
  },
  "language_info": {
   "codemirror_mode": {
    "name": "ipython",
    "version": 3
   },
   "file_extension": ".py",
   "mimetype": "text/x-python",
   "name": "python",
   "nbconvert_exporter": "python",
   "pygments_lexer": "ipython3",
   "version": "3.8.13"
  },
  "vscode": {
   "interpreter": {
    "hash": "d4d1e4263499bec80672ea0156c357c1ee493ec2b1c70f0acce89fc37c4a6abe"
   }
  }
 },
 "nbformat": 4,
 "nbformat_minor": 5
}
