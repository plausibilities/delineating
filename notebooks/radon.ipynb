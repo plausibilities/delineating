{
 "cells": [
  {
   "cell_type": "markdown",
   "id": "f9fc5321-f5b5-4d45-b4f5-a9937ba45f7b",
   "metadata": {},
   "source": [
    "A few references:\n",
    "\n",
    "* [ARVIZ API](https://python.arviz.org/en/latest/api/index.html)\n",
    "* [PYMC API](https://www.pymc.io/projects/docs/en/stable/api.html)\n",
    "* [xarray API](https://docs.xarray.dev/en/stable/api.html)\n",
    "* [daft](https://docs.daft-pgm.org/en/latest/): &nbsp; [daft & complete pooling](https://www.tensorflow.org/probability/examples/Multilevel_Modeling_Primer#41_complete_pooling_model)\n",
    "* [graphviz](https://graphviz.readthedocs.io/en/stable/api.html): &nbsp; [pymc.model_to_graphviz](https://www.pymc.io/projects/docs/en/stable/api/generated/pymc.model_to_graphviz.html), <a href=\"https://www.pymc.io/projects/docs/en/stable/_modules/pymc/model_graph.html#:~:text=VarName%22%2C%20str)%0A%0A%0Aclass-,ModelGraph,-%3A%0A%20%20%20%20def%20__init__(self\"> pymc.model_graph.ModelGraph</a>\n",
    "\n",
    "<br>"
   ]
  },
  {
   "cell_type": "markdown",
   "id": "12ff85d2-a615-44b7-8376-6b767072ce72",
   "metadata": {},
   "source": [
    "# Preliminaries"
   ]
  },
  {
   "cell_type": "code",
   "execution_count": null,
   "id": "0007da65-a9db-493a-a65c-6fcb17522b88",
   "metadata": {},
   "outputs": [],
   "source": [
    "!python --version"
   ]
  },
  {
   "cell_type": "markdown",
   "id": "73d16c72-2d28-4fab-b572-21f3399dd9c9",
   "metadata": {},
   "source": [
    "<br>\n",
    "\n",
    "## Environment"
   ]
  },
  {
   "cell_type": "code",
   "execution_count": null,
   "id": "79b0a44c-1678-40ef-951a-194879995b8e",
   "metadata": {},
   "outputs": [],
   "source": [
    "import os\n",
    "import pathlib"
   ]
  },
  {
   "cell_type": "markdown",
   "id": "9bf81a01-1e4e-482d-8201-d6595b04e1b5",
   "metadata": {},
   "source": [
    "<br>\n",
    "\n",
    "Set path"
   ]
  },
  {
   "cell_type": "code",
   "execution_count": null,
   "id": "21f97165-1142-4ac8-8265-423d428b3608",
   "metadata": {},
   "outputs": [],
   "source": [
    "os.chdir(path=str(pathlib.Path(os.getcwd()).parent))\n",
    "os.getcwd()"
   ]
  },
  {
   "cell_type": "markdown",
   "id": "b04b45c4-4413-4c76-83d2-c83272937361",
   "metadata": {},
   "source": [
    "<br>\n",
    "\n",
    "## Libraries"
   ]
  },
  {
   "cell_type": "code",
   "execution_count": null,
   "id": "62500f62-fa51-4675-8765-d11f5d088ccf",
   "metadata": {},
   "outputs": [],
   "source": [
    "%matplotlib inline"
   ]
  },
  {
   "cell_type": "code",
   "execution_count": null,
   "id": "a50fb0ed-d6c4-4d20-a82d-095d080227af",
   "metadata": {},
   "outputs": [],
   "source": [
    "import logging\n",
    "import collections\n",
    "\n",
    "import matplotlib.pyplot as plt\n",
    "import matplotlib.font_manager as fm\n",
    "\n",
    "import numpy as np\n",
    "import pandas as pd\n",
    "import seaborn as sns\n",
    "\n",
    "import arviz as az\n",
    "import pymc as pm\n",
    "import xarray as xr\n",
    "import aesara.tensor as at\n",
    "import graphviz"
   ]
  },
  {
   "cell_type": "markdown",
   "id": "f96db317-945e-4c4d-b59f-deaa03563865",
   "metadata": {},
   "source": [
    "<br>\n",
    "\n",
    "Versions"
   ]
  },
  {
   "cell_type": "code",
   "execution_count": null,
   "id": "d6e77568-391d-475b-a249-35101e36fad7",
   "metadata": {},
   "outputs": [],
   "source": [
    "az.__version__"
   ]
  },
  {
   "cell_type": "code",
   "execution_count": null,
   "id": "392d5bc2-4933-407c-948c-ffb60f8c2fda",
   "metadata": {},
   "outputs": [],
   "source": [
    "pm.__version__"
   ]
  },
  {
   "cell_type": "code",
   "execution_count": null,
   "id": "3ff9bc4a-e1cd-41e5-a6ce-9bba5f0dd945",
   "metadata": {},
   "outputs": [],
   "source": [
    "np.__version__"
   ]
  },
  {
   "cell_type": "markdown",
   "id": "d6a42025-827c-4d62-b758-05d82eb34658",
   "metadata": {},
   "source": [
    "<br>\n",
    "\n",
    "## Custom"
   ]
  },
  {
   "cell_type": "code",
   "execution_count": null,
   "id": "8e98ba43-fda0-47a8-8ae5-ac5917a6c7ab",
   "metadata": {},
   "outputs": [],
   "source": [
    "import src.graphics.settings\n",
    "import src.graphics.sketch\n",
    "import src.graphics.models\n",
    "\n",
    "import src.data.radioactivity\n",
    "import src.data.features\n",
    "import src.data.coordinates\n",
    "\n",
    "import src.models.complete\n",
    "import src.models.unpooled\n",
    "import src.models.inference\n",
    "import src.models.mapping"
   ]
  },
  {
   "cell_type": "markdown",
   "id": "3397f6cd-ea8c-48ef-863f-71a35c71bcdd",
   "metadata": {},
   "source": [
    "<br>\n",
    "\n",
    "Aesthetics"
   ]
  },
  {
   "cell_type": "code",
   "execution_count": null,
   "id": "43bdea7a-b6f2-490b-8f5a-fc951f19ac90",
   "metadata": {},
   "outputs": [],
   "source": [
    "settings = src.graphics.settings.Settings()\n",
    "\n",
    "settings.layout()\n",
    "settings.aesthetics()"
   ]
  },
  {
   "cell_type": "markdown",
   "id": "48fe87f8-35ac-4ad9-8bc1-4fcf5d529d27",
   "metadata": {},
   "source": [
    "<br>\n",
    "\n",
    "For diagrams/figures\n",
    "* The `Labels` class is for `sketch.annotation(ax, Labels(title='...', xlabel='...', ylabel='...'))`"
   ]
  },
  {
   "cell_type": "code",
   "execution_count": null,
   "id": "747590a0-afb7-4779-90d0-d69628c67ebf",
   "metadata": {},
   "outputs": [],
   "source": [
    "sketch = src.graphics.sketch.Sketch()\n",
    "Labels = collections.namedtuple(typename='Labels', field_names=['title', 'xlabel', 'ylabel'])"
   ]
  },
  {
   "cell_type": "markdown",
   "id": "9e545220-4356-4e2e-8262-3a6c2e88482c",
   "metadata": {},
   "source": [
    "<br>\n",
    "\n",
    "For the DAG (directed acyclic graph) of models"
   ]
  },
  {
   "cell_type": "code",
   "execution_count": null,
   "id": "408663f1-5889-452a-af79-97e873621990",
   "metadata": {},
   "outputs": [],
   "source": [
    "path = os.path.join(os.getcwd(), 'notebooks')\n",
    "dag = src.graphics.models.Models(path=path)"
   ]
  },
  {
   "cell_type": "markdown",
   "id": "3afbf959-c16f-4409-9599-8ec6d7c6d1b0",
   "metadata": {},
   "source": [
    "<br>\n",
    "\n",
    "## Settings"
   ]
  },
  {
   "cell_type": "markdown",
   "id": "fa6a93e3-2f26-4bd6-ad8d-374a6dd0be8e",
   "metadata": {},
   "source": [
    "Seed"
   ]
  },
  {
   "cell_type": "code",
   "execution_count": null,
   "id": "3f00eba3-ec00-4dfa-9003-b17527463777",
   "metadata": {},
   "outputs": [],
   "source": [
    "RANDOM_SEED = 8924"
   ]
  },
  {
   "cell_type": "markdown",
   "id": "6977195b-7c83-45b4-9bb2-82db03c41387",
   "metadata": {},
   "source": [
    "<br>\n",
    "\n",
    "Graphing"
   ]
  },
  {
   "cell_type": "code",
   "execution_count": null,
   "id": "5c70e3df-ee75-42e0-96ca-0fcd8b99585e",
   "metadata": {},
   "outputs": [],
   "source": [
    "az.style.use('arviz-darkgrid')"
   ]
  },
  {
   "cell_type": "markdown",
   "id": "f54f9311-530c-44cb-911a-f200ca0bb8ce",
   "metadata": {},
   "source": [
    "<br>\n",
    "\n",
    "## Logging"
   ]
  },
  {
   "cell_type": "code",
   "execution_count": null,
   "id": "5096d6ea-d2db-4715-876b-46b5a5531021",
   "metadata": {},
   "outputs": [],
   "source": [
    "logging.basicConfig(level=logging.INFO, \n",
    "                    format='\\n%(message)s\\n%(asctime)s.%(msecs)03d\\n', \n",
    "                    datefmt='%Y-%m-%d %H:%M:%S')\n",
    "logger = logging.getLogger(__name__)"
   ]
  },
  {
   "cell_type": "markdown",
   "id": "36280a57-9123-447f-be10-3ada0ef74ec7",
   "metadata": {},
   "source": [
    "<br>\n",
    "<br>\n",
    "\n",
    "# Data"
   ]
  },
  {
   "cell_type": "markdown",
   "id": "7a167930-7cc3-4638-b37e-29891913387d",
   "metadata": {},
   "source": [
    "Excerpt: Focusing on Minnesota, MN, dwellings."
   ]
  },
  {
   "cell_type": "code",
   "execution_count": null,
   "id": "d1e5aab7-bd96-4640-a3cb-6bf830ae9731",
   "metadata": {},
   "outputs": [],
   "source": [
    "excerpt = src.data.radioactivity.Radioactivity().exc(state='MN')\n",
    "logger.info(excerpt.columns)\n",
    "\n",
    "logger.info(f'# of instances: {excerpt.shape}')\n",
    "logger.info(f\"# of unique codes: {excerpt['idnum'].unique().shape}\")"
   ]
  },
  {
   "cell_type": "markdown",
   "id": "9563b88f-809a-45c0-aa8c-aaf0b2d3dc62",
   "metadata": {},
   "source": [
    "<br>\n",
    "\n",
    "Extra features"
   ]
  },
  {
   "cell_type": "code",
   "execution_count": null,
   "id": "0fa74176-2895-4436-b035-c23616f38b70",
   "metadata": {},
   "outputs": [],
   "source": [
    "excerpt = src.data.features.Features().exc(data=excerpt)\n",
    "logger.info(excerpt.columns)\n",
    "\n",
    "logger.info(f'# of instances: {excerpt.shape}')\n",
    "logger.info(f\"# of unique codes: {excerpt['idnum'].unique().shape}\")"
   ]
  },
  {
   "cell_type": "markdown",
   "id": "e009c108-adae-4549-8131-5489a5e5a88d",
   "metadata": {},
   "source": [
    "<br>\n",
    "\n",
    "Frequencies"
   ]
  },
  {
   "cell_type": "code",
   "execution_count": null,
   "id": "0dd67e40-ceea-4ddd-ac27-9de5241db363",
   "metadata": {},
   "outputs": [],
   "source": [
    "frequencies = excerpt[['county', 'countyindex', 'floor']].groupby(by=['county', 'countyindex', 'floor']).value_counts()\n",
    "frequencies.rename('N', inplace=True)\n",
    "frequencies = frequencies.to_frame()\n",
    "frequencies.reset_index(drop=False, inplace=True)\n",
    "logger.info(frequencies.head())"
   ]
  },
  {
   "cell_type": "markdown",
   "id": "6743b0f5-e680-49dc-be08-9fd521f9b60d",
   "metadata": {},
   "source": [
    "<br>\n",
    "<br>\n",
    "\n",
    "# Exploratory Graphs"
   ]
  },
  {
   "cell_type": "code",
   "execution_count": null,
   "id": "68327d5b-9df8-46c7-82d6-c7d2313b3e76",
   "metadata": {},
   "outputs": [],
   "source": [
    "ax = sketch.figure(width=2.9, height=2.5)\n",
    "ax.hist(excerpt.ln_radon, bins=25)\n",
    "sketch.annotation(ax, Labels(title='', xlabel='bins', ylabel='frequency'))"
   ]
  },
  {
   "cell_type": "markdown",
   "id": "e55f0465-2eb2-43c7-888e-79f05b48e902",
   "metadata": {},
   "source": [
    "<br>\n",
    "<br>\n",
    "\n",
    "# Models"
   ]
  },
  {
   "cell_type": "markdown",
   "id": "fab91a79-250a-4f12-890d-ffe689a95d70",
   "metadata": {},
   "source": [
    "## Simple"
   ]
  },
  {
   "cell_type": "markdown",
   "id": "b6af2825-a0c2-43c6-afae-96cbaea0a81c",
   "metadata": {},
   "source": [
    "Add more notes:\n",
    "\n",
    "* A simple linear regression model: an intercept, a gradient whereby the accompanying independent variable is *dwelling level*, i.e., basement or ground level.\n",
    "* The dependent variable is *ln(radon)*\n",
    "* Is the *intercept* implicit below?\n",
    "\n",
    "<br>"
   ]
  },
  {
   "cell_type": "markdown",
   "id": "e0ca3f63-3be5-4eb4-9319-28a78f2276ad",
   "metadata": {},
   "source": [
    "<br>\n",
    "\n",
    "### Model"
   ]
  },
  {
   "cell_type": "markdown",
   "id": "d0f16895-184e-4c3c-be4b-23c26b5a14e5",
   "metadata": {},
   "source": [
    "The model's initial co$\\ddot{o}$rdinates"
   ]
  },
  {
   "cell_type": "code",
   "execution_count": null,
   "id": "f971af87-9671-479b-9e87-65a70482e911",
   "metadata": {},
   "outputs": [],
   "source": [
    "coords = src.data.coordinates.Coordinates(data=excerpt).exc()\n",
    "logger.info(coords)"
   ]
  },
  {
   "cell_type": "markdown",
   "id": "38ae4aa1-c143-4029-ad72-ac4916b3b97b",
   "metadata": {},
   "source": [
    "<br>\n",
    "\n",
    "The model"
   ]
  },
  {
   "cell_type": "code",
   "execution_count": null,
   "id": "56aae16c-081d-40e4-939f-8cec81a5e10a",
   "metadata": {},
   "outputs": [],
   "source": [
    "complete = src.models.complete.Complete(coords=coords, seed=RANDOM_SEED).exc(data=excerpt)"
   ]
  },
  {
   "cell_type": "markdown",
   "id": "6f0737e6-4790-457f-8d2e-81c09ebb38a9",
   "metadata": {},
   "source": [
    "<br>\n",
    "\n",
    "Hence, an illustration of model"
   ]
  },
  {
   "cell_type": "code",
   "execution_count": null,
   "id": "2896f95d-c2cf-4009-a06f-9c25f0b06e31",
   "metadata": {},
   "outputs": [],
   "source": [
    "pm.model_to_graphviz(complete)"
   ]
  },
  {
   "cell_type": "code",
   "execution_count": null,
   "id": "3342d466-840c-4a83-8c5d-7019a1420f26",
   "metadata": {},
   "outputs": [],
   "source": [
    "diagram = pm.model_graph.ModelGraph(model=complete).make_graph()\n",
    "diagram.node_attr.update(shape='circle')\n",
    "diagram.save(os.path.join(os.getcwd(), 'notebooks', 'simple.gv'))\n",
    "graphviz.render(engine='dot', format='pdf', filepath=os.path.join(os.getcwd(), 'notebooks', 'simple.gv'));"
   ]
  },
  {
   "cell_type": "markdown",
   "id": "139aee3d-ce34-43e9-996a-9a3e1699229f",
   "metadata": {},
   "source": [
    "<br>\n",
    "<br>\n",
    "\n",
    "### Inference"
   ]
  },
  {
   "cell_type": "markdown",
   "id": "42039f2b-c8e9-4f67-8727-97d65fae195b",
   "metadata": {},
   "source": [
    "* `inferences.keys()`\n",
    "\n",
    "* `inferences.get('prior').keys()`\n"
   ]
  },
  {
   "cell_type": "code",
   "execution_count": null,
   "id": "5741885b-5a86-43ce-b673-d3f6791c465d",
   "metadata": {},
   "outputs": [],
   "source": [
    "evidence = src.models.inference.Inference(model=complete).exc()"
   ]
  },
  {
   "cell_type": "code",
   "execution_count": null,
   "id": "64bb1c5c-4e1f-42ae-a85c-dbf0fc7f1994",
   "metadata": {},
   "outputs": [],
   "source": [
    "evidence = src.models.mapping.Mapping(inferences=evidence, coords=coords).exc()"
   ]
  },
  {
   "cell_type": "code",
   "execution_count": null,
   "id": "34092418-0069-40f9-b337-ef4abc219848",
   "metadata": {},
   "outputs": [],
   "source": [
    "evidence"
   ]
  },
  {
   "cell_type": "markdown",
   "id": "e4edaa2f-1a62-4a19-af7c-28bbedde4e57",
   "metadata": {},
   "source": [
    "<br>\n",
    "<br>\n",
    "\n",
    "### Prior Measures"
   ]
  },
  {
   "cell_type": "markdown",
   "id": "76f3e046-91ab-4586-9475-f93f0fbd7d20",
   "metadata": {},
   "source": [
    "<br>\n",
    "\n",
    "**Prior Measures: Distributions**\n",
    "\n"
   ]
  },
  {
   "cell_type": "code",
   "execution_count": null,
   "id": "424ffb1e-ac38-443b-8ea3-073f4753eb53",
   "metadata": {},
   "outputs": [],
   "source": [
    "computations = []\n",
    "\n",
    "for k, v in coords['Level'].items():\n",
    "    \n",
    "    points = evidence.prior['apriori'].sel(Level=k).squeeze()\n",
    "    \n",
    "    instances = pd.DataFrame(data={'apriori': points, 'level': np.repeat(v, points.shape[0]), 'type': np.repeat(k, points.shape[0])})\n",
    "    \n",
    "    computations.append(instances)\n",
    "\n",
    "instances = pd.concat(computations, axis=0, ignore_index=True)\n",
    "\n",
    "logger.info(instances.head())"
   ]
  },
  {
   "cell_type": "markdown",
   "id": "46c68f94-053a-4244-aa6d-c8444c2d573e",
   "metadata": {},
   "source": [
    "<br>\n",
    "\n",
    "The graph"
   ]
  },
  {
   "cell_type": "code",
   "execution_count": null,
   "id": "a7afa6d2-9d19-4035-9faa-8cdc5f4efd56",
   "metadata": {},
   "outputs": [],
   "source": [
    "ax = sketch.figure(width=2.1, height=2.9)\n",
    "sns.boxplot(data=instances, x='type', y='apriori', notch=True, color='k', showcaps=False, ax=ax)\n",
    "sketch.annotation(ax, Labels(title='', xlabel='level', ylabel='mean(ln(radon))'))"
   ]
  },
  {
   "cell_type": "markdown",
   "id": "8b8063ad-e451-47c6-ad5e-e4296d6dbc8e",
   "metadata": {},
   "source": [
    "<br>\n",
    "<br>\n",
    "\n",
    "### Prior Predictive"
   ]
  },
  {
   "cell_type": "code",
   "execution_count": null,
   "id": "2061e14a-6ef8-4b1d-8b50-0175633a00a1",
   "metadata": {},
   "outputs": [],
   "source": [
    "evidence.prior_predictive"
   ]
  },
  {
   "cell_type": "markdown",
   "id": "6f06ae3f-521d-4d12-bd8e-c8aee9a87cd8",
   "metadata": {},
   "source": [
    "<br>\n",
    "<br>\n",
    "\n",
    "### Posterior Measures"
   ]
  },
  {
   "cell_type": "markdown",
   "id": "03fd092e-00b4-45f8-bef8-2d8d297c43cb",
   "metadata": {},
   "source": [
    "\n",
    "Notes/references:\n",
    "\n",
    "* [About `arviz.hdi(.)`](https://arviz-devs.github.io/arviz/api/generated/arviz.hdi.html)\n",
    "\n",
    "* [About `xarray.DataArray`](https://docs.xarray.dev/en/stable/generated/xarray.DataArray.html#xarray.DataArray)\n",
    "\n",
    "* [xarray.DataArray.groupy](https://docs.xarray.dev/en/stable/generated/xarray.DataArray.groupby.html#xarray.DataArray.groupby)\n",
    "\n",
    "* cf. `trace.constant_data['level']` & `trace.constant_data['N']`\n"
   ]
  },
  {
   "cell_type": "markdown",
   "id": "64991953-f4ec-47c9-9ce8-cb8a8f94d55e",
   "metadata": {},
   "source": [
    "<br>\n",
    "\n",
    "**Posterior Measures: Distributions**"
   ]
  },
  {
   "cell_type": "code",
   "execution_count": null,
   "id": "fc3fd5b7-f915-459c-8a67-1682498fa7e0",
   "metadata": {},
   "outputs": [],
   "source": [
    "computations = []\n",
    "\n",
    "for k, v in coords['Level'].items():\n",
    "    \n",
    "    points = evidence.posterior['apriori'].mean(dim=('chain')).sel(Level=k).squeeze()\n",
    "    \n",
    "    instances = pd.DataFrame(data={'apriori': points, 'level': np.repeat(v, points.shape[0]), 'type': np.repeat(k, points.shape[0])})\n",
    "    \n",
    "    computations.append(instances)\n",
    "\n",
    "instances = pd.concat(computations, axis=0, ignore_index=True)\n",
    "\n",
    "logger.info(instances.tail())"
   ]
  },
  {
   "cell_type": "markdown",
   "id": "f79186df-a27c-4156-aedb-694645e749a4",
   "metadata": {},
   "source": [
    "<br>\n",
    "\n",
    "The distributions"
   ]
  },
  {
   "cell_type": "code",
   "execution_count": null,
   "id": "1eb1ff85-11f8-4302-9e10-fb8fbb5e6d27",
   "metadata": {},
   "outputs": [],
   "source": [
    "ax = sketch.figure(width=2.1, height=2.9)\n",
    "sns.boxplot(data=instances, x='type', y='apriori', notch=True, color='k', showcaps=False, ax=ax)\n",
    "sketch.annotation(ax, Labels(title='', xlabel='level', ylabel='mean(ln(radon))'))"
   ]
  },
  {
   "cell_type": "markdown",
   "id": "c5ce8971-4436-4398-97a6-32a892c231e3",
   "metadata": {},
   "source": [
    "<br>\n",
    "<br>\n",
    "\n",
    "**Posterior Measures & Standard Deviations: Summaries**"
   ]
  },
  {
   "cell_type": "code",
   "execution_count": null,
   "id": "6d4c1a78-8cf3-43d6-9b6e-708153dcd1b8",
   "metadata": {},
   "outputs": [],
   "source": [
    "az.summary(evidence)"
   ]
  },
  {
   "cell_type": "markdown",
   "id": "1638cfb2-84ab-4a51-93d6-4031717770d3",
   "metadata": {},
   "source": [
    "<br>\n",
    "<br>\n",
    "\n",
    "**Posterior Measures & Standard Deviations: Graphs**"
   ]
  },
  {
   "cell_type": "code",
   "execution_count": null,
   "id": "eb0c5439-419d-4bf6-832f-821649086760",
   "metadata": {},
   "outputs": [],
   "source": [
    "with complete:\n",
    "    az.plot_trace(data=evidence, figsize=(4.35, 2.95))"
   ]
  },
  {
   "cell_type": "markdown",
   "id": "bb16dab2-5115-4b47-bf54-b13eac5c46a6",
   "metadata": {},
   "source": [
    "<br>\n",
    "\n",
    "Cf."
   ]
  },
  {
   "cell_type": "code",
   "execution_count": null,
   "id": "cbe694fd-ee28-4e82-a581-114287f19e2e",
   "metadata": {},
   "outputs": [],
   "source": [
    "pm.plot_posterior(data=evidence, var_names=['apriori', 'sigma'], \n",
    "                 figsize=(6.65, 2.1), grid=(1, 3), point_estimate='median', textsize=9)"
   ]
  },
  {
   "cell_type": "markdown",
   "id": "5892aed4-0331-4e2e-9b23-78a800dc0598",
   "metadata": {},
   "source": [
    "<br>\n",
    "<br>\n",
    "\n",
    "**Posterior Measures Mean**"
   ]
  },
  {
   "cell_type": "code",
   "execution_count": null,
   "id": "643e224d-7397-4d80-bf4b-801531b8c487",
   "metadata": {},
   "outputs": [],
   "source": [
    "averages_features = evidence.posterior.mean(dim=('chain', 'draw'))\n",
    "averages_features"
   ]
  },
  {
   "cell_type": "markdown",
   "id": "adab76a8-c7e6-455d-8537-23078d1238be",
   "metadata": {},
   "source": [
    "<br>\n",
    "\n",
    "**Posterior Measures High Density Intervals**"
   ]
  },
  {
   "cell_type": "markdown",
   "id": "2a32df50-577a-45c9-8577-55d6524d7bd8",
   "metadata": {},
   "source": [
    "Herein, determining the high density posterior intervals via\n",
    "\n",
    "> ```python\n",
    "hdi_features = (\n",
    "    trace.posterior.apriori.groupby(trace.posterior.LevelName).apply(\n",
    "        lambda x: az.hdi(x, input_core_dims=[['chain', 'draw']])).apriori\n",
    ")\n",
    "hdi_features\n",
    "\n",
    "\n",
    "is unnecessarily complex, and the resulting object does not include `LevelCode` co$\\ddot{o}$rdinates.\n",
    "\n",
    "<br>\n"
   ]
  },
  {
   "cell_type": "code",
   "execution_count": null,
   "id": "b6f2a005-12bf-459f-84e2-6131580dd727",
   "metadata": {},
   "outputs": [],
   "source": [
    "hdi_features = az.hdi(evidence)\n",
    "hdi_features"
   ]
  },
  {
   "cell_type": "markdown",
   "id": "74b40b53-45f2-4366-ac54-907ef23bddf6",
   "metadata": {},
   "source": [
    "<br>\n",
    "<br>\n",
    "\n",
    "### Posterior Predictive"
   ]
  },
  {
   "cell_type": "markdown",
   "id": "bdd3644f-784c-4b25-ac6a-2d817b28c2ac",
   "metadata": {},
   "source": [
    "<br>\n",
    "\n",
    "**Posterior Predictive Check**"
   ]
  },
  {
   "cell_type": "markdown",
   "id": "a73c199c-ac98-4e2a-b54b-932bffcebfd4",
   "metadata": {},
   "source": [
    "Equivalent:\n",
    "> ```python \n",
    "pm.plot_ppc(data=..., figsize=(2.9, 2.4), num_pp_samples=125, \n",
    "            random_seed=RANDOM_SEED, textsize=10)\n",
    "\n",
    "> ```python \n",
    "az.plot_ppc(data=..., figsize=(2.9, 2.4), num_pp_samples=125, \n",
    "            random_seed=RANDOM_SEED, textsize=10)\n",
    "\n",
    "<br>"
   ]
  },
  {
   "cell_type": "code",
   "execution_count": null,
   "id": "0963a50d-fbde-402c-aa7b-f745180e3feb",
   "metadata": {},
   "outputs": [],
   "source": [
    "az.plot_ppc(data=evidence, figsize=(2.9, 2.4), num_pp_samples=125, random_seed=RANDOM_SEED, textsize=10)"
   ]
  },
  {
   "cell_type": "markdown",
   "id": "f36138b6-b50b-40ff-b9ce-fc68ba3f17d2",
   "metadata": {},
   "source": [
    "<br>\n",
    "<br>\n",
    "\n",
    "**The posterior predictive high density interval per floor level type**"
   ]
  },
  {
   "cell_type": "code",
   "execution_count": null,
   "id": "4dc8d23a-0406-43a8-a433-5dceb557edab",
   "metadata": {},
   "outputs": [],
   "source": [
    "credibility = lambda x: az.hdi(x, input_core_dims=[[\"chain\", \"draw\", \"N\"]])\n",
    "hdi_predictive = (\n",
    "    evidence.posterior_predictive.y.groupby(evidence.constant_data.levelcode)\n",
    "    .apply(credibility)\n",
    "    .y\n",
    ")\n",
    "hdi_predictive"
   ]
  },
  {
   "cell_type": "markdown",
   "id": "cef62a74-e664-48e1-bcdd-885549c8050f",
   "metadata": {},
   "source": [
    "<br>\n",
    "\n",
    "### Graphs"
   ]
  },
  {
   "cell_type": "markdown",
   "id": "8f366e4b-8df4-4249-b560-c106ea315d04",
   "metadata": {},
   "source": [
    "Options:\n",
    "\n",
    "* `sns.scatterplot(y=evidence.observed_data['y'], x=trace.observed_data['LevelName'], ax=ax)`"
   ]
  },
  {
   "cell_type": "code",
   "execution_count": null,
   "id": "ee6d2d0b-c0af-4c69-9556-64724c86b0d8",
   "metadata": {},
   "outputs": [],
   "source": [
    "ax = sketch.figure(width=4.25, height=2.7)\n",
    "\n",
    "evidence.observed_data.plot.scatter(x='LevelCode', y='y', label='Observations', alpha=0.25, ax=ax)\n",
    "\n",
    "az.plot_hdi(hdi_predictive.levelcode.values, \n",
    "            hdi_data=hdi_predictive, \n",
    "            fill_kwargs={'alpha': 0.25, 'label': 'Exp. distrib. of Radon levels'}, \n",
    "            color='k',\n",
    "            ax=ax)\n",
    "\n",
    "az.plot_hdi(hdi_features.LevelCode.values, \n",
    "            hdi_data=hdi_features['apriori'], \n",
    "            fill_kwargs={'alpha': 0.25, 'label': 'Exp. mean HPD'}, \n",
    "            color='green',\n",
    "            ax=ax)\n",
    "\n",
    "ax.plot(np.arange(averages_features.coords['Level'].shape[0]), \n",
    "        averages_features['apriori'].values, \n",
    "        color='orange',\n",
    "        label='Exp. mean')\n",
    "\n",
    "sketch.annotation(ax, Labels(title='', xlabel='', ylabel='mean(ln(radon))'))\n",
    "\n",
    "ax.set_xlim(-0.25, 1.25)\n",
    "\n",
    "ax.set_xticks(evidence.posterior['LevelCode'].values)\n",
    "ax.set_xticklabels(evidence.posterior['Level'].values, rotation=0)\n",
    "\n",
    "ax.legend(fontsize=8, frameon=True, bbox_to_anchor=(1, 1), loc='upper left')"
   ]
  },
  {
   "cell_type": "markdown",
   "id": "3418fb3b-1ae1-410c-9126-810a69f51e1d",
   "metadata": {},
   "source": [
    "<br>\n",
    "\n",
    "### Inference Data"
   ]
  },
  {
   "cell_type": "code",
   "execution_count": null,
   "id": "2ea704c2-c597-4c69-a674-b170645f9946",
   "metadata": {},
   "outputs": [],
   "source": [
    "evidence"
   ]
  },
  {
   "cell_type": "markdown",
   "id": "16ec27f9-c613-4855-95ad-77cd75378b39",
   "metadata": {},
   "source": [
    "<br>\n",
    "<br>\n",
    "\n",
    "## Unpooled"
   ]
  },
  {
   "cell_type": "markdown",
   "id": "6735140e-d6de-49f5-8388-1b47c653580b",
   "metadata": {},
   "source": [
    "<br>\n",
    "\n",
    "The object `coords` has the set of distinct counties, each has a distinct index; ref. `coords['County']`.  &nbsp; In future use [an appropriate geographic code](https://www.nist.gov/system/files/documents/2021/08/11/FIPSCodesReplacementChart2015.pdf). &nbsp;  Additionally, the data object `excerpt` includes a `countyindex` field, whereby the relevant dictionary is $\\rightarrow$ `coords['County']`."
   ]
  },
  {
   "cell_type": "code",
   "execution_count": null,
   "id": "f7956900-9f0c-4f50-9405-f4a6be83318a",
   "metadata": {},
   "outputs": [],
   "source": [
    "logger.info(coords.keys())\n",
    "logger.info(coords.get('County'))"
   ]
  },
  {
   "cell_type": "markdown",
   "id": "c5c546c7-1635-4c06-a635-fbd0ffface48",
   "metadata": {},
   "source": [
    "<br>\n",
    "\n",
    "### Model"
   ]
  },
  {
   "cell_type": "code",
   "execution_count": null,
   "id": "d310a66c-32e3-4bb3-adde-3d7765241112",
   "metadata": {},
   "outputs": [],
   "source": [
    "unpooled = src.models.unpooled.Unpooled(coords=coords, seed=RANDOM_SEED).exc(data=excerpt)"
   ]
  },
  {
   "cell_type": "markdown",
   "id": "dce15cdd-a918-438f-9572-8403010f7a1b",
   "metadata": {},
   "source": [
    "<br>\n",
    "<br>\n",
    "\n",
    "Illustration of model\n",
    "\n",
    "* Similarly: `pm.model_to_graphviz(unpooled)`"
   ]
  },
  {
   "cell_type": "code",
   "execution_count": null,
   "id": "7f31e7a3-72cf-462c-97a9-443080a82fa4",
   "metadata": {},
   "outputs": [],
   "source": [
    "name = 'unpooled.gv'\n",
    "dag.exc(model=unpooled, name=name)\n",
    "graphviz.Source.from_file(filename=os.path.join(path, name))"
   ]
  },
  {
   "cell_type": "markdown",
   "id": "884e64b6-7ecd-4b29-b42d-a534dc335caf",
   "metadata": {},
   "source": [
    "<br>\n",
    "<br>\n",
    "\n",
    "### Inference"
   ]
  },
  {
   "cell_type": "code",
   "execution_count": null,
   "id": "46411799-e9d2-44d2-ad74-46cbdca0eaf8",
   "metadata": {},
   "outputs": [],
   "source": [
    "alternative = src.models.inference.Inference(model=unpooled).exc()"
   ]
  },
  {
   "cell_type": "markdown",
   "id": "3ee4d6f7-7a75-462b-a23c-858254e72e61",
   "metadata": {},
   "source": [
    "<br>\n",
    "<br>\n",
    "\n",
    "### Posterior Measures"
   ]
  },
  {
   "cell_type": "markdown",
   "id": "21e8c05e-035f-4dd8-a42e-878f8aacc13b",
   "metadata": {},
   "source": [
    "<br>\n",
    "\n",
    "**Posterior Measures & Standard Deviations: Summaries**"
   ]
  },
  {
   "cell_type": "code",
   "execution_count": null,
   "id": "d381016b-3577-4630-b6ce-1794281a6103",
   "metadata": {},
   "outputs": [],
   "source": [
    "az.summary(alternative)"
   ]
  },
  {
   "cell_type": "markdown",
   "id": "51d46384-68bb-464f-b991-a6a511aa6f7f",
   "metadata": {},
   "source": [
    "<br>\n",
    "\n",
    "<br>\n",
    "\n",
    "**Posterior Measures & Standard Deviations: Graphs**"
   ]
  },
  {
   "cell_type": "code",
   "execution_count": null,
   "id": "3e7aae15-a24a-4dac-af4d-711152a95c41",
   "metadata": {},
   "outputs": [],
   "source": [
    "with unpooled:\n",
    "    az.plot_trace(data=alternative, figsize=(4.35, 2.95))"
   ]
  },
  {
   "cell_type": "markdown",
   "id": "285b0d30-fa40-4689-89d0-b832eafebe7f",
   "metadata": {},
   "source": [
    "<br>\n",
    "<br>\n",
    "\n",
    "**Posterior Measures: High Density Intervals**"
   ]
  },
  {
   "cell_type": "code",
   "execution_count": null,
   "id": "84530b87-9e0b-4963-8691-453aa7cd9d90",
   "metadata": {},
   "outputs": [],
   "source": [
    "az.plot_forest(\n",
    "    alternative, var_names='apriori', figsize=(6, 32), r_hat=True, combined=True, textsize=8\n",
    ");"
   ]
  },
  {
   "cell_type": "markdown",
   "id": "2d29f938-5a67-479f-82c5-da28ea99a635",
   "metadata": {},
   "source": [
    "<br>\n",
    "\n",
    "**Posterior Mean**"
   ]
  },
  {
   "cell_type": "code",
   "execution_count": null,
   "id": "7cd69f21-1faf-4931-8328-fc031ec1f8d1",
   "metadata": {},
   "outputs": [],
   "source": [
    "averages_features = alternative.posterior.mean(dim=('chain', 'draw'))\n",
    "averages_features"
   ]
  },
  {
   "cell_type": "markdown",
   "id": "a357046d-fdf2-41f8-bb04-74a5d299576e",
   "metadata": {},
   "source": [
    "<br>\n",
    "\n",
    "**Posterior Check**"
   ]
  },
  {
   "cell_type": "code",
   "execution_count": null,
   "id": "00080232-a95f-4e41-bd0f-7330fe9f85e9",
   "metadata": {},
   "outputs": [],
   "source": [
    "hdi_features = az.hdi(alternative)\n",
    "hdi_features"
   ]
  },
  {
   "cell_type": "markdown",
   "id": "5adeb29d-c698-488b-ae03-def0bd27b60d",
   "metadata": {},
   "source": [
    "<br>\n",
    "<br>\n",
    "\n",
    "### Graphs"
   ]
  },
  {
   "cell_type": "markdown",
   "id": "29fd84b2-02c0-4a82-a89e-e7312d42026f",
   "metadata": {},
   "source": [
    "<br>\n",
    "<br>\n",
    "\n",
    "**High Density Intervals, Averages**"
   ]
  },
  {
   "cell_type": "markdown",
   "id": "5d58b463-ece8-4552-8d3a-fecb2bd45d95",
   "metadata": {},
   "source": [
    "For more about `sel(.)` visit [arviz.InferenceData.sel(.)](https://python.arviz.org/en/latest/api/generated/arviz.InferenceData.sel.html).  &nbsp; The # of counties is\n",
    "\n",
    "> ```python \n",
    "len(coords.get('County'))\n"
   ]
  },
  {
   "cell_type": "code",
   "execution_count": null,
   "id": "0be1c8ef-9e6f-4002-a81f-a63e133d6a12",
   "metadata": {},
   "outputs": [],
   "source": [
    "fig, axes = plt.subplots(1, 2, figsize=(9, 3.7))\n",
    "\n",
    "xticks = np.arange(0, 86, 6)\n",
    "\n",
    "fontdict = {'horizontalalignment': 'right', 'fontsize': 8}\n",
    "\n",
    "for ax, level in zip(axes, ['Basement', 'Ground']):\n",
    "    \n",
    "    averages_ = averages_features.sel(Level=level).sortby('apriori')\n",
    "    hdi_ = hdi_features.sel(Level=level).sortby(averages_.apriori)\n",
    "    averages_.plot.scatter(x='County', y='apriori', ax=ax, alpha=0.8)\n",
    "    \n",
    "    \n",
    "    # high density interval lines\n",
    "    ax.vlines(\n",
    "        np.arange(len(coords.get('County'))),\n",
    "        hdi_.apriori.sel(hdi='lower'),\n",
    "        hdi_.apriori.sel(hdi='higher'),\n",
    "        color='orange',\n",
    "        alpha=0.6,\n",
    "    )\n",
    "    \n",
    "    \n",
    "    # titles\n",
    "    ax.set_title(f'\\n{level.title()} estimates\\n', fontsize=12)\n",
    "    \n",
    "    # x ticks\n",
    "    ax.set_xticks(xticks)\n",
    "    ax.set_xticklabels(averages_.County.values[xticks], horizontalalignment='right', rotation=45)\n",
    "    \n",
    "    # all ticks\n",
    "    ax.tick_params(labelsize='x-small')\n",
    "    \n",
    "    # limits\n",
    "    ax.set_ylim(bottom=-2, top=4.5)\n",
    "    \n",
    "    # labels\n",
    "    ax.set_xlabel('County', fontsize=10)\n",
    "    ax.set_ylabel('Radon estimate', fontsize=10)"
   ]
  },
  {
   "cell_type": "markdown",
   "id": "66158565-1ed1-4774-a436-117383aa767f",
   "metadata": {},
   "source": [
    "<br>\n",
    "<br>\n",
    "\n",
    "**Dispersion & Basements**"
   ]
  },
  {
   "cell_type": "code",
   "execution_count": null,
   "id": "77a8d709-2414-4717-969b-0ab79467f503",
   "metadata": {},
   "outputs": [],
   "source": [
    "basement = frequencies.loc[frequencies['floor'] == coords['Level']['Basement'], ['county', 'countyindex', 'N']]\n",
    "logger.info(basement.tail())"
   ]
  },
  {
   "cell_type": "markdown",
   "id": "005d599d-4bef-46da-86cc-5169c285a89b",
   "metadata": {},
   "source": [
    "<br>\n",
    "\n",
    "Basement level <apriori>  high density interval data"
   ]
  },
  {
   "cell_type": "code",
   "execution_count": null,
   "id": "5086b853-0d08-4e9f-9f5a-204b61c9693b",
   "metadata": {},
   "outputs": [],
   "source": [
    "experiment = hdi_features['apriori'].sel(Level='Basement')"
   ]
  },
  {
   "cell_type": "markdown",
   "id": "de455c8b-a30c-4130-99df-9122f03a39ba",
   "metadata": {},
   "source": [
    "<br>\n",
    "\n",
    "Hence, the differences and their parallel county names"
   ]
  },
  {
   "cell_type": "code",
   "execution_count": null,
   "id": "f3f2bb92-c892-4835-bc48-ae8499d1ff73",
   "metadata": {},
   "outputs": [],
   "source": [
    "pd.DataFrame(data={'difference': experiment.sel(hdi='higher') - experiment.sel(hdi='lower'), \n",
    "                  'county': experiment['County']})"
   ]
  },
  {
   "cell_type": "markdown",
   "id": "7fa710fd-9dcf-48ab-879e-0f54b63fc0f8",
   "metadata": {},
   "source": [
    "<br>\n",
    "<br>\n",
    "\n",
    "**Funnel**"
   ]
  }
 ],
 "metadata": {
  "kernelspec": {
   "display_name": "Python 3 (ipykernel)",
   "language": "python",
   "name": "python3"
  },
  "language_info": {
   "codemirror_mode": {
    "name": "ipython",
    "version": 3
   },
   "file_extension": ".py",
   "mimetype": "text/x-python",
   "name": "python",
   "nbconvert_exporter": "python",
   "pygments_lexer": "ipython3",
   "version": "3.8.13"
  },
  "toc-showtags": false,
  "vscode": {
   "interpreter": {
    "hash": "d4d1e4263499bec80672ea0156c357c1ee493ec2b1c70f0acce89fc37c4a6abe"
   }
  }
 },
 "nbformat": 4,
 "nbformat_minor": 5
}
