{
 "cells": [
  {
   "cell_type": "markdown",
   "id": "f9fc5321-f5b5-4d45-b4f5-a9937ba45f7b",
   "metadata": {},
   "source": [
    "A few references:\n",
    "\n",
    "* [ARVIZ API](https://python.arviz.org/en/latest/api/index.html)\n",
    "* [PYMC API](https://www.pymc.io/projects/docs/en/stable/api.html)\n",
    "* [xarray API](https://docs.xarray.dev/en/stable/api.html)\n",
    "* [daft](https://docs.daft-pgm.org/en/latest/): &nbsp; [daft & complete pooling](https://www.tensorflow.org/probability/examples/Multilevel_Modeling_Primer#41_complete_pooling_model)\n",
    "* [graphviz](https://graphviz.readthedocs.io/en/stable/api.html): &nbsp; [pymc.model_to_graphviz](https://www.pymc.io/projects/docs/en/stable/api/generated/pymc.model_to_graphviz.html), <a href=\"https://www.pymc.io/projects/docs/en/stable/_modules/pymc/model_graph.html#:~:text=VarName%22%2C%20str)%0A%0A%0Aclass-,ModelGraph,-%3A%0A%20%20%20%20def%20__init__(self\"> pymc.model_graph.ModelGraph</a>\n",
    "\n",
    "<br>"
   ]
  },
  {
   "cell_type": "markdown",
   "id": "12ff85d2-a615-44b7-8376-6b767072ce72",
   "metadata": {},
   "source": [
    "# Preliminaries"
   ]
  },
  {
   "cell_type": "code",
   "execution_count": null,
   "id": "0007da65-a9db-493a-a65c-6fcb17522b88",
   "metadata": {},
   "outputs": [],
   "source": [
    "!python --version"
   ]
  },
  {
   "cell_type": "markdown",
   "id": "73d16c72-2d28-4fab-b572-21f3399dd9c9",
   "metadata": {},
   "source": [
    "<br>\n",
    "\n",
    "## Environment"
   ]
  },
  {
   "cell_type": "code",
   "execution_count": null,
   "id": "79b0a44c-1678-40ef-951a-194879995b8e",
   "metadata": {},
   "outputs": [],
   "source": [
    "import os\n",
    "import pathlib"
   ]
  },
  {
   "cell_type": "markdown",
   "id": "9bf81a01-1e4e-482d-8201-d6595b04e1b5",
   "metadata": {},
   "source": [
    "<br>\n",
    "\n",
    "Set path"
   ]
  },
  {
   "cell_type": "code",
   "execution_count": null,
   "id": "21f97165-1142-4ac8-8265-423d428b3608",
   "metadata": {},
   "outputs": [],
   "source": [
    "os.chdir(path=str(pathlib.Path(os.getcwd()).parent))\n",
    "os.getcwd()"
   ]
  },
  {
   "cell_type": "markdown",
   "id": "b04b45c4-4413-4c76-83d2-c83272937361",
   "metadata": {},
   "source": [
    "<br>\n",
    "\n",
    "## Libraries"
   ]
  },
  {
   "cell_type": "code",
   "execution_count": null,
   "id": "62500f62-fa51-4675-8765-d11f5d088ccf",
   "metadata": {},
   "outputs": [],
   "source": [
    "%matplotlib inline"
   ]
  },
  {
   "cell_type": "code",
   "execution_count": null,
   "id": "a50fb0ed-d6c4-4d20-a82d-095d080227af",
   "metadata": {},
   "outputs": [],
   "source": [
    "import logging\n",
    "import collections\n",
    "\n",
    "import matplotlib.pyplot as plt\n",
    "import matplotlib.font_manager as fm\n",
    "\n",
    "import numpy as np\n",
    "import pandas as pd\n",
    "import seaborn as sns\n",
    "\n",
    "import arviz as az\n",
    "import pymc as pm\n",
    "import xarray as xr\n",
    "import aesara.tensor as at\n",
    "import graphviz"
   ]
  },
  {
   "cell_type": "markdown",
   "id": "f96db317-945e-4c4d-b59f-deaa03563865",
   "metadata": {},
   "source": [
    "<br>\n",
    "\n",
    "Versions"
   ]
  },
  {
   "cell_type": "code",
   "execution_count": null,
   "id": "d6e77568-391d-475b-a249-35101e36fad7",
   "metadata": {},
   "outputs": [],
   "source": [
    "az.__version__"
   ]
  },
  {
   "cell_type": "code",
   "execution_count": null,
   "id": "392d5bc2-4933-407c-948c-ffb60f8c2fda",
   "metadata": {},
   "outputs": [],
   "source": [
    "pm.__version__"
   ]
  },
  {
   "cell_type": "code",
   "execution_count": null,
   "id": "3ff9bc4a-e1cd-41e5-a6ce-9bba5f0dd945",
   "metadata": {},
   "outputs": [],
   "source": [
    "np.__version__"
   ]
  },
  {
   "cell_type": "markdown",
   "id": "d6a42025-827c-4d62-b758-05d82eb34658",
   "metadata": {},
   "source": [
    "<br>\n",
    "\n",
    "## Custom"
   ]
  },
  {
   "cell_type": "code",
   "execution_count": null,
   "id": "8e98ba43-fda0-47a8-8ae5-ac5917a6c7ab",
   "metadata": {},
   "outputs": [],
   "source": [
    "import src.graphics.settings\n",
    "import src.graphics.sketch\n",
    "import src.graphics.models\n",
    "\n",
    "import src.data.radioactivity\n",
    "import src.data.features\n",
    "import src.data.coordinates\n",
    "\n",
    "import src.models.complete\n",
    "import src.models.individual\n",
    "import src.models.unpooled\n",
    "import src.models.partial\n",
    "import src.models.vi\n",
    "\n",
    "import src.models.inference\n",
    "import src.models.mapping\n"
   ]
  },
  {
   "cell_type": "markdown",
   "id": "3397f6cd-ea8c-48ef-863f-71a35c71bcdd",
   "metadata": {},
   "source": [
    "<br>\n",
    "\n",
    "Aesthetics"
   ]
  },
  {
   "cell_type": "code",
   "execution_count": null,
   "id": "43bdea7a-b6f2-490b-8f5a-fc951f19ac90",
   "metadata": {},
   "outputs": [],
   "source": [
    "settings = src.graphics.settings.Settings()\n",
    "\n",
    "settings.layout()\n",
    "settings.aesthetics()"
   ]
  },
  {
   "cell_type": "markdown",
   "id": "48fe87f8-35ac-4ad9-8bc1-4fcf5d529d27",
   "metadata": {},
   "source": [
    "<br>\n",
    "\n",
    "For diagrams/figures\n",
    "* The `Labels` class is for `sketch.annotation(ax, Labels(title='...', xlabel='...', ylabel='...'))`"
   ]
  },
  {
   "cell_type": "code",
   "execution_count": null,
   "id": "747590a0-afb7-4779-90d0-d69628c67ebf",
   "metadata": {},
   "outputs": [],
   "source": [
    "sketch = src.graphics.sketch.Sketch()\n",
    "Labels = collections.namedtuple(typename='Labels', field_names=['title', 'xlabel', 'ylabel'])"
   ]
  },
  {
   "cell_type": "markdown",
   "id": "9e545220-4356-4e2e-8262-3a6c2e88482c",
   "metadata": {},
   "source": [
    "<br>\n",
    "\n",
    "For the DAG (directed acyclic graph) of models"
   ]
  },
  {
   "cell_type": "code",
   "execution_count": null,
   "id": "408663f1-5889-452a-af79-97e873621990",
   "metadata": {},
   "outputs": [],
   "source": [
    "path = os.path.join(os.getcwd(), 'notebooks')\n",
    "dag = src.graphics.models.Models(path=path)"
   ]
  },
  {
   "cell_type": "markdown",
   "id": "3afbf959-c16f-4409-9599-8ec6d7c6d1b0",
   "metadata": {},
   "source": [
    "<br>\n",
    "\n",
    "## Settings"
   ]
  },
  {
   "cell_type": "markdown",
   "id": "fa6a93e3-2f26-4bd6-ad8d-374a6dd0be8e",
   "metadata": {},
   "source": [
    "Seed"
   ]
  },
  {
   "cell_type": "code",
   "execution_count": null,
   "id": "3f00eba3-ec00-4dfa-9003-b17527463777",
   "metadata": {},
   "outputs": [],
   "source": [
    "RANDOM_SEED = 8924"
   ]
  },
  {
   "cell_type": "markdown",
   "id": "6977195b-7c83-45b4-9bb2-82db03c41387",
   "metadata": {},
   "source": [
    "<br>\n",
    "\n",
    "Graphing"
   ]
  },
  {
   "cell_type": "code",
   "execution_count": null,
   "id": "5c70e3df-ee75-42e0-96ca-0fcd8b99585e",
   "metadata": {},
   "outputs": [],
   "source": [
    "az.style.use('arviz-darkgrid')"
   ]
  },
  {
   "cell_type": "markdown",
   "id": "f54f9311-530c-44cb-911a-f200ca0bb8ce",
   "metadata": {},
   "source": [
    "<br>\n",
    "\n",
    "## Logging"
   ]
  },
  {
   "cell_type": "code",
   "execution_count": null,
   "id": "5096d6ea-d2db-4715-876b-46b5a5531021",
   "metadata": {},
   "outputs": [],
   "source": [
    "logging.basicConfig(level=logging.INFO, \n",
    "                    format='\\n%(message)s\\n%(asctime)s.%(msecs)03d\\n', \n",
    "                    datefmt='%Y-%m-%d %H:%M:%S')\n",
    "logger = logging.getLogger(__name__)"
   ]
  },
  {
   "cell_type": "markdown",
   "id": "36280a57-9123-447f-be10-3ada0ef74ec7",
   "metadata": {},
   "source": [
    "<br>\n",
    "<br>\n",
    "\n",
    "# Data"
   ]
  },
  {
   "cell_type": "markdown",
   "id": "7a167930-7cc3-4638-b37e-29891913387d",
   "metadata": {},
   "source": [
    "Excerpt: Focusing on Minnesota, MN, dwellings."
   ]
  },
  {
   "cell_type": "code",
   "execution_count": null,
   "id": "d1e5aab7-bd96-4640-a3cb-6bf830ae9731",
   "metadata": {},
   "outputs": [],
   "source": [
    "excerpt = src.data.radioactivity.Radioactivity().exc(state='MN')\n",
    "logger.info(excerpt.columns)\n",
    "logger.info(f'# of instances: {excerpt.shape}')\n",
    "logger.info(f\"# of unique codes: {excerpt['idnum'].unique().shape}\")"
   ]
  },
  {
   "cell_type": "markdown",
   "id": "9563b88f-809a-45c0-aa8c-aaf0b2d3dc62",
   "metadata": {},
   "source": [
    "<br>\n",
    "\n",
    "Extra features"
   ]
  },
  {
   "cell_type": "code",
   "execution_count": null,
   "id": "0fa74176-2895-4436-b035-c23616f38b70",
   "metadata": {},
   "outputs": [],
   "source": [
    "excerpt = src.data.features.Features().exc(data=excerpt)\n",
    "logger.info(excerpt.columns)\n",
    "logger.info(f'# of instances: {excerpt.shape}')\n",
    "logger.info(f\"# of unique codes: {excerpt['idnum'].unique().shape}\")"
   ]
  },
  {
   "cell_type": "markdown",
   "id": "e009c108-adae-4549-8131-5489a5e5a88d",
   "metadata": {},
   "source": [
    "<br>\n",
    "\n",
    "Frequencies"
   ]
  },
  {
   "cell_type": "code",
   "execution_count": null,
   "id": "0dd67e40-ceea-4ddd-ac27-9de5241db363",
   "metadata": {},
   "outputs": [],
   "source": [
    "frequencies = excerpt[['county', 'countyindex', 'floor']].groupby(by=['county', 'countyindex', 'floor'], sort=False).value_counts()\n",
    "frequencies.rename('N', inplace=True)\n",
    "frequencies = frequencies.to_frame()\n",
    "frequencies.reset_index(drop=False, inplace=True)\n",
    "logger.info(frequencies.head())"
   ]
  },
  {
   "cell_type": "markdown",
   "id": "6743b0f5-e680-49dc-be08-9fd521f9b60d",
   "metadata": {},
   "source": [
    "<br>\n",
    "<br>\n",
    "\n",
    "# Exploratory Graphs"
   ]
  },
  {
   "cell_type": "code",
   "execution_count": null,
   "id": "68327d5b-9df8-46c7-82d6-c7d2313b3e76",
   "metadata": {},
   "outputs": [],
   "source": [
    "ax = sketch.figure(width=2.9, height=2.5)\n",
    "ax.hist(excerpt.ln_radon, bins=25)\n",
    "sketch.annotation(ax, Labels(title='', xlabel='bins', ylabel='frequency'))"
   ]
  },
  {
   "cell_type": "markdown",
   "id": "e55f0465-2eb2-43c7-888e-79f05b48e902",
   "metadata": {},
   "source": [
    "<br>\n",
    "<br>\n",
    "\n",
    "# Models"
   ]
  },
  {
   "cell_type": "markdown",
   "id": "d0f16895-184e-4c3c-be4b-23c26b5a14e5",
   "metadata": {},
   "source": [
    "The model's initial co$\\ddot{o}$rdinates"
   ]
  },
  {
   "cell_type": "code",
   "execution_count": null,
   "id": "f971af87-9671-479b-9e87-65a70482e911",
   "metadata": {},
   "outputs": [],
   "source": [
    "coords = src.data.coordinates.Coordinates(data=excerpt).exc()\n",
    "logger.info(coords)"
   ]
  },
  {
   "cell_type": "markdown",
   "id": "fab91a79-250a-4f12-890d-ffe689a95d70",
   "metadata": {
    "tags": []
   },
   "source": [
    "<br>\n",
    "<br>\n",
    "\n",
    "## Complete"
   ]
  },
  {
   "cell_type": "markdown",
   "id": "b6af2825-a0c2-43c6-afae-96cbaea0a81c",
   "metadata": {},
   "source": [
    "Add more notes:\n",
    "\n",
    "* A simple linear regression model: an intercept, a gradient whereby the accompanying independent variable is *dwelling level*, i.e., basement or ground level.\n",
    "* The dependent variable is *ln(radon)*\n",
    "* Is the *intercept* implicit below?\n",
    "\n"
   ]
  },
  {
   "cell_type": "markdown",
   "id": "e0ca3f63-3be5-4eb4-9319-28a78f2276ad",
   "metadata": {},
   "source": [
    "<br>\n",
    "\n",
    "### Model"
   ]
  },
  {
   "cell_type": "markdown",
   "id": "38ae4aa1-c143-4029-ad72-ac4916b3b97b",
   "metadata": {},
   "source": [
    "\n",
    "The model"
   ]
  },
  {
   "cell_type": "code",
   "execution_count": null,
   "id": "56aae16c-081d-40e4-939f-8cec81a5e10a",
   "metadata": {},
   "outputs": [],
   "source": [
    "complete = src.models.complete.Complete(coords=coords, seed=RANDOM_SEED).exc(data=excerpt)"
   ]
  },
  {
   "cell_type": "markdown",
   "id": "6f0737e6-4790-457f-8d2e-81c09ebb38a9",
   "metadata": {},
   "source": [
    "<br>\n",
    "\n",
    "An illustration of model\n",
    "\n",
    "* Similarly: `pm.model_to_graphviz(complete)`"
   ]
  },
  {
   "cell_type": "code",
   "execution_count": null,
   "id": "40526bf0-ff3f-4221-a3ec-80080bb519ee",
   "metadata": {},
   "outputs": [],
   "source": [
    "name = 'complete.gv'\n",
    "dag.exc(model=complete, name=name)\n",
    "graphviz.Source.from_file(filename=os.path.join(path, name))"
   ]
  },
  {
   "cell_type": "markdown",
   "id": "3060dd20-3fe1-4e13-8beb-ad3df12b46e8",
   "metadata": {},
   "source": [
    "<br>\n",
    "<br>\n",
    "\n",
    "<span style='color: #7f7f00'><b>Test Model</b>: A different set-up, but the same model</span>"
   ]
  },
  {
   "cell_type": "code",
   "execution_count": null,
   "id": "682ff9ac-a17c-4277-b4a9-e8555c940a48",
   "metadata": {},
   "outputs": [],
   "source": [
    "individual = src.models.individual.Individual(coords=coords, seed=RANDOM_SEED).exc(data=excerpt)"
   ]
  },
  {
   "cell_type": "code",
   "execution_count": null,
   "id": "4855568b-d804-4831-8d25-b2a6fb6508b4",
   "metadata": {},
   "outputs": [],
   "source": [
    "name = 'individual.gv'\n",
    "dag.exc(model=individual, name=name)\n",
    "graphviz.Source.from_file(filename=os.path.join(path, name))"
   ]
  },
  {
   "cell_type": "markdown",
   "id": "139aee3d-ce34-43e9-996a-9a3e1699229f",
   "metadata": {},
   "source": [
    "<br>\n",
    "<br>\n",
    "\n",
    "### Inference"
   ]
  },
  {
   "cell_type": "markdown",
   "id": "42039f2b-c8e9-4f67-8727-97d65fae195b",
   "metadata": {},
   "source": [
    "* `inferences.keys()`\n",
    "\n",
    "* `inferences.get('prior').keys()`\n"
   ]
  },
  {
   "cell_type": "code",
   "execution_count": null,
   "id": "5741885b-5a86-43ce-b673-d3f6791c465d",
   "metadata": {},
   "outputs": [],
   "source": [
    "complete_ = src.models.inference.Inference(model=complete).exc()"
   ]
  },
  {
   "cell_type": "code",
   "execution_count": null,
   "id": "64bb1c5c-4e1f-42ae-a85c-dbf0fc7f1994",
   "metadata": {},
   "outputs": [],
   "source": [
    "complete_ = src.models.mapping.Mapping(inferences=complete_, coords=coords).exc()"
   ]
  },
  {
   "cell_type": "code",
   "execution_count": null,
   "id": "34092418-0069-40f9-b337-ef4abc219848",
   "metadata": {},
   "outputs": [],
   "source": [
    "complete_"
   ]
  },
  {
   "cell_type": "markdown",
   "id": "54a5c424-a1e3-4695-aeab-d6c5ecc51167",
   "metadata": {},
   "source": [
    "<br>\n",
    "\n",
    "<span style='color: #7f7f00'><b>Test Model</b>: Inference</span>"
   ]
  },
  {
   "cell_type": "code",
   "execution_count": null,
   "id": "a0a04fae-94d2-44de-94d1-67a13e8e613c",
   "metadata": {},
   "outputs": [],
   "source": [
    "individual_ = src.models.inference.Inference(model=individual).exc()"
   ]
  },
  {
   "cell_type": "code",
   "execution_count": null,
   "id": "31e02320-d3d0-4f56-92cb-e091b2399d73",
   "metadata": {},
   "outputs": [],
   "source": [
    "individual_"
   ]
  },
  {
   "cell_type": "markdown",
   "id": "777778cf-1c1a-4520-9881-3925a5122235",
   "metadata": {},
   "source": [
    "<br>\n",
    "\n",
    "$\\Longrightarrow$"
   ]
  },
  {
   "cell_type": "code",
   "execution_count": null,
   "id": "250e7759-d12b-4fc6-9a73-bccd29b2b9f5",
   "metadata": {},
   "outputs": [],
   "source": [
    "individual_.posterior = individual_.posterior.assign_coords(Level=list(coords['Level'].keys()))"
   ]
  },
  {
   "cell_type": "code",
   "execution_count": null,
   "id": "18fee7f5-53e2-4970-820c-f6587e172aff",
   "metadata": {},
   "outputs": [],
   "source": [
    "individual_ = src.models.mapping.Mapping(inferences=individual_, coords=coords).exc()"
   ]
  },
  {
   "cell_type": "code",
   "execution_count": null,
   "id": "258b758d-fe89-4bfe-9323-7929cc3037c9",
   "metadata": {},
   "outputs": [],
   "source": [
    "individual_"
   ]
  },
  {
   "cell_type": "markdown",
   "id": "e4edaa2f-1a62-4a19-af7c-28bbedde4e57",
   "metadata": {},
   "source": [
    "<br>\n",
    "<br>\n",
    "\n",
    "### Prior Measures"
   ]
  },
  {
   "cell_type": "markdown",
   "id": "76f3e046-91ab-4586-9475-f93f0fbd7d20",
   "metadata": {},
   "source": [
    "<br>\n",
    "\n",
    "**Prior Measures: Distributions**\n",
    "\n"
   ]
  },
  {
   "cell_type": "code",
   "execution_count": null,
   "id": "424ffb1e-ac38-443b-8ea3-073f4753eb53",
   "metadata": {},
   "outputs": [],
   "source": [
    "computations = []\n",
    "\n",
    "for k, v in coords['Level'].items():\n",
    "    \n",
    "    points = complete_.prior['measures'].sel(Level=k).squeeze()\n",
    "    \n",
    "    instances = pd.DataFrame(data={'measures': points, 'level': np.repeat(v, points.shape[0]), 'type': np.repeat(k, points.shape[0])})\n",
    "    \n",
    "    computations.append(instances)\n",
    "\n",
    "instances = pd.concat(computations, axis=0, ignore_index=True)\n",
    "\n",
    "logger.info(instances.head())"
   ]
  },
  {
   "cell_type": "markdown",
   "id": "46c68f94-053a-4244-aa6d-c8444c2d573e",
   "metadata": {},
   "source": [
    "<br>\n",
    "\n",
    "The graph"
   ]
  },
  {
   "cell_type": "code",
   "execution_count": null,
   "id": "a7afa6d2-9d19-4035-9faa-8cdc5f4efd56",
   "metadata": {},
   "outputs": [],
   "source": [
    "ax = sketch.figure(width=2.1, height=2.9)\n",
    "sns.boxplot(data=instances, x='type', y='measures', notch=True, color='k', showcaps=False, ax=ax)\n",
    "sketch.annotation(ax, Labels(title='', xlabel='level', ylabel='mean(ln(radon))'))"
   ]
  },
  {
   "cell_type": "markdown",
   "id": "8b8063ad-e451-47c6-ad5e-e4296d6dbc8e",
   "metadata": {},
   "source": [
    "<br>\n",
    "<br>\n",
    "\n",
    "### Prior Predictive"
   ]
  },
  {
   "cell_type": "code",
   "execution_count": null,
   "id": "2061e14a-6ef8-4b1d-8b50-0175633a00a1",
   "metadata": {},
   "outputs": [],
   "source": [
    "complete_.prior_predictive"
   ]
  },
  {
   "cell_type": "markdown",
   "id": "6f06ae3f-521d-4d12-bd8e-c8aee9a87cd8",
   "metadata": {},
   "source": [
    "<br>\n",
    "<br>\n",
    "\n",
    "### Posterior Measures"
   ]
  },
  {
   "cell_type": "markdown",
   "id": "03fd092e-00b4-45f8-bef8-2d8d297c43cb",
   "metadata": {},
   "source": [
    "\n",
    "Notes/references:\n",
    "\n",
    "* [About `arviz.hdi(.)`](https://arviz-devs.github.io/arviz/api/generated/arviz.hdi.html)\n",
    "\n",
    "* [About `xarray.DataArray`](https://docs.xarray.dev/en/stable/generated/xarray.DataArray.html#xarray.DataArray)\n",
    "\n",
    "* [xarray.DataArray.groupy](https://docs.xarray.dev/en/stable/generated/xarray.DataArray.groupby.html#xarray.DataArray.groupby)\n",
    "\n",
    "* cf. `trace.constant_data['level']` & `trace.constant_data['N']`\n"
   ]
  },
  {
   "cell_type": "markdown",
   "id": "64991953-f4ec-47c9-9ce8-cb8a8f94d55e",
   "metadata": {},
   "source": [
    "<br>\n",
    "\n",
    "**Posterior Measures: Distributions**"
   ]
  },
  {
   "cell_type": "code",
   "execution_count": null,
   "id": "fc3fd5b7-f915-459c-8a67-1682498fa7e0",
   "metadata": {},
   "outputs": [],
   "source": [
    "computations = []\n",
    "\n",
    "for k, v in coords['Level'].items():\n",
    "    \n",
    "    points = complete_.posterior['measures'].mean(dim=('chain')).sel(Level=k).squeeze()\n",
    "    \n",
    "    instances = pd.DataFrame(data={'measures': points, 'level': np.repeat(v, points.shape[0]), 'type': np.repeat(k, points.shape[0])})\n",
    "    \n",
    "    computations.append(instances)\n",
    "\n",
    "instances = pd.concat(computations, axis=0, ignore_index=True)\n",
    "\n",
    "logger.info(instances.tail())"
   ]
  },
  {
   "cell_type": "markdown",
   "id": "f79186df-a27c-4156-aedb-694645e749a4",
   "metadata": {},
   "source": [
    "<br>\n",
    "\n",
    "The distributions"
   ]
  },
  {
   "cell_type": "code",
   "execution_count": null,
   "id": "1eb1ff85-11f8-4302-9e10-fb8fbb5e6d27",
   "metadata": {},
   "outputs": [],
   "source": [
    "ax = sketch.figure(width=2.1, height=2.9)\n",
    "sns.boxplot(data=instances, x='type', y='measures', notch=True, color='k', showcaps=False, ax=ax)\n",
    "sketch.annotation(ax, Labels(title='', xlabel='level', ylabel='mean(ln(radon))'))"
   ]
  },
  {
   "cell_type": "markdown",
   "id": "c5ce8971-4436-4398-97a6-32a892c231e3",
   "metadata": {},
   "source": [
    "<br>\n",
    "<br>\n",
    "\n",
    "**Posterior Measures & Standard Deviations: Summaries**"
   ]
  },
  {
   "cell_type": "code",
   "execution_count": null,
   "id": "6d4c1a78-8cf3-43d6-9b6e-708153dcd1b8",
   "metadata": {},
   "outputs": [],
   "source": [
    "az.summary(complete_)"
   ]
  },
  {
   "cell_type": "markdown",
   "id": "1638cfb2-84ab-4a51-93d6-4031717770d3",
   "metadata": {},
   "source": [
    "<br>\n",
    "<br>\n",
    "\n",
    "**Posterior Measures & Standard Deviations: Graphs**"
   ]
  },
  {
   "cell_type": "code",
   "execution_count": null,
   "id": "eb0c5439-419d-4bf6-832f-821649086760",
   "metadata": {},
   "outputs": [],
   "source": [
    "with complete:\n",
    "    az.plot_trace(data=complete_, figsize=(4.35, 2.95))"
   ]
  },
  {
   "cell_type": "markdown",
   "id": "bb16dab2-5115-4b47-bf54-b13eac5c46a6",
   "metadata": {},
   "source": [
    "<br>\n",
    "\n",
    "Cf."
   ]
  },
  {
   "cell_type": "code",
   "execution_count": null,
   "id": "cbe694fd-ee28-4e82-a581-114287f19e2e",
   "metadata": {},
   "outputs": [],
   "source": [
    "pm.plot_posterior(data=complete_, var_names=['measures', 'sigma'], \n",
    "                 figsize=(6.65, 2.1), grid=(1, 3), point_estimate='median', textsize=9)"
   ]
  },
  {
   "cell_type": "markdown",
   "id": "ac188e45-5c6b-4e78-be7c-d99dc27d11b2",
   "metadata": {},
   "source": [
    "<br>\n",
    "\n",
    "<span style='color: #7f7f00'><b>Test Model</b></span>"
   ]
  },
  {
   "cell_type": "code",
   "execution_count": null,
   "id": "12f0cad5-beae-4b23-a2a7-6e96e666a331",
   "metadata": {},
   "outputs": [],
   "source": [
    "with individual:\n",
    "    az.plot_trace(data=individual_, figsize=(4.35, 2.95))"
   ]
  },
  {
   "cell_type": "code",
   "execution_count": null,
   "id": "78fe9d3e-349b-4458-a9cb-2e11ba037f3c",
   "metadata": {},
   "outputs": [],
   "source": [
    "pm.plot_posterior(data=individual_, var_names=['alpha', 'beta', 'sigma'], \n",
    "                  figsize=(6.65, 2.1), grid=(1, 3), point_estimate='median', textsize=9)"
   ]
  },
  {
   "cell_type": "markdown",
   "id": "5892aed4-0331-4e2e-9b23-78a800dc0598",
   "metadata": {},
   "source": [
    "<br>\n",
    "<br>\n",
    "\n",
    "**Posterior Measures Mean**"
   ]
  },
  {
   "cell_type": "code",
   "execution_count": null,
   "id": "643e224d-7397-4d80-bf4b-801531b8c487",
   "metadata": {},
   "outputs": [],
   "source": [
    "averages_features = complete_.posterior.mean(dim=('chain', 'draw'))\n",
    "averages_features"
   ]
  },
  {
   "cell_type": "code",
   "execution_count": null,
   "id": "ff227336-3fc1-41d3-b775-0c3866f2ba48",
   "metadata": {},
   "outputs": [],
   "source": [
    "individual_.posterior.mean(dim=('chain', 'draw'))"
   ]
  },
  {
   "cell_type": "markdown",
   "id": "adab76a8-c7e6-455d-8537-23078d1238be",
   "metadata": {},
   "source": [
    "<br>\n",
    "\n",
    "**Posterior Measures High Density Intervals**"
   ]
  },
  {
   "cell_type": "markdown",
   "id": "2a32df50-577a-45c9-8577-55d6524d7bd8",
   "metadata": {},
   "source": [
    "Herein, determining the high density posterior intervals via\n",
    "\n",
    "> ```python\n",
    "hdi_features = (\n",
    "    trace.posterior['measures'].groupby(trace.posterior.LevelName).apply(\n",
    "        lambda x: az.hdi(x, input_core_dims=[['chain', 'draw']]))['measures']\n",
    ")\n",
    "hdi_features\n",
    "\n",
    "\n",
    "is unnecessarily complex, and the resulting object does not include `LevelCode` co$\\ddot{o}$rdinates.\n",
    "\n",
    "<br>\n"
   ]
  },
  {
   "cell_type": "code",
   "execution_count": null,
   "id": "b6f2a005-12bf-459f-84e2-6131580dd727",
   "metadata": {},
   "outputs": [],
   "source": [
    "hdi_features = az.hdi(complete_)\n",
    "hdi_features"
   ]
  },
  {
   "cell_type": "markdown",
   "id": "74b40b53-45f2-4366-ac54-907ef23bddf6",
   "metadata": {},
   "source": [
    "<br>\n",
    "<br>\n",
    "\n",
    "### Posterior Predictive"
   ]
  },
  {
   "cell_type": "markdown",
   "id": "bdd3644f-784c-4b25-ac6a-2d817b28c2ac",
   "metadata": {},
   "source": [
    "<br>\n",
    "\n",
    "**Posterior Predictive Check**"
   ]
  },
  {
   "cell_type": "markdown",
   "id": "a73c199c-ac98-4e2a-b54b-932bffcebfd4",
   "metadata": {},
   "source": [
    "Equivalent:\n",
    "> ```python \n",
    "pm.plot_ppc(data=..., figsize=(2.9, 2.4), num_pp_samples=125, \n",
    "            random_seed=RANDOM_SEED, textsize=10)\n",
    "\n",
    "> ```python \n",
    "az.plot_ppc(data=..., figsize=(2.9, 2.4), num_pp_samples=125, \n",
    "            random_seed=RANDOM_SEED, textsize=10)\n",
    "\n",
    "<br>"
   ]
  },
  {
   "cell_type": "code",
   "execution_count": null,
   "id": "0963a50d-fbde-402c-aa7b-f745180e3feb",
   "metadata": {},
   "outputs": [],
   "source": [
    "az.plot_ppc(data=complete_, figsize=(2.9, 2.4), num_pp_samples=125, random_seed=RANDOM_SEED, textsize=10)"
   ]
  },
  {
   "cell_type": "markdown",
   "id": "f36138b6-b50b-40ff-b9ce-fc68ba3f17d2",
   "metadata": {},
   "source": [
    "<br>\n",
    "<br>\n",
    "\n",
    "**The posterior predictive high density interval per floor level type**"
   ]
  },
  {
   "cell_type": "code",
   "execution_count": null,
   "id": "4dc8d23a-0406-43a8-a433-5dceb557edab",
   "metadata": {},
   "outputs": [],
   "source": [
    "credibility = lambda x: az.hdi(x, input_core_dims=[[\"chain\", \"draw\", \"N\"]])\n",
    "hdi_predictive = (\n",
    "    complete_.posterior_predictive.y.groupby(complete_.constant_data.levelcode)\n",
    "    .apply(credibility)\n",
    "    .y\n",
    ")\n",
    "hdi_predictive"
   ]
  },
  {
   "cell_type": "markdown",
   "id": "cef62a74-e664-48e1-bcdd-885549c8050f",
   "metadata": {},
   "source": [
    "<br>\n",
    "\n",
    "### Graphs"
   ]
  },
  {
   "cell_type": "markdown",
   "id": "a7af4d96-d882-4b8e-9dec-7250529c92f3",
   "metadata": {},
   "source": [
    "<br>\n",
    "\n",
    "**High Density Intervals, Averages**"
   ]
  },
  {
   "cell_type": "markdown",
   "id": "8f366e4b-8df4-4249-b560-c106ea315d04",
   "metadata": {},
   "source": [
    "Options:\n",
    "\n",
    "* `sns.scatterplot(y=complete_.observed_data['y'], x=trace.observed_data['LevelName'], ax=ax)`"
   ]
  },
  {
   "cell_type": "code",
   "execution_count": null,
   "id": "ee6d2d0b-c0af-4c69-9556-64724c86b0d8",
   "metadata": {},
   "outputs": [],
   "source": [
    "ax = sketch.figure(width=4.25, height=2.7)\n",
    "\n",
    "complete_.observed_data.plot.scatter(x='LevelCode', y='y', label='Observations', alpha=0.25, ax=ax)\n",
    "\n",
    "az.plot_hdi(hdi_predictive.levelcode.values, \n",
    "            hdi_data=hdi_predictive, \n",
    "            fill_kwargs={'alpha': 0.25, 'label': 'Exp. distrib. of Radon levels'}, \n",
    "            color='k',\n",
    "            ax=ax)\n",
    "\n",
    "az.plot_hdi(hdi_features.LevelCode.values, \n",
    "            hdi_data=hdi_features['measures'], \n",
    "            fill_kwargs={'alpha': 0.25, 'label': 'Exp. mean HPD'}, \n",
    "            color='green',\n",
    "            ax=ax)\n",
    "\n",
    "ax.plot(np.arange(averages_features.coords['Level'].shape[0]), \n",
    "        averages_features['measures'].values, \n",
    "        color='orange',\n",
    "        label='Exp. mean')\n",
    "\n",
    "sketch.annotation(ax, Labels(title='', xlabel='', ylabel='mean(ln(radon))'))\n",
    "\n",
    "ax.set_xlim(-0.25, 1.25)\n",
    "\n",
    "ax.set_xticks(complete_.posterior['LevelCode'].values)\n",
    "ax.set_xticklabels(complete_.posterior['Level'].values, rotation=0)\n",
    "\n",
    "ax.legend(fontsize=8, frameon=True, bbox_to_anchor=(1, 1), loc='upper left')"
   ]
  },
  {
   "cell_type": "markdown",
   "id": "57deee06-7e6f-4bd8-ac50-14df02620ef2",
   "metadata": {},
   "source": [
    "<br>\n",
    "<br>\n",
    "\n",
    "**Clean-up**"
   ]
  },
  {
   "cell_type": "code",
   "execution_count": null,
   "id": "136ce1c0-8b2f-41ff-b892-c17486a46b46",
   "metadata": {},
   "outputs": [],
   "source": [
    "del hdi_features, averages_features, hdi_predictive"
   ]
  },
  {
   "cell_type": "markdown",
   "id": "3418fb3b-1ae1-410c-9126-810a69f51e1d",
   "metadata": {},
   "source": [
    "<br>\n",
    "\n",
    "### Inference Data"
   ]
  },
  {
   "cell_type": "code",
   "execution_count": null,
   "id": "2ea704c2-c597-4c69-a674-b170645f9946",
   "metadata": {},
   "outputs": [],
   "source": [
    "complete_"
   ]
  },
  {
   "cell_type": "markdown",
   "id": "16ec27f9-c613-4855-95ad-77cd75378b39",
   "metadata": {},
   "source": [
    "<br>\n",
    "<br>\n",
    "\n",
    "## Unpooled"
   ]
  },
  {
   "cell_type": "markdown",
   "id": "6735140e-d6de-49f5-8388-1b47c653580b",
   "metadata": {},
   "source": [
    "<br>\n",
    "\n",
    "The object `coords` has the set of distinct counties, each has a distinct index; ref. `coords['County']`.  &nbsp; In future use [an appropriate geographic code](https://www.nist.gov/system/files/documents/2021/08/11/FIPSCodesReplacementChart2015.pdf). &nbsp;  Additionally, the data object `excerpt` includes a `countyindex` field, whereby the relevant dictionary is $\\rightarrow$ `coords['County']`."
   ]
  },
  {
   "cell_type": "markdown",
   "id": "cded34dd-4221-494b-a25a-988eeca7f1f7",
   "metadata": {},
   "source": [
    "> ```python\n",
    "logger.info(coords.keys())\n",
    "logger.info(coords.get('County'))\n",
    "```\n"
   ]
  },
  {
   "cell_type": "markdown",
   "id": "c5c546c7-1635-4c06-a635-fbd0ffface48",
   "metadata": {},
   "source": [
    "<br>\n",
    "\n",
    "### Model"
   ]
  },
  {
   "cell_type": "code",
   "execution_count": null,
   "id": "d310a66c-32e3-4bb3-adde-3d7765241112",
   "metadata": {},
   "outputs": [],
   "source": [
    "unpooled = src.models.unpooled.Unpooled(coords=coords, seed=RANDOM_SEED).exc(data=excerpt)"
   ]
  },
  {
   "cell_type": "markdown",
   "id": "dce15cdd-a918-438f-9572-8403010f7a1b",
   "metadata": {},
   "source": [
    "<br>\n",
    "<br>\n",
    "\n",
    "An illustration of model\n",
    "\n",
    "* Similarly: `pm.model_to_graphviz(unpooled)`"
   ]
  },
  {
   "cell_type": "code",
   "execution_count": null,
   "id": "7f31e7a3-72cf-462c-97a9-443080a82fa4",
   "metadata": {},
   "outputs": [],
   "source": [
    "name = 'unpooled.gv'\n",
    "dag.exc(model=unpooled, name=name)\n",
    "graphviz.Source.from_file(filename=os.path.join(path, name))"
   ]
  },
  {
   "cell_type": "markdown",
   "id": "884e64b6-7ecd-4b29-b42d-a534dc335caf",
   "metadata": {},
   "source": [
    "<br>\n",
    "<br>\n",
    "\n",
    "### Inference"
   ]
  },
  {
   "cell_type": "code",
   "execution_count": null,
   "id": "46411799-e9d2-44d2-ad74-46cbdca0eaf8",
   "metadata": {},
   "outputs": [],
   "source": [
    "unpooled_ = src.models.inference.Inference(model=unpooled).exc()"
   ]
  },
  {
   "cell_type": "code",
   "execution_count": null,
   "id": "f745cf87-0dd2-483c-b3b7-7b3efc99bc59",
   "metadata": {},
   "outputs": [],
   "source": [
    "unpooled_ = src.models.mapping.Mapping(inferences=unpooled_, coords=coords).exc()"
   ]
  },
  {
   "cell_type": "code",
   "execution_count": null,
   "id": "18d87022-b287-45d2-88cb-aa9564aa31ba",
   "metadata": {},
   "outputs": [],
   "source": [
    "unpooled_"
   ]
  },
  {
   "cell_type": "markdown",
   "id": "3ee4d6f7-7a75-462b-a23c-858254e72e61",
   "metadata": {},
   "source": [
    "<br>\n",
    "<br>\n",
    "\n",
    "### Posterior Measures"
   ]
  },
  {
   "cell_type": "markdown",
   "id": "21e8c05e-035f-4dd8-a42e-878f8aacc13b",
   "metadata": {},
   "source": [
    "<br>\n",
    "\n",
    "**Posterior Measures & Standard Deviations: Summaries**"
   ]
  },
  {
   "cell_type": "code",
   "execution_count": null,
   "id": "d381016b-3577-4630-b6ce-1794281a6103",
   "metadata": {},
   "outputs": [],
   "source": [
    "az.summary(unpooled_)"
   ]
  },
  {
   "cell_type": "markdown",
   "id": "51d46384-68bb-464f-b991-a6a511aa6f7f",
   "metadata": {},
   "source": [
    "<br>\n",
    "\n",
    "<br>\n",
    "\n",
    "**Posterior Measures & Standard Deviations: Graphs**"
   ]
  },
  {
   "cell_type": "code",
   "execution_count": null,
   "id": "3e7aae15-a24a-4dac-af4d-711152a95c41",
   "metadata": {},
   "outputs": [],
   "source": [
    "with unpooled:\n",
    "    az.plot_trace(data=unpooled_, figsize=(4.35, 2.95))"
   ]
  },
  {
   "cell_type": "markdown",
   "id": "285b0d30-fa40-4689-89d0-b832eafebe7f",
   "metadata": {},
   "source": [
    "<br>\n",
    "<br>\n",
    "\n",
    "**Posterior Measures: High Density Intervals**"
   ]
  },
  {
   "cell_type": "code",
   "execution_count": null,
   "id": "84530b87-9e0b-4963-8691-453aa7cd9d90",
   "metadata": {},
   "outputs": [],
   "source": [
    "az.plot_forest(\n",
    "    unpooled_, var_names='measures', figsize=(6, 32), r_hat=True, combined=True, textsize=8\n",
    ");"
   ]
  },
  {
   "cell_type": "markdown",
   "id": "2d29f938-5a67-479f-82c5-da28ea99a635",
   "metadata": {},
   "source": [
    "<br>\n",
    "\n",
    "**Posterior Mean**"
   ]
  },
  {
   "cell_type": "code",
   "execution_count": null,
   "id": "7cd69f21-1faf-4931-8328-fc031ec1f8d1",
   "metadata": {},
   "outputs": [],
   "source": [
    "averages_features = unpooled_.posterior.mean(dim=('chain', 'draw'))\n",
    "averages_features"
   ]
  },
  {
   "cell_type": "markdown",
   "id": "a357046d-fdf2-41f8-bb04-74a5d299576e",
   "metadata": {},
   "source": [
    "<br>\n",
    "\n",
    "**Posterior Check**"
   ]
  },
  {
   "cell_type": "code",
   "execution_count": null,
   "id": "00080232-a95f-4e41-bd0f-7330fe9f85e9",
   "metadata": {},
   "outputs": [],
   "source": [
    "hdi_features = az.hdi(unpooled_)\n",
    "hdi_features"
   ]
  },
  {
   "cell_type": "markdown",
   "id": "5adeb29d-c698-488b-ae03-def0bd27b60d",
   "metadata": {},
   "source": [
    "<br>\n",
    "<br>\n",
    "\n",
    "### Graphs"
   ]
  },
  {
   "cell_type": "markdown",
   "id": "29fd84b2-02c0-4a82-a89e-e7312d42026f",
   "metadata": {},
   "source": [
    "<br>\n",
    "\n",
    "**High Density Intervals, Averages**"
   ]
  },
  {
   "cell_type": "markdown",
   "id": "5d58b463-ece8-4552-8d3a-fecb2bd45d95",
   "metadata": {},
   "source": [
    "For more about `sel(.)` visit [arviz.InferenceData.sel(.)](https://python.arviz.org/en/latest/api/generated/arviz.InferenceData.sel.html).  &nbsp; The # of counties is\n",
    "\n",
    "> ```python \n",
    "len(coords.get('County'))\n"
   ]
  },
  {
   "cell_type": "code",
   "execution_count": null,
   "id": "0be1c8ef-9e6f-4002-a81f-a63e133d6a12",
   "metadata": {},
   "outputs": [],
   "source": [
    "fig, axes = plt.subplots(1, 2, figsize=(9, 3.7))\n",
    "\n",
    "xticks = np.arange(0, 86, 6)\n",
    "\n",
    "fontdict = {'horizontalalignment': 'right', 'fontsize': 8}\n",
    "\n",
    "for ax, level in zip(axes, ['Basement', 'Ground']):\n",
    "    \n",
    "    averages_ = averages_features.sel(Level=level).sortby('measures')\n",
    "    \n",
    "    # the HDI limits per County ordered by increasing average, i.e., as above\n",
    "    hdi_ = hdi_features.sel(Level=level).sortby(averages_.measures)\n",
    "    \n",
    "    # the scatter plot of the average value per County\n",
    "    ax.plot(averages_['County'].values, averages_['measures'].values, 'ok', markersize=3, alpha=0.5);\n",
    "    \n",
    "    # high density interval lines\n",
    "    ax.vlines(\n",
    "        np.arange(len(coords.get('County'))),\n",
    "        hdi_.measures.sel(hdi='lower'),\n",
    "        hdi_.measures.sel(hdi='higher'),\n",
    "        color='orange',\n",
    "        alpha=0.6,\n",
    "    )    \n",
    "    \n",
    "    # titles\n",
    "    ax.set_title(f'\\n{level.title()} estimates\\n', fontsize=11)\n",
    "    \n",
    "    # x ticks\n",
    "    ax.set_xticks(xticks)\n",
    "    ax.set_xticklabels(averages_.County.values[xticks], horizontalalignment='right', rotation=45)\n",
    "    \n",
    "    # all ticks\n",
    "    ax.tick_params(labelsize='x-small')\n",
    "    \n",
    "    # limits\n",
    "    ax.set_ylim(bottom=-2, top=4.5)\n",
    "    \n",
    "    # labels\n",
    "    ax.set_xlabel('County', fontsize=10)\n",
    "    ax.set_ylabel('Radon estimate', fontsize=10)\n",
    "    "
   ]
  },
  {
   "cell_type": "markdown",
   "id": "66158565-1ed1-4774-a436-117383aa767f",
   "metadata": {},
   "source": [
    "<br>\n",
    "<br>\n",
    "\n",
    "**Ground Level Dispersions of High Density Intervals**"
   ]
  },
  {
   "cell_type": "markdown",
   "id": "005d599d-4bef-46da-86cc-5169c285a89b",
   "metadata": {},
   "source": [
    "Ground level posterior `measures`  high density interval data"
   ]
  },
  {
   "cell_type": "code",
   "execution_count": null,
   "id": "5086b853-0d08-4e9f-9f5a-204b61c9693b",
   "metadata": {},
   "outputs": [],
   "source": [
    "experiment = hdi_features['measures'].sel(Level='Ground')"
   ]
  },
  {
   "cell_type": "markdown",
   "id": "de455c8b-a30c-4130-99df-9122f03a39ba",
   "metadata": {},
   "source": [
    "<br>\n",
    "\n",
    "Hence, the differences and their parallel county names"
   ]
  },
  {
   "cell_type": "code",
   "execution_count": null,
   "id": "f3f2bb92-c892-4835-bc48-ae8499d1ff73",
   "metadata": {},
   "outputs": [],
   "source": [
    "differences = pd.DataFrame(data={'difference': experiment.sel(hdi='higher') - experiment.sel(hdi='lower'), \n",
    "                                 'county': experiment['County']})"
   ]
  },
  {
   "cell_type": "markdown",
   "id": "5ccd2763-a787-4509-9ac1-613c3f7063b7",
   "metadata": {},
   "source": [
    "<br>\n",
    "\n",
    "Differences and frequencies."
   ]
  },
  {
   "cell_type": "code",
   "execution_count": null,
   "id": "d7f23e68-26f4-4b9d-9c55-cca2982fd9e5",
   "metadata": {},
   "outputs": [],
   "source": [
    "values = frequencies.loc[frequencies['floor'] == coords['Level']['Ground'], ]\n",
    "dispersions = differences.merge(values, how='left', on='county')\n",
    "logger.info(dispersions.tail())"
   ]
  },
  {
   "cell_type": "markdown",
   "id": "f30d3664-b8f0-44de-a9f6-94340abdbeaf",
   "metadata": {},
   "source": [
    "<br>\n",
    "\n",
    "Some counties do not have any ground level data points"
   ]
  },
  {
   "cell_type": "code",
   "execution_count": null,
   "id": "c4d8fe3e-54f8-4a81-9711-d59f12310bb3",
   "metadata": {},
   "outputs": [],
   "source": [
    "dispersions.loc[:, 'N'] = dispersions['N'].fillna(value=0).array\n",
    "logger.info(dispersions.tail())"
   ]
  },
  {
   "cell_type": "markdown",
   "id": "cbc1df19-2f65-4461-bb1f-fde8962debb2",
   "metadata": {},
   "source": [
    "<br>\n",
    "\n",
    "The graph below illustrates that the large dispersions, intervals, are due counties that do not have data points."
   ]
  },
  {
   "cell_type": "code",
   "execution_count": null,
   "id": "95da1f38-d444-49e5-8afa-5b5a361b83bd",
   "metadata": {},
   "outputs": [],
   "source": [
    "ax = sketch.figure(width=5.7, height=2.3)\n",
    "\n",
    "ax.plot(dispersions['N'].array, dispersions['difference'].array, 'ok', markersize=3, alpha=0.5, label='dispersion points');\n",
    "sketch.annotation(ax, Labels(title='', xlabel='N', ylabel='dispersion'))\n",
    "ax.legend(loc='upper right', fontsize='small');"
   ]
  },
  {
   "cell_type": "markdown",
   "id": "7fa710fd-9dcf-48ab-879e-0f54b63fc0f8",
   "metadata": {},
   "source": [
    "<br>\n",
    "<br>\n",
    "\n",
    "**Funnel**"
   ]
  },
  {
   "cell_type": "markdown",
   "id": "17a90dca-53df-45eb-8c8f-9869e3f588bc",
   "metadata": {},
   "source": [
    "Upcoming"
   ]
  },
  {
   "cell_type": "markdown",
   "id": "fa59fd1e-c6ab-45c6-8ccc-4aa2e038ae94",
   "metadata": {},
   "source": [
    "<br>\n",
    "<br>\n",
    "\n",
    "**Estimates**"
   ]
  },
  {
   "cell_type": "markdown",
   "id": "44829b8d-fc19-429b-bb53-dd40a3375bc7",
   "metadata": {},
   "source": [
    "Upcoming"
   ]
  },
  {
   "cell_type": "code",
   "execution_count": null,
   "id": "72063036-03ce-41cf-a19c-bb6e97e8d5ea",
   "metadata": {},
   "outputs": [],
   "source": [
    "averages_features['measures'].sel(County='AITKIN')"
   ]
  },
  {
   "cell_type": "code",
   "execution_count": null,
   "id": "6f6c346d-4c79-412f-a63f-f2f76f2261b7",
   "metadata": {},
   "outputs": [],
   "source": [
    "unpooled_.observed_data['y'][unpooled_.observed_data.coords['County'] == 'AITKIN']"
   ]
  },
  {
   "cell_type": "markdown",
   "id": "a3af2a92-6950-4be4-8ff1-6a841cfd6c3f",
   "metadata": {},
   "source": [
    "<br>\n",
    "<br>\n",
    "\n",
    "**Clean-up**"
   ]
  },
  {
   "cell_type": "code",
   "execution_count": null,
   "id": "f17eaa67-c5aa-4363-8426-3d872ce81638",
   "metadata": {},
   "outputs": [],
   "source": [
    "del hdi_features, hdi_, averages_features, averages_"
   ]
  },
  {
   "cell_type": "markdown",
   "id": "1269268b-7766-4989-bfa1-d68a9d981671",
   "metadata": {},
   "source": [
    "<br>\n",
    "<br>\n",
    "\n",
    "### Inference Data"
   ]
  },
  {
   "cell_type": "code",
   "execution_count": null,
   "id": "45a37315-a249-4170-97a5-f899e49ef34e",
   "metadata": {},
   "outputs": [],
   "source": [
    "unpooled_"
   ]
  },
  {
   "cell_type": "markdown",
   "id": "fd21ebdd-0072-4a88-ab86-dd0599260d7f",
   "metadata": {},
   "source": [
    "<br>\n",
    "<br>\n",
    "<br>\n",
    "\n",
    "## Partial"
   ]
  },
  {
   "cell_type": "markdown",
   "id": "2ee37569-99a1-4e06-bbec-afedf4dca8b5",
   "metadata": {},
   "source": [
    "### Model"
   ]
  },
  {
   "cell_type": "code",
   "execution_count": null,
   "id": "b375a3e2-0a5e-42e6-a2d9-07559fbc4a3c",
   "metadata": {},
   "outputs": [],
   "source": [
    "partial = src.models.partial.Partial(coords=coords, seed=RANDOM_SEED).exc(data=excerpt)"
   ]
  },
  {
   "cell_type": "markdown",
   "id": "736bbb11-1a00-447e-a59d-739c60df52f1",
   "metadata": {},
   "source": [
    "<br>\n",
    "\n",
    "An illustration of model\n",
    "\n",
    "* Similarly: `pm.model_to_graphviz(partial)`"
   ]
  },
  {
   "cell_type": "code",
   "execution_count": null,
   "id": "9a78ffd1-d45c-460a-a8e9-586f1389a118",
   "metadata": {},
   "outputs": [],
   "source": [
    "name = 'partial.gv'\n",
    "dag.exc(model=partial, name=name)\n",
    "graphviz.Source.from_file(filename=os.path.join(path, name))"
   ]
  },
  {
   "cell_type": "markdown",
   "id": "94a6dd25-2bb0-4974-92d1-42ef5c59589a",
   "metadata": {},
   "source": [
    "<br>\n",
    "<br>\n",
    "\n",
    "### Inference"
   ]
  },
  {
   "cell_type": "code",
   "execution_count": null,
   "id": "90038932-5939-49e8-9862-3aa18615694b",
   "metadata": {},
   "outputs": [],
   "source": [
    "partial_ = src.models.inference.Inference(model=partial).exc()"
   ]
  },
  {
   "cell_type": "code",
   "execution_count": null,
   "id": "afdf7268-8c64-41a7-9cf3-23740ed19a02",
   "metadata": {},
   "outputs": [],
   "source": [
    "partial_"
   ]
  },
  {
   "cell_type": "markdown",
   "id": "72e4890f-86cb-4232-b401-c58aeb4ca745",
   "metadata": {},
   "source": [
    "<br>\n",
    "\n",
    "Enrich"
   ]
  },
  {
   "cell_type": "code",
   "execution_count": null,
   "id": "b6b77471-2888-46ca-b49f-fd6a8083120b",
   "metadata": {},
   "outputs": [],
   "source": [
    "partial_ = src.models.mapping.Mapping(inferences=partial_, coords=coords).exc()"
   ]
  },
  {
   "cell_type": "code",
   "execution_count": null,
   "id": "22a63baf-ab35-4776-9d3a-f607bb85712e",
   "metadata": {},
   "outputs": [],
   "source": [
    "partial_"
   ]
  },
  {
   "cell_type": "markdown",
   "id": "d0fd2e31-ccf8-4ed9-a42d-fffefec2c83d",
   "metadata": {},
   "source": [
    "<br>\n",
    "<br>\n",
    "\n",
    "### Posterior Measures"
   ]
  },
  {
   "cell_type": "markdown",
   "id": "a3c86a0e-097c-40a7-9460-9287d40858be",
   "metadata": {},
   "source": [
    "<br>\n",
    "\n",
    "**Preliminaries**"
   ]
  },
  {
   "cell_type": "markdown",
   "id": "7cfd3001-bb3c-44a9-b138-7b8c4b2ae7fc",
   "metadata": {},
   "source": [
    "The frequencies"
   ]
  },
  {
   "cell_type": "code",
   "execution_count": null,
   "id": "4ea5e522-9249-4b79-b08e-85de3807206a",
   "metadata": {},
   "outputs": [],
   "source": [
    "logger.info(frequencies.head())"
   ]
  },
  {
   "cell_type": "markdown",
   "id": "af8be35b-d4e3-416d-ae8f-de7454f37eec",
   "metadata": {},
   "source": [
    "<br>\n",
    "\n",
    "Tallies by county only."
   ]
  },
  {
   "cell_type": "code",
   "execution_count": null,
   "id": "75174011-3a2b-4262-85a3-4d89213f71e9",
   "metadata": {},
   "outputs": [],
   "source": [
    "T = frequencies.groupby(by=['county', 'countyindex']).agg(N=('N', sum))\n",
    "T.reset_index(drop=False, inplace=True)\n",
    "K = T.copy().set_index(keys='countyindex')\n",
    "\n",
    "logger.info(T.tail())\n",
    "logger.info(K.tail())"
   ]
  },
  {
   "cell_type": "markdown",
   "id": "2f19266e-dd11-485d-a33c-1d8d687bcc01",
   "metadata": {},
   "source": [
    "<br>\n",
    "\n",
    "Extra co${\\ddot{o}}$rdinates\n",
    "\n",
    "\n",
    "\n",
    "> ```python \n",
    "indices[-5:]\n"
   ]
  },
  {
   "cell_type": "code",
   "execution_count": null,
   "id": "2d773b04-edb2-495f-9c36-12b8aa6520c3",
   "metadata": {},
   "outputs": [],
   "source": [
    "indices = partial_.posterior.coords['CountyIndex'].values"
   ]
  },
  {
   "cell_type": "code",
   "execution_count": null,
   "id": "0ac70db7-40b9-44da-bac9-68266233e891",
   "metadata": {},
   "outputs": [],
   "source": [
    "partial_.posterior = partial_.posterior.assign_coords({'Tally': ('County', K.iloc[indices, :]['N'].array)})"
   ]
  },
  {
   "cell_type": "code",
   "execution_count": null,
   "id": "23eb44e1-393c-478f-a011-f56364f545c9",
   "metadata": {},
   "outputs": [],
   "source": [
    "partial_"
   ]
  },
  {
   "cell_type": "markdown",
   "id": "2d068929-5e86-4a5c-8cfe-cf1e01657926",
   "metadata": {},
   "source": [
    "<br>\n",
    "\n",
    "**Posterior Mean**"
   ]
  },
  {
   "cell_type": "code",
   "execution_count": null,
   "id": "6f62750f-143a-4535-855d-7687291fdc39",
   "metadata": {},
   "outputs": [],
   "source": [
    "averages_features = partial_.posterior.mean(dim=('chain', 'draw'))\n",
    "averages_features"
   ]
  },
  {
   "cell_type": "markdown",
   "id": "2c8d2e1e-1b41-4f3a-81c8-2b87865ce039",
   "metadata": {},
   "source": [
    "<br>\n",
    "\n",
    "**Posterior Check**"
   ]
  },
  {
   "cell_type": "code",
   "execution_count": null,
   "id": "05bf36f1-b94b-4f7a-a2d3-095ed2b89c1f",
   "metadata": {},
   "outputs": [],
   "source": [
    "hdi_features = az.hdi(partial_)\n",
    "hdi_features"
   ]
  },
  {
   "cell_type": "markdown",
   "id": "acdc9444-182d-488c-9f70-f0f784843fe9",
   "metadata": {},
   "source": [
    "<br>\n",
    "<br>\n",
    "\n",
    "### Graphs"
   ]
  },
  {
   "cell_type": "markdown",
   "id": "507de3f0-a60d-4e9b-9fcf-0f59382c33d7",
   "metadata": {},
   "source": [
    "<br>\n",
    "\n",
    "**High Density Intervals, Averages,Tallies**"
   ]
  },
  {
   "cell_type": "markdown",
   "id": "bf4cdd93-b381-4a88-8f55-9e5683b39513",
   "metadata": {},
   "source": [
    "County tally, posterior mean, and high density interval.  `Either`"
   ]
  },
  {
   "cell_type": "code",
   "execution_count": null,
   "id": "1b427790-91d8-422b-bb6c-22ffec6754d8",
   "metadata": {},
   "outputs": [],
   "source": [
    "ax = sketch.figure(width=4.1, height=2.5)\n",
    "\n",
    "# scatter plot\n",
    "ax.plot(averages_features.coords['Tally'].values, averages_features['intercepts'].values, 'ok', markersize=3, alpha=0.5);\n",
    "\n",
    "# high density interval lines\n",
    "ax.vlines(\n",
    "    hdi_features.coords['Tally'].values,\n",
    "    hdi_features['intercepts'].sel(hdi='lower').values,\n",
    "    hdi_features['intercepts'].sel(hdi='higher').values,\n",
    "    color='orange',\n",
    "    linestyles='dashed',\n",
    "    alpha=0.6,\n",
    ")\n",
    "\n",
    "# logarithmic scale\n",
    "ax.set(xscale='log')\n",
    "\n",
    "# annotations\n",
    "sketch.annotation(ax, Labels(title='', xlabel='ln(# of county observations)', ylabel='mean(ln(radon))'))"
   ]
  },
  {
   "cell_type": "markdown",
   "id": "51d4a5e6-cf77-4c2e-aeac-3ed7f61fe688",
   "metadata": {},
   "source": [
    "<br>\n",
    "\n",
    "`Or`"
   ]
  },
  {
   "cell_type": "code",
   "execution_count": null,
   "id": "8718b50c-2b6a-4fc8-a2d2-c508d66501b9",
   "metadata": {},
   "outputs": [],
   "source": [
    "ax = sketch.figure(width=4.1, height=2.5)\n",
    "\n",
    "# limits\n",
    "X = np.concatenate((np.expand_dims(hdi_features['intercepts'].sel(hdi='lower').values, axis=0),\n",
    "                    np.expand_dims(hdi_features['intercepts'].sel(hdi='higher').values, axis=0)))\n",
    "\n",
    "points = averages_features['intercepts'].values\n",
    "Y = np.concatenate((np.expand_dims(points - hdi_features['intercepts'].sel(hdi='lower').values, axis=0),\n",
    "                    np.expand_dims(hdi_features['intercepts'].sel(hdi='higher').values - points, axis=0)))\n",
    "\n",
    "# graph\n",
    "ax.errorbar(averages_features.coords['Tally'].values, \n",
    "            averages_features['intercepts'].values, \n",
    "            Y, \n",
    "            uplims=True, lolims=True,\n",
    "            ecolor='orange', \n",
    "            marker='o', markersize=3, markerfacecolor='k', markeredgecolor='k', \n",
    "            linestyle='',\n",
    "            alpha=0.5)\n",
    "\n",
    "# logarithmic scale\n",
    "ax.set(xscale='log')\n",
    "\n",
    "# annotations\n",
    "sketch.annotation(ax, Labels(title='', xlabel='ln(# of county observations)', ylabel='mean(ln(radon))'))"
   ]
  },
  {
   "cell_type": "markdown",
   "id": "d224a84b-d1a5-4912-b666-ed5586fbe922",
   "metadata": {},
   "source": [
    "<br>\n",
    "<br>\n",
    "\n",
    "**Clean-up**"
   ]
  },
  {
   "cell_type": "code",
   "execution_count": null,
   "id": "3dfbedaf-1f06-4749-b44c-804352177e4b",
   "metadata": {},
   "outputs": [],
   "source": [
    "del X, Y, hdi_features, averages_features"
   ]
  },
  {
   "cell_type": "markdown",
   "id": "280bdab5-d678-477b-8e2a-ce096fd9f5bf",
   "metadata": {},
   "source": [
    "<br>\n",
    "<br>\n",
    "\n",
    "### Inference Data"
   ]
  },
  {
   "cell_type": "code",
   "execution_count": null,
   "id": "5bf4852f-d542-4be7-8013-a3d71dcf1dfb",
   "metadata": {},
   "outputs": [],
   "source": [
    "partial_"
   ]
  },
  {
   "cell_type": "markdown",
   "id": "9c5881f5-59fa-4688-bad3-3f0a0e534a08",
   "metadata": {},
   "source": [
    "<br>\n",
    "<br>\n",
    "<br>\n",
    "\n",
    "## Varying Intercept"
   ]
  },
  {
   "cell_type": "markdown",
   "id": "80a96fe0-f108-4afe-86b7-50cc01d98a5e",
   "metadata": {},
   "source": [
    "### Model"
   ]
  },
  {
   "cell_type": "code",
   "execution_count": null,
   "id": "016fff7c-3f04-4b3d-94ea-f5af35f8feb1",
   "metadata": {},
   "outputs": [],
   "source": [
    "vi = src.models.vi.VI(coords=coords, seed=RANDOM_SEED).exc(data=excerpt)"
   ]
  },
  {
   "cell_type": "markdown",
   "id": "162c89cb-ddf0-44a9-90a3-611b3b948320",
   "metadata": {},
   "source": [
    "<br>\n",
    "\n",
    "An illustration of model\n",
    "\n",
    "* Similarly: `pm.model_to_graphviz(vi)`"
   ]
  },
  {
   "cell_type": "code",
   "execution_count": null,
   "id": "1dd4eab7-3a37-4521-8f0d-de7109bb3cd8",
   "metadata": {},
   "outputs": [],
   "source": [
    "name = 'vi.gv'\n",
    "dag.exc(model=vi, name=name)\n",
    "graphviz.Source.from_file(filename=os.path.join(path, name))"
   ]
  },
  {
   "cell_type": "markdown",
   "id": "4375ee77-6f49-429b-82b1-4678520aea10",
   "metadata": {},
   "source": [
    "<br>\n",
    "<br>\n",
    "\n",
    "### Inference"
   ]
  },
  {
   "cell_type": "code",
   "execution_count": null,
   "id": "e8900a70-8424-4978-b3ce-25e941ce4a75",
   "metadata": {},
   "outputs": [],
   "source": [
    "vi_ = src.models.inference.Inference(model=vi).exc()"
   ]
  },
  {
   "cell_type": "code",
   "execution_count": null,
   "id": "26a67091-3015-4587-b565-da9a7ee2fd1f",
   "metadata": {},
   "outputs": [],
   "source": [
    "vi_"
   ]
  }
 ],
 "metadata": {
  "kernelspec": {
   "display_name": "Python 3 (ipykernel)",
   "language": "python",
   "name": "python3"
  },
  "language_info": {
   "codemirror_mode": {
    "name": "ipython",
    "version": 3
   },
   "file_extension": ".py",
   "mimetype": "text/x-python",
   "name": "python",
   "nbconvert_exporter": "python",
   "pygments_lexer": "ipython3",
   "version": "3.8.13"
  },
  "toc-showtags": false,
  "vscode": {
   "interpreter": {
    "hash": "d4d1e4263499bec80672ea0156c357c1ee493ec2b1c70f0acce89fc37c4a6abe"
   }
  }
 },
 "nbformat": 4,
 "nbformat_minor": 5
}
